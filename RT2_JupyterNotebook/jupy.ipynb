{
 "cells": [
  {
   "cell_type": "markdown",
   "id": "14730cbf",
   "metadata": {},
   "source": [
    "Research Track 2 Assignment \n",
    "=====\n",
    "Basit Akram (5161322)\n",
    "=====\n",
    "\n",
    "\n",
    "# How to execute\n",
    "\n",
    "You should run the launching file below.\n",
    "```\n",
    "$ roslaunch rt2_assignment rt2_assignment.launch\n",
    "```\n",
    "After launching, you should run Restart & Run All' command in jupyter notebook and you can manipulate the car robot."
   ]
  },
  {
   "cell_type": "markdown",
   "id": "c1102702",
   "metadata": {},
   "source": [
    "## Import libralies"
   ]
  },
  {
   "cell_type": "code",
   "execution_count": 2,
   "id": "13e46777",
   "metadata": {},
   "outputs": [],
   "source": [
    "import rospy\n",
    "import time\n",
    "import os\n",
    "import tf\n",
    "import sys\n",
    "import actionlib\n",
    "import numpy as np\n",
    "import matplotlib as mpl\n",
    "import matplotlib.pyplot as plt\n",
    "import ipywidgets as widgets\n",
    "import jupyros as jr\n",
    "from nav_msgs.msg import Odometry\n",
    "from tf.transformations import quaternion_matrix\n",
    "from matplotlib.animation import FuncAnimation\n",
    "from matplotlib import pyplot as plt\n",
    "from jupyros import ros3d\n",
    "from geometry_msgs.msg import Twist\n",
    "from sensor_msgs.msg import LaserScan\n",
    "from IPython.display import display\n",
    "from IPython.display import clear_output\n",
    "from ipywidgets import Button, Layout, ButtonStyle, GridBox, VBox, HBox\n",
    "from std_msgs.msg import Float32, Int32\n",
    "from rt2_first_assignment.srv import Cmd\n",
    "from rt2_first_assignment.srv import Dist\n",
    "from rt2_first_assignment.msg import reach"
   ]
  },
  {
   "cell_type": "markdown",
   "id": "6d31f16e",
   "metadata": {},
   "source": [
    "## Initializing ROS node"
   ]
  },
  {
   "cell_type": "code",
   "execution_count": 3,
   "id": "9f8efda3",
   "metadata": {},
   "outputs": [],
   "source": [
    "rospy.init_node('jupy')\n",
    "# Service for selecting the mode\n",
    "client_cmd = rospy.ServiceProxy(\"/cmd\", Cmd)\n",
    "# Service for the destination in auto drive mode\n",
    "client_dist = rospy.ServiceProxy(\"/dist\", Dist)\n",
    "# publishing velocity \n",
    "vel_pub = jr.publish('cmd_vel', Twist)"
   ]
  },
  {
   "cell_type": "markdown",
   "id": "a20d9ab7",
   "metadata": {},
   "source": [
    "## UI: implementing the buttons"
   ]
  },
  {
   "cell_type": "code",
   "execution_count": 4,
   "id": "d87d65c5",
   "metadata": {
    "scrolled": true
   },
   "outputs": [],
   "source": [
    "# buttons for selecting modes\n",
    "b1 = Button(description = 'Auto_drive mode',\n",
    "           layout = Layout(width = 'auto', align = \"center\", grid_area = 'b1'),\n",
    "           style = ButtonStyle(button_color = 'blue'))\n",
    "\n",
    "b2 = Button(description = 'Manual_drive mode',\n",
    "           layout = Layout(width = 'auto', grid_area = 'b2'),\n",
    "           style = ButtonStyle(button_color = 'blue'))\n",
    "\n",
    "b3 = Button(description = 'Assisted_drive mode',\n",
    "           layout = Layout(width = 'auto', grid_area = 'b3'),\n",
    "           style = ButtonStyle(button_color = 'blue'))\n",
    "\n",
    "b4 = Button(description = 'Cancel Goal',\n",
    "           layout = Layout(width = 'auto', grid_area = 'b4'),\n",
    "           style = ButtonStyle(button_color = 'Yellow'))\n",
    "\n",
    "b5 = Button(description = 'Reset Position',\n",
    "           layout = Layout(width = 'auto', grid_area = 'b5'),\n",
    "           style = ButtonStyle(button_color = 'lightblue'))\n",
    "\n",
    "b6 = Button(description = 'End Program',\n",
    "           layout = Layout(width = 'auto', grid_area = 'b6'),\n",
    "           style = ButtonStyle(button_color = 'red'))\n",
    "\n",
    "b7 = Button(description = 'Send Goal',\n",
    "           layout = Layout(width = 'auto', grid_area = 'b7'),\n",
    "           style = ButtonStyle(button_color = 'GreenYellow'))\n",
    "\n",
    "\n",
    "# buttons for manual mode\n",
    "b8 = Button(description = 'Turn Left',\n",
    "           layout = Layout(width = 'auto', grid_area = 'b8'),\n",
    "           style = ButtonStyle(button_color = 'GreenYellow'))\n",
    "\n",
    "b9 = Button(description = 'Move Forward',\n",
    "           layout = Layout(width = 'auto', grid_area = 'b9'),\n",
    "           style = ButtonStyle(button_color = 'GreenYellow'))\n",
    "\n",
    "b10 = Button(description = 'Turn Right',\n",
    "           layout = Layout(width = 'auto', grid_area = 'b10'),\n",
    "           style = ButtonStyle(button_color = 'GreenYellow'))\n",
    "\n",
    "b11 = Button(description = 'Move Backward',\n",
    "           layout = Layout(width = 'auto', grid_area = 'b11'),\n",
    "           style = ButtonStyle(button_color = 'GreenYellow'))\n",
    "\n",
    "b12 = Button(description = 'Stop',\n",
    "           layout = Layout(width = 'auto', grid_area = 'b12'),\n",
    "           style = ButtonStyle(button_color = 'Yellow'))\n",
    "\n",
    "\n",
    "# getting the destination in auto drive mode\n",
    "decided_x = widgets.FloatText(\n",
    "    value = 0,\n",
    "    description = 'X goal:',\n",
    "    disabled = False,\n",
    ")\n",
    "\n",
    "decided_y = widgets.FloatText(\n",
    "    value = 0,\n",
    "    description = 'Y goal:',\n",
    "    disabled = False,\n",
    ")"
   ]
  },
  {
   "cell_type": "markdown",
   "id": "8e94deaf",
   "metadata": {},
   "source": [
    "## Function related to robot movement"
   ]
  },
  {
   "cell_type": "code",
   "execution_count": 5,
   "id": "0e64c795",
   "metadata": {},
   "outputs": [],
   "source": [
    "# Define vel msg\n",
    "vel_msg = Twist()\n",
    "# Publisher for the velocity  in　Manual Drive　and assisted_drive.\n",
    "input_vel_pub = rospy.Publisher('/input_cmd_vel', Twist, queue_size = 100)\n",
    "global cmd, pos_x, pos_y, vel_msg, vel\n",
    "    \n",
    "# the fuctions in each mode\n",
    "def auto_drive(b):\n",
    "    rospy.wait_for_service(\"/cmd\")\n",
    "    print(\"Auto Drive\")\n",
    "    cmd = 1\n",
    "    res1 = client_cmd(cmd)\n",
    "\n",
    "def manual_drive(b):\n",
    "    rospy.wait_for_service(\"/cmd\")\n",
    "    print(\"Manual Drive\")\n",
    "    cmd = 2\n",
    "    res1 = client_cmd(cmd)\n",
    "     \n",
    "def assisted_drive(b):\n",
    "    rospy.wait_for_service(\"/cmd\")\n",
    "    print(\"Assisted Drive\")\n",
    "    cmd = 3\n",
    "    res1 = client_cmd(cmd)\n",
    "    \n",
    "def cancel_goal(b):\n",
    "    rospy.wait_for_service(\"/cmd\")\n",
    "    print(\"cancel the goal\")\n",
    "    cmd = 4\n",
    "    res1 = client_cmd(cmd)\n",
    "    \n",
    "def reset_position(b):\n",
    "    rospy.wait_for_service(\"/cmd\")\n",
    "    print(\"car's position is resetted\")\n",
    "    cmd = 5\n",
    "    res1 = client_cmd(cmd)\n",
    "    \n",
    "def end_program(b):\n",
    "    rospy.wait_for_service(\"/cmd\")\n",
    "    print(\"end program\")\n",
    "    cmd = 0\n",
    "    res1 = client_cmd(cmd)\n",
    "    \n",
    "# the destenation is fixed in auto drive mode\n",
    "def set_position(b):\n",
    "    rospy.wait_for_service(\"/dist\")\n",
    "    global decided_x, decided_y\n",
    "    pos_x = decided_x.value\n",
    "    pos_y = decided_y.value\n",
    "    res2 = client_dist(pos_x, pos_y)\n",
    "    print(\"destination is sent\")\n",
    "    \n",
    "# Publishes the velocity in　Manual Drive　and assisted_drive.\n",
    "def move_forward(b):\n",
    "    vel_msg.linear.x = 0.5\n",
    "    vel_msg.linear.y = 0\n",
    "    vel_msg.linear.z = 0\n",
    "    vel_msg.angular.x = 0\n",
    "    vel_msg.angular.y = 0\n",
    "    vel_msg.angular.z = 0\n",
    "    input_vel_pub.publish(vel_msg)\n",
    "\n",
    "def turn_left(b):\n",
    "    vel_msg.linear.x = 0\n",
    "    vel_msg.linear.y = 0\n",
    "    vel_msg.linear.z = 0\n",
    "    vel_msg.angular.x = 0\n",
    "    vel_msg.angular.y = 0\n",
    "    vel_msg.angular.z = 0.5\n",
    "    input_vel_pub.publish(vel_msg)\n",
    "\n",
    "def turn_right(b):\n",
    "    vel_msg.linear.x = 0\n",
    "    vel_msg.linear.y = 0\n",
    "    vel_msg.linear.z = 0\n",
    "    vel_msg.angular.x = 0\n",
    "    vel_msg.angular.y = 0\n",
    "    vel_msg.angular.z = -0.5\n",
    "    input_vel_pub.publish(vel_msg)\n",
    "    \n",
    "def move_backward(b):\n",
    "    vel_msg.linear.x = -0.5\n",
    "    vel_msg.linear.y = 0\n",
    "    vel_msg.linear.z = 0\n",
    "    vel_msg.angular.x = 0\n",
    "    vel_msg.angular.y = 0\n",
    "    vel_msg.angular.z = 0\n",
    "    input_vel_pub.publish(vel_msg)\n",
    "    \n",
    "def stop(b):\n",
    "    vel_msg.linear.x = 0\n",
    "    vel_msg.linear.y = 0\n",
    "    vel_msg.linear.z = 0\n",
    "    vel_msg.angular.x = 0\n",
    "    vel_msg.angular.y = 0\n",
    "    vel_msg.angular.z = 0\n",
    "    input_vel_pub.publish(vel_msg)\n",
    "    \n",
    "# each functions is called when a button is clicked\n",
    "b1.on_click(auto_drive)\n",
    "b2.on_click(manual_drive)\n",
    "b3.on_click(assisted_drive)\n",
    "b4.on_click(cancel_goal)\n",
    "b5.on_click(reset_position)\n",
    "b6.on_click(end_program)\n",
    "b7.on_click(set_position)\n",
    "b8.on_click(turn_left)\n",
    "b9.on_click(move_forward)\n",
    "b10.on_click(turn_right)\n",
    "b11.on_click(move_backward)\n",
    "b12.on_click(stop)"
   ]
  },
  {
   "cell_type": "markdown",
   "id": "4f545f99",
   "metadata": {},
   "source": [
    "## Choose the mode"
   ]
  },
  {
   "cell_type": "code",
   "execution_count": 6,
   "id": "233ba984",
   "metadata": {
    "scrolled": true
   },
   "outputs": [
    {
     "name": "stdout",
     "output_type": "stream",
     "text": [
      "Choose the mode\n"
     ]
    },
    {
     "data": {
      "application/vnd.jupyter.widget-view+json": {
       "model_id": "511d048d4ff94b34888f67e42ceaa762",
       "version_major": 2,
       "version_minor": 0
      },
      "text/plain": [
       "GridBox(children=(Button(description='Auto_drive mode', layout=Layout(grid_area='b1', width='auto'), style=But…"
      ]
     },
     "metadata": {},
     "output_type": "display_data"
    }
   ],
   "source": [
    "print('Choose the mode')\n",
    "\n",
    "GridBox(children = [b1, b2, b3, b4, b5, b6],\n",
    "       layout = Layout(\n",
    "           width = '100%',\n",
    "           grid_template_rows = 'auto auto auto',\n",
    "           grid_template_columns = '50% 50%',\n",
    "           grid_template_areas = '''\n",
    "           \"b1 b4\"\n",
    "           \"b2 b5\"\n",
    "           \"b3 b6\"\n",
    "           ''')\n",
    "        )"
   ]
  },
  {
   "cell_type": "markdown",
   "id": "17d8f81b",
   "metadata": {},
   "source": [
    "## Select (x,y) goal in auto drive mode"
   ]
  },
  {
   "cell_type": "code",
   "execution_count": 7,
   "id": "85286b9b",
   "metadata": {
    "scrolled": true
   },
   "outputs": [
    {
     "name": "stdout",
     "output_type": "stream",
     "text": [
      "Select (x,y) goal position and send the goal \n"
     ]
    },
    {
     "data": {
      "application/vnd.jupyter.widget-view+json": {
       "model_id": "490c0a90a0754d6e8dab65a665bc763f",
       "version_major": 2,
       "version_minor": 0
      },
      "text/plain": [
       "GridBox(children=(FloatText(value=0.0, description='X goal:'), FloatText(value=0.0, description='Y goal:'), Bu…"
      ]
     },
     "metadata": {},
     "output_type": "display_data"
    }
   ],
   "source": [
    "print('Select (x,y) goal position and send the goal ')\n",
    "\n",
    "GridBox(children = [decided_x, decided_y, b7],\n",
    "       layout = Layout(\n",
    "           width = '100%',\n",
    "           grid_template_rows = 'auto auto',\n",
    "           grid_template_columns = '50% 50%',\n",
    "           grid_template_areas = '''\n",
    "           \"decided_x decided_y\"\n",
    "           \"b7 b7\"\n",
    "           ''')\n",
    "        )"
   ]
  },
  {
   "cell_type": "markdown",
   "id": "1a2e8ffb",
   "metadata": {},
   "source": [
    "## Choose direction in manual mode and assisted mode"
   ]
  },
  {
   "cell_type": "code",
   "execution_count": 8,
   "id": "d6c5339d",
   "metadata": {
    "scrolled": true
   },
   "outputs": [
    {
     "name": "stdout",
     "output_type": "stream",
     "text": [
      "Maneuver the robot\n"
     ]
    },
    {
     "data": {
      "application/vnd.jupyter.widget-view+json": {
       "model_id": "28554ec55ec540ddaf2943a11ff8a1cd",
       "version_major": 2,
       "version_minor": 0
      },
      "text/plain": [
       "GridBox(children=(Button(description='Turn Left', layout=Layout(grid_area='b8', width='auto'), style=ButtonSty…"
      ]
     },
     "metadata": {},
     "output_type": "display_data"
    }
   ],
   "source": [
    "print('Maneuver the robot')\n",
    "\n",
    "GridBox(children = [b8, b9, b10, b11, b12],\n",
    "       layout = Layout(\n",
    "           width = '100%',\n",
    "           grid_template_rows = 'auto auto auto',\n",
    "           grid_template_columns = '33% 33% 33%',\n",
    "           grid_template_areas = '''\n",
    "           \"b9 b9 b9\"\n",
    "           \"b8 b12 b10\"\n",
    "           \"b11 b11 b11\"\n",
    "           ''')\n",
    "        )"
   ]
  },
  {
   "cell_type": "markdown",
   "id": "bdda0452",
   "metadata": {},
   "source": [
    "## Data visualization for robot's position and whether it reaches or not"
   ]
  },
  {
   "cell_type": "code",
   "execution_count": 9,
   "id": "c5a9ff02",
   "metadata": {},
   "outputs": [],
   "source": [
    "class Odom_Visualiser:\n",
    "    def __init__(self):\n",
    "        self.fig_odom, self.ax1 = plt.subplots()\n",
    "        plt.grid(True)\n",
    "        self.ln1, = self.ax1.plot([], [], 'ro')\n",
    "        self.x_data, self.y_data = [], []\n",
    "    def plot_init(self):\n",
    "        self.ax1.set_title(\"Robot Odometry\", fontsize = 20, fontweight = 'bold')\n",
    "        self.ax1.set_xlabel(\"X [m]\", fontsize = 10, fontweight = \"bold\")\n",
    "        self.ax1.set_ylabel(\"Y [m]\", fontsize = 10, fontweight = \"bold\")\n",
    "        self.ax1.set_xlim(-20, 20)\n",
    "        self.ax1.set_ylim(-20, 20)\n",
    "        return self.ln1\n",
    "    \n",
    "    def odom_callback(self, msg):\n",
    "        self.y_data.append(msg.pose.pose.position.y)\n",
    "        self.x_data.append(msg.pose.pose.position.x)         \n",
    "        \n",
    "    def update_plot(self, frame):\n",
    "        self.ln1.set_data(self.x_data, self.y_data)\n",
    "        return self.ln1\n",
    "\n",
    "class Laser_Visualiser:\n",
    "    def __init__(self):\n",
    "        self.fig_laser = plt.figure(figsize = (7, 7))\n",
    "        self.ax2 = plt.subplot(111, polar = True)\n",
    "        plt.grid(True)\n",
    "        self.ax2.set_thetalim(-np.pi/2, np.pi/2)\n",
    "        self.ax2.set_rmax(20)\n",
    "        self.ax2.set_theta_zero_location(\"N\")\n",
    "        self.ln2, = self.ax2.plot([], [], 'b-')\n",
    "        self.laser_dist = []\n",
    "        self.laser_ang = []\n",
    "        \n",
    "    def plot_init(self):\n",
    "        self.ax2.set_title(\"Laser Scanner Data\", fontsize = 20, fontweight = \"bold\")\n",
    "        self.ax2.set_xlabel(\"Distance [m]\", fontsize = 10, fontweight = \"bold\")\n",
    "        return self.ln2\n",
    "    \n",
    "    def laser_callback(self, msg):\n",
    "        global laser_ang\n",
    "        self.laser_dist = msg.ranges\n",
    "        self.laser_ang = np.arange(msg.angle_min, msg.angle_max+msg.angle_increment, msg.angle_increment)\n",
    "        \n",
    "    def update_plot(self, frame):\n",
    "        global laser_ang\n",
    "        self.ax2.set_rmax(20)\n",
    "        self.ln2.set_data(self.laser_ang, self.laser_dist)\n",
    "        return self.ln2\n",
    "    \n",
    "class Goal_Visualiser:\n",
    "    def __init__(self):\n",
    "        self.fig_goal, self.ax3 = plt.subplots()\n",
    "        plt.grid(False)\n",
    "        self.reached = 0\n",
    "        self.unreached = 0\n",
    "        self.ln3 = plt.bar(['Reached', 'Unreached'], [self.reached, self.unreached], color = ['red', 'green'])\n",
    "        \n",
    "    def plot_init(self):\n",
    "        self.ax3.set_title(\"Goals are reached or not\", fontsize = 20, fontweight = \"bold\")\n",
    "        self.ax3.set_xlabel(\"Goal success\", fontsize = 10, fontweight = \"bold\")\n",
    "        self.ax3.set_ylabel(\"Numbers\", fontsize = 10, fontweight = \"bold\")\n",
    "        self.ax3.set_ylim(0, 16)\n",
    "        self.ax3.set_yticks(np.arange(0, 16, 2))\n",
    "        return self.ln3\n",
    "    \n",
    "    def goal_callback(self, msg):\n",
    "        self.reached = msg.reach\n",
    "        self.unreached = msg.unreach     \n",
    "        \n",
    "    def update_plot(self, frame):\n",
    "        self.ln3 = plt.bar(['Reached', 'Unreached'], [self.reached, self.unreached], color = ['red', 'green'])\n",
    "        return self.ln3"
   ]
  },
  {
   "cell_type": "code",
   "execution_count": 10,
   "id": "93a0342e",
   "metadata": {},
   "outputs": [
    {
     "data": {
      "application/vnd.jupyter.widget-view+json": {
       "model_id": "300cf2eb35b54fe3b98067f89d4db69c",
       "version_major": 2,
       "version_minor": 0
      },
      "text/plain": [
       "Canvas(toolbar=Toolbar(toolitems=[('Home', 'Reset original view', 'home', 'home'), ('Back', 'Back to previous …"
      ]
     },
     "metadata": {},
     "output_type": "display_data"
    },
    {
     "data": {
      "application/vnd.jupyter.widget-view+json": {
       "model_id": "cd07d3af301f43399e07fffa5a789daa",
       "version_major": 2,
       "version_minor": 0
      },
      "text/plain": [
       "Canvas(toolbar=Toolbar(toolitems=[('Home', 'Reset original view', 'home', 'home'), ('Back', 'Back to previous …"
      ]
     },
     "metadata": {},
     "output_type": "display_data"
    },
    {
     "data": {
      "application/vnd.jupyter.widget-view+json": {
       "model_id": "9d658fcac7ef4125836300ffb9631f01",
       "version_major": 2,
       "version_minor": 0
      },
      "text/plain": [
       "Canvas(toolbar=Toolbar(toolitems=[('Home', 'Reset original view', 'home', 'home'), ('Back', 'Back to previous …"
      ]
     },
     "metadata": {},
     "output_type": "display_data"
    }
   ],
   "source": [
    "%matplotlib widget\n",
    "odom_vis = Odom_Visualiser()\n",
    "subOdom = rospy.Subscriber('/odom', Odometry, odom_vis.odom_callback)\n",
    "ani1 = FuncAnimation(odom_vis.fig_odom, odom_vis.update_plot, init_func=odom_vis.plot_init,interval=1000, blit=False)\n",
    "laser_vis = Laser_Visualiser()\n",
    "subLaser = rospy.Subscriber('/scan', LaserScan, laser_vis.laser_callback)\n",
    "ani2 = FuncAnimation(laser_vis.fig_laser, laser_vis.update_plot, init_func=laser_vis.plot_init,interval=500, blit=False)\n",
    "goal_vis = Goal_Visualiser()\n",
    "subGoal = rospy.Subscriber('/status_goal', reach, goal_vis.goal_callback)\n",
    "ani3= FuncAnimation(goal_vis.fig_goal, goal_vis.update_plot, init_func=goal_vis.plot_init,interval=500, blit=True)"
   ]
  },
  {
   "cell_type": "code",
   "execution_count": null,
   "id": "b32578bb",
   "metadata": {},
   "outputs": [],
   "source": []
  }
 ],
 "metadata": {
  "kernelspec": {
   "display_name": "Python 3 (ipykernel)",
   "language": "python",
   "name": "python3"
  },
  "language_info": {
   "codemirror_mode": {
    "name": "ipython",
    "version": 3
   },
   "file_extension": ".py",
   "mimetype": "text/x-python",
   "name": "python",
   "nbconvert_exporter": "python",
   "pygments_lexer": "ipython3",
   "version": "3.8.10"
  },
  "widgets": {
   "application/vnd.jupyter.widget-state+json": {
    "state": {
     "0007bb653e2744cc902e9472179b0c63": {
      "model_module": "@jupyter-widgets/controls",
      "model_module_version": "1.5.0",
      "model_name": "LabelModel",
      "state": {
       "layout": "IPY_MODEL_1370516ad5054be699ba3ce47b8e7276",
       "style": "IPY_MODEL_e3ebd127b4504b68861ac26ba26634c3",
       "value": "z"
      }
     },
     "0035eba12be04f01aeea265124de0870": {
      "model_module": "@jupyter-widgets/base",
      "model_module_version": "1.2.0",
      "model_name": "LayoutModel",
      "state": {}
     },
     "00a0bd74b945428e91ebe85049d80f73": {
      "model_module": "@jupyter-widgets/base",
      "model_module_version": "1.2.0",
      "model_name": "LayoutModel",
      "state": {}
     },
     "00ab7325b9b84049993b641f2ff57875": {
      "model_module": "@jupyter-widgets/base",
      "model_module_version": "1.2.0",
      "model_name": "LayoutModel",
      "state": {
       "grid_area": "b9",
       "width": "auto"
      }
     },
     "00bc59c6d07944929da6994ecca503f0": {
      "model_module": "@jupyter-widgets/base",
      "model_module_version": "1.2.0",
      "model_name": "LayoutModel",
      "state": {}
     },
     "0140761537a144dd901b2b876c8d92d3": {
      "model_module": "@jupyter-widgets/controls",
      "model_module_version": "1.5.0",
      "model_name": "ButtonModel",
      "state": {
       "description": "Move Backward",
       "layout": "IPY_MODEL_4e75e1e34c804284a7e24d3a6f41cb0a",
       "style": "IPY_MODEL_9aebb027304c4e27acfadb14235fe883"
      }
     },
     "01747940936544429a6a581975da4e85": {
      "model_module": "@jupyter-widgets/base",
      "model_module_version": "1.2.0",
      "model_name": "LayoutModel",
      "state": {}
     },
     "0175a2178ed34164802428c6b7fa1dff": {
      "model_module": "@jupyter-widgets/controls",
      "model_module_version": "1.5.0",
      "model_name": "FloatTextModel",
      "state": {
       "layout": "IPY_MODEL_462589d1e6eb48989be27163c3639793",
       "step": null,
       "style": "IPY_MODEL_bc8396f7696a4ec291edd25c829cdda6"
      }
     },
     "01b4d4b460fb45dab5f30e46bb6ce997": {
      "model_module": "@jupyter-widgets/base",
      "model_module_version": "1.2.0",
      "model_name": "LayoutModel",
      "state": {}
     },
     "0256cf26496041849db7a63c7c6e8206": {
      "model_module": "@jupyter-widgets/controls",
      "model_module_version": "1.5.0",
      "model_name": "ButtonModel",
      "state": {
       "description": "Send Message",
       "layout": "IPY_MODEL_efea192bd2da43738fe740343cbdc362",
       "style": "IPY_MODEL_2da8dbedba23416384573e3d844e9791"
      }
     },
     "0374dc2668984f71bc56c170b1dae91e": {
      "model_module": "@jupyter-widgets/controls",
      "model_module_version": "1.5.0",
      "model_name": "DescriptionStyleModel",
      "state": {
       "description_width": ""
      }
     },
     "040ff410cb9740e28c7837c6e377745f": {
      "model_module": "@jupyter-widgets/base",
      "model_module_version": "1.2.0",
      "model_name": "LayoutModel",
      "state": {
       "grid_template_areas": "\n           \"decided_x decided_y\"\n           \"b7 b7\"\n           ",
       "grid_template_columns": "50% 50%",
       "grid_template_rows": "auto auto",
       "width": "100%"
      }
     },
     "04b4f65d8dd24468a070d68e9db50841": {
      "model_module": "@jupyter-widgets/controls",
      "model_module_version": "1.5.0",
      "model_name": "DescriptionStyleModel",
      "state": {
       "description_width": ""
      }
     },
     "05017244b78f47d8bce75f14cb21e5d6": {
      "model_module": "@jupyter-widgets/controls",
      "model_module_version": "1.5.0",
      "model_name": "LabelModel",
      "state": {
       "layout": "IPY_MODEL_453a4f43d7224a55b6ac590601b7d4da",
       "style": "IPY_MODEL_b454bb63bd14468094d0a8b90407d825",
       "value": "y"
      }
     },
     "051e8b2c13be4c86aaa26ca2a3ffb4a0": {
      "model_module": "@jupyter-widgets/controls",
      "model_module_version": "1.5.0",
      "model_name": "CheckboxModel",
      "state": {
       "description": "Latch Message",
       "disabled": false,
       "layout": "IPY_MODEL_c49d65d7687247689028b01e478b4654",
       "style": "IPY_MODEL_444b7f3239be42298f4be4d787d54525",
       "value": false
      }
     },
     "05805e85632e424ba7b7200bedc90b55": {
      "model_module": "@jupyter-widgets/base",
      "model_module_version": "1.2.0",
      "model_name": "LayoutModel",
      "state": {}
     },
     "05f95f3dfac14fcd81b4fe3d065abb11": {
      "model_module": "@jupyter-widgets/base",
      "model_module_version": "1.2.0",
      "model_name": "LayoutModel",
      "state": {}
     },
     "06517b9e72264b74b2c7688663b8878b": {
      "model_module": "@jupyter-widgets/controls",
      "model_module_version": "1.5.0",
      "model_name": "DescriptionStyleModel",
      "state": {
       "description_width": ""
      }
     },
     "066ec13b7dea48a69b5b6a0a8d49a9a2": {
      "model_module": "@jupyter-widgets/base",
      "model_module_version": "1.2.0",
      "model_name": "LayoutModel",
      "state": {}
     },
     "070f23f9123c4281ad49e5915eeee20c": {
      "model_module": "@jupyter-widgets/base",
      "model_module_version": "1.2.0",
      "model_name": "LayoutModel",
      "state": {
       "grid_area": "b11",
       "width": "auto"
      }
     },
     "074cbcd609f5437f93e215dc2ad8b04a": {
      "model_module": "@jupyter-widgets/controls",
      "model_module_version": "1.5.0",
      "model_name": "ButtonStyleModel",
      "state": {
       "button_color": "red"
      }
     },
     "087c80a0acf54b9d9e2845ac500f7257": {
      "model_module": "@jupyter-widgets/base",
      "model_module_version": "1.2.0",
      "model_name": "LayoutModel",
      "state": {}
     },
     "0903b8f3fec44ba7bc35281de803526e": {
      "model_module": "@jupyter-widgets/base",
      "model_module_version": "1.2.0",
      "model_name": "LayoutModel",
      "state": {}
     },
     "09967f126d2b4b1ca489dcfbb8eddd97": {
      "model_module": "@jupyter-widgets/base",
      "model_module_version": "1.2.0",
      "model_name": "LayoutModel",
      "state": {}
     },
     "0a3f2c99bf7b4ded89e50ebe4f5e76ff": {
      "model_module": "@jupyter-widgets/base",
      "model_module_version": "1.2.0",
      "model_name": "LayoutModel",
      "state": {}
     },
     "0b15f983bd144e3180c3aa0d55aa7867": {
      "model_module": "@jupyter-widgets/base",
      "model_module_version": "1.2.0",
      "model_name": "LayoutModel",
      "state": {}
     },
     "0b37e1e473e545e8b85b1f260f418186": {
      "model_module": "@jupyter-widgets/base",
      "model_module_version": "1.2.0",
      "model_name": "LayoutModel",
      "state": {}
     },
     "0b3f31a5df1240f194cf8366c8deb659": {
      "model_module": "@jupyter-widgets/controls",
      "model_module_version": "1.5.0",
      "model_name": "ButtonStyleModel",
      "state": {
       "button_color": "Yellow"
      }
     },
     "0b9efb8bf8fc443ebb3b69b74174e31e": {
      "model_module": "@jupyter-widgets/controls",
      "model_module_version": "1.5.0",
      "model_name": "LabelModel",
      "state": {
       "layout": "IPY_MODEL_71d48a16744042c4a8ab42ccac29f139",
       "style": "IPY_MODEL_1884baefb92b4948aa15adc8139501d3",
       "value": "angular"
      }
     },
     "0dca8ca434d546dc884d9fe73077fb48": {
      "model_module": "@jupyter-widgets/controls",
      "model_module_version": "1.5.0",
      "model_name": "ButtonStyleModel",
      "state": {}
     },
     "0e2a9f76dab242d19a6938ab066801e9": {
      "model_module": "@jupyter-widgets/controls",
      "model_module_version": "1.5.0",
      "model_name": "ButtonModel",
      "state": {
       "description": "Reset Position",
       "layout": "IPY_MODEL_39850f0e54f3450a943d106e01e8d7b9",
       "style": "IPY_MODEL_fc32c589645e47fe984b27c6499fd232"
      }
     },
     "0e92b87e572941fc86255102e94005ba": {
      "model_module": "@jupyter-widgets/controls",
      "model_module_version": "1.5.0",
      "model_name": "GridBoxModel",
      "state": {
       "children": [
        "IPY_MODEL_8b9d1796c9d24e0fbac4a5e7e065c954",
        "IPY_MODEL_102348817b1c41b88490757923c82904",
        "IPY_MODEL_df5590b981a5462d990df015e1f5cfa7",
        "IPY_MODEL_331aef244b20472f99d26b06c989fd65",
        "IPY_MODEL_510c689a6333421cb69fb83a53842a33",
        "IPY_MODEL_93f019820cfd4769b9ec5f0bae1fc1ab"
       ],
       "layout": "IPY_MODEL_9cd78c7bebab4714808bd20895903038"
      }
     },
     "0ec8accfcbd24a21b1c753a614dc582a": {
      "model_module": "@jupyter-widgets/controls",
      "model_module_version": "1.5.0",
      "model_name": "DescriptionStyleModel",
      "state": {
       "description_width": ""
      }
     },
     "0f1c6e67a9564480af8db5281e6681ce": {
      "model_module": "@jupyter-widgets/controls",
      "model_module_version": "1.5.0",
      "model_name": "DescriptionStyleModel",
      "state": {
       "description_width": ""
      }
     },
     "0fc996f446de4456a4c3cf666b49800f": {
      "model_module": "@jupyter-widgets/controls",
      "model_module_version": "1.5.0",
      "model_name": "HBoxModel",
      "state": {
       "children": [
        "IPY_MODEL_5934ea5fc78042c793fb8d248c24fd45",
        "IPY_MODEL_755065852ac8430a957c11a48d1a05eb"
       ],
       "layout": "IPY_MODEL_28693763967040e89d7a6567204e89b5"
      }
     },
     "0fd993d1fc9841a8be9741480f8251e0": {
      "model_module": "@jupyter-widgets/base",
      "model_module_version": "1.2.0",
      "model_name": "LayoutModel",
      "state": {
       "width": "100px"
      }
     },
     "102348817b1c41b88490757923c82904": {
      "model_module": "@jupyter-widgets/controls",
      "model_module_version": "1.5.0",
      "model_name": "ButtonModel",
      "state": {
       "description": "Manual_drive mode",
       "layout": "IPY_MODEL_8d69d54941e0460f8ca33da4f5789c13",
       "style": "IPY_MODEL_f632cc4d2a8e4e76a323fb24a151ee56"
      }
     },
     "11090ac9628b476f9a3cfd4eed2f69c7": {
      "model_module": "@jupyter-widgets/controls",
      "model_module_version": "1.5.0",
      "model_name": "DescriptionStyleModel",
      "state": {
       "description_width": ""
      }
     },
     "111f5253f3c340d2b5c266baf7a08c9b": {
      "model_module": "@jupyter-widgets/base",
      "model_module_version": "1.2.0",
      "model_name": "LayoutModel",
      "state": {}
     },
     "11298f7841354827bfb69b8dfcadf322": {
      "model_module": "@jupyter-widgets/controls",
      "model_module_version": "1.5.0",
      "model_name": "ButtonModel",
      "state": {
       "description": "Turn Right",
       "layout": "IPY_MODEL_4417873e83f045d995be8eba4c07d7da",
       "style": "IPY_MODEL_2ae91b3549c346fda7d337f104460e82"
      }
     },
     "1149f6d66862428bb0243c13b1dd7aca": {
      "model_module": "@jupyter-widgets/base",
      "model_module_version": "1.2.0",
      "model_name": "LayoutModel",
      "state": {}
     },
     "1158a8c03ea440f7bba323a36cbcd140": {
      "model_module": "@jupyter-widgets/controls",
      "model_module_version": "1.5.0",
      "model_name": "CheckboxModel",
      "state": {
       "description": "Latch Message",
       "disabled": false,
       "layout": "IPY_MODEL_667a8667955f41a1b44e3fa2b1f38242",
       "style": "IPY_MODEL_f96e30bbfe9d4e7fb533516592be5290",
       "value": false
      }
     },
     "125308a2760c4aae96260a24c78ce623": {
      "model_module": "@jupyter-widgets/controls",
      "model_module_version": "1.5.0",
      "model_name": "ButtonModel",
      "state": {
       "description": "Auto_drive mode",
       "layout": "IPY_MODEL_1ff7854390864a378496bdbf1318cf4f",
       "style": "IPY_MODEL_a578579ccde6455ebeec9fefd6ed87fe"
      }
     },
     "1370516ad5054be699ba3ce47b8e7276": {
      "model_module": "@jupyter-widgets/base",
      "model_module_version": "1.2.0",
      "model_name": "LayoutModel",
      "state": {
       "width": "100px"
      }
     },
     "139110903c904b5b9ec256d5446e0711": {
      "model_module": "@jupyter-widgets/controls",
      "model_module_version": "1.5.0",
      "model_name": "DescriptionStyleModel",
      "state": {
       "description_width": ""
      }
     },
     "13a32043f2b04a7880eb55024683b29c": {
      "model_module": "@jupyter-widgets/controls",
      "model_module_version": "1.5.0",
      "model_name": "ButtonStyleModel",
      "state": {
       "button_color": "GreenYellow"
      }
     },
     "13e3feca8bbf4e06baa472b1a44751c3": {
      "model_module": "@jupyter-widgets/controls",
      "model_module_version": "1.5.0",
      "model_name": "GridBoxModel",
      "state": {
       "children": [
        "IPY_MODEL_125308a2760c4aae96260a24c78ce623",
        "IPY_MODEL_380f5466a7914371886b1a2648fe88e8",
        "IPY_MODEL_e4673c3c720c464bb5d52f07ed555560",
        "IPY_MODEL_e0e223b86160439c8386668569f85b2a",
        "IPY_MODEL_ae52da78393d4eada7073a8bb06a6a93",
        "IPY_MODEL_ad1f48fef1ab415dab4979fc31f805ac"
       ],
       "layout": "IPY_MODEL_b40c981b57f14e6ab94cb0b2c1fc9651"
      }
     },
     "144514e25aac48a9b6b76e110623b5e8": {
      "model_module": "@jupyter-widgets/base",
      "model_module_version": "1.2.0",
      "model_name": "LayoutModel",
      "state": {}
     },
     "14bcb9bbbfc846ee898e76dc295d255e": {
      "model_module": "@jupyter-widgets/base",
      "model_module_version": "1.2.0",
      "model_name": "LayoutModel",
      "state": {
       "grid_area": "b4",
       "width": "auto"
      }
     },
     "181f10d2d3424588b67ed755dcac6758": {
      "model_module": "@jupyter-widgets/base",
      "model_module_version": "1.2.0",
      "model_name": "LayoutModel",
      "state": {
       "grid_area": "b10",
       "width": "auto"
      }
     },
     "182c4f2e50f241859e36b10353c500f0": {
      "model_module": "@jupyter-widgets/controls",
      "model_module_version": "1.5.0",
      "model_name": "LabelModel",
      "state": {
       "layout": "IPY_MODEL_5a78229bf135481bb94b2caa7c7207ea",
       "style": "IPY_MODEL_e5ff4e7e3e2f452ca5df6c8926753ac2",
       "value": "x"
      }
     },
     "182c8a386ff44ee4a588c00f865f47c3": {
      "model_module": "@jupyter-widgets/controls",
      "model_module_version": "1.5.0",
      "model_name": "GridBoxModel",
      "state": {
       "children": [
        "IPY_MODEL_a6917164021440a69c06666e2f2f2a5f",
        "IPY_MODEL_467d0183c95249c7b6418469491097a9",
        "IPY_MODEL_428786ec8cff4117a581b04709142bb0"
       ],
       "layout": "IPY_MODEL_dd4e991a30374134b967a444a8eb1d0b"
      }
     },
     "1832505f7737431198e630d959284335": {
      "model_module": "@jupyter-widgets/base",
      "model_module_version": "1.2.0",
      "model_name": "LayoutModel",
      "state": {}
     },
     "1884baefb92b4948aa15adc8139501d3": {
      "model_module": "@jupyter-widgets/controls",
      "model_module_version": "1.5.0",
      "model_name": "DescriptionStyleModel",
      "state": {
       "description_width": ""
      }
     },
     "19b5c97866e6444c97ac4dfa22de8906": {
      "model_module": "@jupyter-widgets/base",
      "model_module_version": "1.2.0",
      "model_name": "LayoutModel",
      "state": {
       "width": "100px"
      }
     },
     "19deecc730b44b0382c47d4484850c81": {
      "model_module": "@jupyter-widgets/controls",
      "model_module_version": "1.5.0",
      "model_name": "ButtonStyleModel",
      "state": {
       "button_color": "GreenYellow"
      }
     },
     "1a08b287a7ed456e85b14922098fa629": {
      "model_module": "@jupyter-widgets/controls",
      "model_module_version": "1.5.0",
      "model_name": "LabelModel",
      "state": {
       "layout": "IPY_MODEL_1c18b32a44684d11bd74398ff4281af3",
       "style": "IPY_MODEL_506f3246eeab4f47bd451bbd93198dd8",
       "value": "y"
      }
     },
     "1a766d0f088948eea6719af6ac2fe96f": {
      "model_module": "@jupyter-widgets/base",
      "model_module_version": "1.2.0",
      "model_name": "LayoutModel",
      "state": {
       "grid_template_areas": "\n           \"decided_x decided_y\"\n           \"b7 b7\"\n           ",
       "grid_template_columns": "50% 50%",
       "grid_template_rows": "auto auto",
       "width": "100%"
      }
     },
     "1a96094d6667459eb3aee01a56580a51": {
      "model_module": "@jupyter-widgets/base",
      "model_module_version": "1.2.0",
      "model_name": "LayoutModel",
      "state": {
       "width": "100px"
      }
     },
     "1b1cf4ee02d4476893320086500b2f14": {
      "model_module": "@jupyter-widgets/controls",
      "model_module_version": "1.5.0",
      "model_name": "FloatTextModel",
      "state": {
       "description": "X goal:",
       "layout": "IPY_MODEL_01b4d4b460fb45dab5f30e46bb6ce997",
       "step": null,
       "style": "IPY_MODEL_b229e014e65946a6b7384e897c7b33ec"
      }
     },
     "1b91bd219ef04afeb4db7c2a52b9ffc9": {
      "model_module": "@jupyter-widgets/controls",
      "model_module_version": "1.5.0",
      "model_name": "ButtonStyleModel",
      "state": {
       "button_color": "GreenYellow"
      }
     },
     "1ba12ac1e1804ff0ae9f4129cacfa800": {
      "model_module": "@jupyter-widgets/controls",
      "model_module_version": "1.5.0",
      "model_name": "DescriptionStyleModel",
      "state": {
       "description_width": ""
      }
     },
     "1c18b32a44684d11bd74398ff4281af3": {
      "model_module": "@jupyter-widgets/base",
      "model_module_version": "1.2.0",
      "model_name": "LayoutModel",
      "state": {
       "width": "100px"
      }
     },
     "1c998a7f4aef4bbbbe54ed9064ea0ada": {
      "model_module": "@jupyter-widgets/controls",
      "model_module_version": "1.5.0",
      "model_name": "HBoxModel",
      "state": {
       "children": [
        "IPY_MODEL_37ce60a2f2774a599c453ae28cb70b02",
        "IPY_MODEL_69db8135868841e1a7d7ebeb462cfda0"
       ],
       "layout": "IPY_MODEL_8f01ed819e0d4e0fba0c0fd5045be72c"
      }
     },
     "1ca20d7da6be4b29b8a4741cfb86e299": {
      "model_module": "@jupyter-widgets/controls",
      "model_module_version": "1.5.0",
      "model_name": "FloatTextModel",
      "state": {
       "layout": "IPY_MODEL_76dfa279573e46208fef36b08f891b1a",
       "step": null,
       "style": "IPY_MODEL_d3a9a6fdccd34bc6bd69e1dade80c5b8"
      }
     },
     "1d26ec29016b4f5b8bcd1c0c37a3bd7c": {
      "model_module": "@jupyter-widgets/base",
      "model_module_version": "1.2.0",
      "model_name": "LayoutModel",
      "state": {
       "grid_area": "b9",
       "width": "auto"
      }
     },
     "1d54b5b0fffa4742ba0ad756ed2bd7dc": {
      "model_module": "@jupyter-widgets/controls",
      "model_module_version": "1.5.0",
      "model_name": "ButtonStyleModel",
      "state": {
       "button_color": "red"
      }
     },
     "1e6402754c9f4eb8a697ff58c2c0f762": {
      "model_module": "@jupyter-widgets/controls",
      "model_module_version": "1.5.0",
      "model_name": "HBoxModel",
      "state": {
       "children": [
        "IPY_MODEL_d26e4cd8ae364cea85f1f25eefa97757",
        "IPY_MODEL_2199b0bc323441bb8442a14c53ecc6f0"
       ],
       "layout": "IPY_MODEL_111f5253f3c340d2b5c266baf7a08c9b"
      }
     },
     "1fb04a59ba2847dc9d77e1ba7341ae8a": {
      "model_module": "@jupyter-widgets/base",
      "model_module_version": "1.2.0",
      "model_name": "LayoutModel",
      "state": {
       "width": "100px"
      }
     },
     "1ff7854390864a378496bdbf1318cf4f": {
      "model_module": "@jupyter-widgets/base",
      "model_module_version": "1.2.0",
      "model_name": "LayoutModel",
      "state": {
       "grid_area": "b1",
       "width": "auto"
      }
     },
     "20570842bdbf4187874c02fc3a179d71": {
      "model_module": "@jupyter-widgets/controls",
      "model_module_version": "1.5.0",
      "model_name": "HBoxModel",
      "state": {
       "children": [
        "IPY_MODEL_6fa51563717b41b58403b0db8ccd93bf",
        "IPY_MODEL_9c0aa847485b448a91d18de466496648"
       ],
       "layout": "IPY_MODEL_74d72e29aa074bd3b2cb92b5a2376383"
      }
     },
     "206bd96af90b43c5a8f637d53ba77c37": {
      "model_module": "@jupyter-widgets/controls",
      "model_module_version": "1.5.0",
      "model_name": "DescriptionStyleModel",
      "state": {
       "description_width": ""
      }
     },
     "208192c458654d3db186ff307618301a": {
      "model_module": "@jupyter-widgets/controls",
      "model_module_version": "1.5.0",
      "model_name": "LabelModel",
      "state": {
       "layout": "IPY_MODEL_d26777beb0ff44cb80c4fad82db980ba",
       "style": "IPY_MODEL_e02c1d1edd994975aa2d39eb4bf20d0b",
       "value": "z"
      }
     },
     "2199b0bc323441bb8442a14c53ecc6f0": {
      "model_module": "@jupyter-widgets/controls",
      "model_module_version": "1.5.0",
      "model_name": "FloatTextModel",
      "state": {
       "layout": "IPY_MODEL_48d5e66b8685407abf70b420087b3203",
       "step": null,
       "style": "IPY_MODEL_286ffc1417464547ad077e9538f3a881"
      }
     },
     "22042ab23bac47e4a6a448718f3083a2": {
      "model_module": "jupyter-matplotlib",
      "model_module_version": "^0.9.0",
      "model_name": "MPLCanvasModel",
      "state": {
       "_figure_label": "Figure 2",
       "_height": 700,
       "_image_mode": "diff",
       "_width": 700,
       "layout": "IPY_MODEL_267393ee8b7d49068f6e043c5907efd5",
       "toolbar": "IPY_MODEL_9a27daab84af4066a4569f733ffd6916",
       "toolbar_position": "left"
      }
     },
     "24209a41635e4f80b2d2ffa0e32f4050": {
      "model_module": "@jupyter-widgets/controls",
      "model_module_version": "1.5.0",
      "model_name": "DescriptionStyleModel",
      "state": {
       "description_width": ""
      }
     },
     "24813a433bf941c186c7a6efa633e9ef": {
      "model_module": "@jupyter-widgets/controls",
      "model_module_version": "1.5.0",
      "model_name": "ButtonStyleModel",
      "state": {
       "button_color": "GreenYellow"
      }
     },
     "24bcb0c5de114b9c8ebf12002d177029": {
      "model_module": "@jupyter-widgets/controls",
      "model_module_version": "1.5.0",
      "model_name": "LabelModel",
      "state": {
       "layout": "IPY_MODEL_585adcc0e3c44409a229cdc4e808963c",
       "style": "IPY_MODEL_3f219c9766f84710acf47ca43602a28b",
       "value": "linear"
      }
     },
     "24bdc101626642aea6a877e450253df2": {
      "model_module": "@jupyter-widgets/controls",
      "model_module_version": "1.5.0",
      "model_name": "HBoxModel",
      "state": {
       "children": [
        "IPY_MODEL_bc8782c590684791b7b2fa84474438cf",
        "IPY_MODEL_dc9bbaceb6064c9fa120f49da0d8c154"
       ],
       "layout": "IPY_MODEL_6c321015081748bd8892f54aa51c1708"
      }
     },
     "24ef3ccb6a364377849f68758a782aec": {
      "model_module": "@jupyter-widgets/base",
      "model_module_version": "1.2.0",
      "model_name": "LayoutModel",
      "state": {}
     },
     "251e66145dc44eafa08393079a9f411f": {
      "model_module": "@jupyter-widgets/controls",
      "model_module_version": "1.5.0",
      "model_name": "FloatTextModel",
      "state": {
       "layout": "IPY_MODEL_0035eba12be04f01aeea265124de0870",
       "step": null,
       "style": "IPY_MODEL_e41bd85730dc44748a0f686791c9dfc5"
      }
     },
     "257ef72d1fd840c58d8cee85854d0cdc": {
      "model_module": "@jupyter-widgets/base",
      "model_module_version": "1.2.0",
      "model_name": "LayoutModel",
      "state": {
       "width": "100px"
      }
     },
     "2593f4c280ec458c9142c1982fd5fca9": {
      "model_module": "@jupyter-widgets/base",
      "model_module_version": "1.2.0",
      "model_name": "LayoutModel",
      "state": {
       "width": "100px"
      }
     },
     "267393ee8b7d49068f6e043c5907efd5": {
      "model_module": "@jupyter-widgets/base",
      "model_module_version": "1.2.0",
      "model_name": "LayoutModel",
      "state": {}
     },
     "268d077af9704e09a13b055d225b6c5b": {
      "model_module": "@jupyter-widgets/controls",
      "model_module_version": "1.5.0",
      "model_name": "FloatTextModel",
      "state": {
       "description": "Y goal:",
       "layout": "IPY_MODEL_3d9a16e11346415db0195eaba3df2020",
       "step": null,
       "style": "IPY_MODEL_7285e2cb60374c4cb67800a9dceabf20"
      }
     },
     "2699eebdd380481594600ac5e78d8d3d": {
      "model_module": "@jupyter-widgets/base",
      "model_module_version": "1.2.0",
      "model_name": "LayoutModel",
      "state": {}
     },
     "270cfe8a7c8148549b39474fb2b37811": {
      "model_module": "@jupyter-widgets/base",
      "model_module_version": "1.2.0",
      "model_name": "LayoutModel",
      "state": {}
     },
     "2755c90a7b9b4c10be3db33b38bf9b6d": {
      "model_module": "@jupyter-widgets/controls",
      "model_module_version": "1.5.0",
      "model_name": "IntTextModel",
      "state": {
       "description": "Rate",
       "layout": "IPY_MODEL_1149f6d66862428bb0243c13b1dd7aca",
       "step": 1,
       "style": "IPY_MODEL_430e6b673488492c8e6dd3e0410b159b",
       "value": 5
      }
     },
     "27b915b5a9da429c84aec312931842cc": {
      "model_module": "@jupyter-widgets/controls",
      "model_module_version": "1.5.0",
      "model_name": "LabelModel",
      "state": {
       "layout": "IPY_MODEL_b3c422a13765479aa6a9172216188e90",
       "style": "IPY_MODEL_a05839517a824d94a0b49b08412ee1b6",
       "value": "z"
      }
     },
     "28693763967040e89d7a6567204e89b5": {
      "model_module": "@jupyter-widgets/base",
      "model_module_version": "1.2.0",
      "model_name": "LayoutModel",
      "state": {}
     },
     "286ffc1417464547ad077e9538f3a881": {
      "model_module": "@jupyter-widgets/controls",
      "model_module_version": "1.5.0",
      "model_name": "DescriptionStyleModel",
      "state": {
       "description_width": ""
      }
     },
     "28beb2222b514283bd3809cc12911dc5": {
      "model_module": "@jupyter-widgets/controls",
      "model_module_version": "1.5.0",
      "model_name": "DescriptionStyleModel",
      "state": {
       "description_width": ""
      }
     },
     "2a081ec56adf457a8e9b49d47249c888": {
      "model_module": "@jupyter-widgets/base",
      "model_module_version": "1.2.0",
      "model_name": "LayoutModel",
      "state": {}
     },
     "2a5f2ac963a443c9a65176a2d212a511": {
      "model_module": "@jupyter-widgets/base",
      "model_module_version": "1.2.0",
      "model_name": "LayoutModel",
      "state": {}
     },
     "2aa5ff68132c4328a0e6df7051f3ce8e": {
      "model_module": "@jupyter-widgets/controls",
      "model_module_version": "1.5.0",
      "model_name": "ButtonStyleModel",
      "state": {
       "button_color": "GreenYellow"
      }
     },
     "2ac7bcd1cd52411fa8739c2d7753f2dd": {
      "model_module": "@jupyter-widgets/controls",
      "model_module_version": "1.5.0",
      "model_name": "VBoxModel",
      "state": {
       "children": [
        "IPY_MODEL_4f5cae352f364c9bacb5b11765cc4e67",
        "IPY_MODEL_54be97e54dea49f5bec9fbd8e4cbc176",
        "IPY_MODEL_adbd4f648590468ba28ae34da4419961",
        "IPY_MODEL_7fe24a184b554898b4f0434fb92d83e4",
        "IPY_MODEL_9de57dbed911441b915e58c946a4bd2b",
        "IPY_MODEL_0fc996f446de4456a4c3cf666b49800f",
        "IPY_MODEL_9ebde6d134ad48c9b3b38add88803f0e",
        "IPY_MODEL_bdc3f8649e5841b8ad65849356d7992a",
        "IPY_MODEL_aef024f4f11c41c9b58e3ecbbcb52935"
       ],
       "layout": "IPY_MODEL_7a00d80a61874e14a48a11de166e0f79"
      }
     },
     "2ae91b3549c346fda7d337f104460e82": {
      "model_module": "@jupyter-widgets/controls",
      "model_module_version": "1.5.0",
      "model_name": "ButtonStyleModel",
      "state": {
       "button_color": "GreenYellow"
      }
     },
     "2b1db841c577498ab8a003f725a256e5": {
      "model_module": "@jupyter-widgets/controls",
      "model_module_version": "1.5.0",
      "model_name": "DescriptionStyleModel",
      "state": {
       "description_width": ""
      }
     },
     "2da8dbedba23416384573e3d844e9791": {
      "model_module": "@jupyter-widgets/controls",
      "model_module_version": "1.5.0",
      "model_name": "ButtonStyleModel",
      "state": {}
     },
     "2da9035d65cf499193cdf2bb016e3372": {
      "model_module": "@jupyter-widgets/controls",
      "model_module_version": "1.5.0",
      "model_name": "LabelModel",
      "state": {
       "layout": "IPY_MODEL_a25027364f0c401f8ce17c8e43eaf4d4",
       "style": "IPY_MODEL_60bfea263cf54e3d87d91096d0f0751a",
       "value": "linear"
      }
     },
     "2e0baf41613c432e9924f461bd7b493d": {
      "model_module": "@jupyter-widgets/controls",
      "model_module_version": "1.5.0",
      "model_name": "ButtonStyleModel",
      "state": {
       "button_color": "red"
      }
     },
     "2e6ec261814b45239ed79bb0aeaf06d2": {
      "model_module": "@jupyter-widgets/base",
      "model_module_version": "1.2.0",
      "model_name": "LayoutModel",
      "state": {
       "grid_area": "b6",
       "width": "auto"
      }
     },
     "2e7494a9b4ef4b398ef3f72acb4c613e": {
      "model_module": "@jupyter-widgets/base",
      "model_module_version": "1.2.0",
      "model_name": "LayoutModel",
      "state": {
       "width": "100px"
      }
     },
     "2e74966221f24a29a388fce11734ca73": {
      "model_module": "@jupyter-widgets/base",
      "model_module_version": "1.2.0",
      "model_name": "LayoutModel",
      "state": {
       "grid_area": "b10",
       "width": "auto"
      }
     },
     "3039fc6a68204c1f8da068b4c152a05d": {
      "model_module": "@jupyter-widgets/base",
      "model_module_version": "1.2.0",
      "model_name": "LayoutModel",
      "state": {}
     },
     "30ce6cc3ed1d45479b45f9ecd309da8e": {
      "model_module": "@jupyter-widgets/base",
      "model_module_version": "1.2.0",
      "model_name": "LayoutModel",
      "state": {
       "grid_area": "b2",
       "width": "auto"
      }
     },
     "315830dc204247579095fe54259eadfa": {
      "model_module": "@jupyter-widgets/base",
      "model_module_version": "1.2.0",
      "model_name": "LayoutModel",
      "state": {}
     },
     "322eb8c615224aadb8786f9e2bc1649c": {
      "model_module": "@jupyter-widgets/base",
      "model_module_version": "1.2.0",
      "model_name": "LayoutModel",
      "state": {}
     },
     "3232398f67ca4968b0816e79cf2e8b2a": {
      "model_module": "@jupyter-widgets/controls",
      "model_module_version": "1.5.0",
      "model_name": "ButtonStyleModel",
      "state": {
       "button_color": "GreenYellow"
      }
     },
     "3314cb1d213b492884ccf54c194e9161": {
      "model_module": "@jupyter-widgets/controls",
      "model_module_version": "1.5.0",
      "model_name": "ButtonModel",
      "state": {
       "description": "Stop",
       "layout": "IPY_MODEL_b39df258eec84fd0ac1770e075aef3e0",
       "style": "IPY_MODEL_0b3f31a5df1240f194cf8366c8deb659"
      }
     },
     "331a116a46014fd5b0cadfe63d11087f": {
      "model_module": "@jupyter-widgets/base",
      "model_module_version": "1.2.0",
      "model_name": "LayoutModel",
      "state": {
       "width": "100px"
      }
     },
     "331aef244b20472f99d26b06c989fd65": {
      "model_module": "@jupyter-widgets/controls",
      "model_module_version": "1.5.0",
      "model_name": "ButtonModel",
      "state": {
       "description": "Cancel Goal",
       "layout": "IPY_MODEL_14bcb9bbbfc846ee898e76dc295d255e",
       "style": "IPY_MODEL_a70589020d294a84a6c66fde91a5c8b7"
      }
     },
     "33374b1eb6874f06ba06fd619b354e28": {
      "model_module": "@jupyter-widgets/controls",
      "model_module_version": "1.5.0",
      "model_name": "GridBoxModel",
      "state": {
       "children": [
        "IPY_MODEL_eeed9e3824654f45a767407fdba03929",
        "IPY_MODEL_f16063ff2f4a4d85bd78e20159205aa9",
        "IPY_MODEL_6320d34a15a843bca7242a0914e21f0d",
        "IPY_MODEL_8b8d10debc87461d9935d52e61511c9d",
        "IPY_MODEL_0e2a9f76dab242d19a6938ab066801e9",
        "IPY_MODEL_c4723879e59d48469b390c59da98a7f1"
       ],
       "layout": "IPY_MODEL_801c4aaf682348efb8bdacf685cfa031"
      }
     },
     "33640721feac4d98aee3b83e089c3c48": {
      "model_module": "@jupyter-widgets/controls",
      "model_module_version": "1.5.0",
      "model_name": "LabelModel",
      "state": {
       "layout": "IPY_MODEL_a4054004b6174184a87085bae318813c",
       "style": "IPY_MODEL_de9ef42856124c76ac7018f03f9ed6b8",
       "value": "z"
      }
     },
     "336c0a223eb14a569ea1761de8fce944": {
      "model_module": "@jupyter-widgets/base",
      "model_module_version": "1.2.0",
      "model_name": "LayoutModel",
      "state": {}
     },
     "3385d5245e054787904d5bf6510bb212": {
      "model_module": "@jupyter-widgets/controls",
      "model_module_version": "1.5.0",
      "model_name": "HBoxModel",
      "state": {
       "children": [
        "IPY_MODEL_95bbe87f922a45868c37a36f548a12ac",
        "IPY_MODEL_57a44e7828e4428b9bcc86885fba9b62"
       ],
       "layout": "IPY_MODEL_b2ec1e2db4264e84a796a989f5a25577"
      }
     },
     "3460a9d7f3bc45168881b00e74fbc587": {
      "model_module": "@jupyter-widgets/controls",
      "model_module_version": "1.5.0",
      "model_name": "ButtonStyleModel",
      "state": {
       "button_color": "GreenYellow"
      }
     },
     "34db4ff107fd44ca9f8f5a823a3b4af0": {
      "model_module": "@jupyter-widgets/controls",
      "model_module_version": "1.5.0",
      "model_name": "DescriptionStyleModel",
      "state": {
       "description_width": ""
      }
     },
     "3561387904f64c05ba529775b7eeb011": {
      "model_module": "@jupyter-widgets/controls",
      "model_module_version": "1.5.0",
      "model_name": "ButtonModel",
      "state": {
       "description": "Send Goal",
       "layout": "IPY_MODEL_679737b38a9541f78a73992dabd42c29",
       "style": "IPY_MODEL_f0f11f15b53945fa875f44b646f1496d"
      }
     },
     "3628dbc964ae48cbb1baf865bf26100d": {
      "model_module": "@jupyter-widgets/controls",
      "model_module_version": "1.5.0",
      "model_name": "ButtonStyleModel",
      "state": {
       "button_color": "Yellow"
      }
     },
     "363c7a0121cf41cfa2e5ac126c408ea7": {
      "model_module": "@jupyter-widgets/base",
      "model_module_version": "1.2.0",
      "model_name": "LayoutModel",
      "state": {}
     },
     "3657b2c4f29445c8bed3a80b3a0734de": {
      "model_module": "@jupyter-widgets/controls",
      "model_module_version": "1.5.0",
      "model_name": "DescriptionStyleModel",
      "state": {
       "description_width": ""
      }
     },
     "36db16b55b244af182df7a880e5a2ad4": {
      "model_module": "@jupyter-widgets/controls",
      "model_module_version": "1.5.0",
      "model_name": "FloatTextModel",
      "state": {
       "layout": "IPY_MODEL_73806ad5a5094d88b6fe2cdd81893b95",
       "step": null,
       "style": "IPY_MODEL_990877fdc0754abf809fa30a6450dce9"
      }
     },
     "3704e3bd07b64deea31c58a626fbaed7": {
      "model_module": "@jupyter-widgets/controls",
      "model_module_version": "1.5.0",
      "model_name": "FloatTextModel",
      "state": {
       "layout": "IPY_MODEL_c27c1b83dd424e928ffad2b728048c05",
       "step": null,
       "style": "IPY_MODEL_1ba12ac1e1804ff0ae9f4129cacfa800"
      }
     },
     "374fe15a1bdb4639b6bc6fc3e39575f1": {
      "model_module": "@jupyter-widgets/base",
      "model_module_version": "1.2.0",
      "model_name": "LayoutModel",
      "state": {
       "grid_area": "b12",
       "width": "auto"
      }
     },
     "37b77bcce4e948998b2e0e123169cd6b": {
      "model_module": "@jupyter-widgets/controls",
      "model_module_version": "1.5.0",
      "model_name": "DescriptionStyleModel",
      "state": {
       "description_width": ""
      }
     },
     "37ca329a24044af5a8c723309722a20b": {
      "model_module": "@jupyter-widgets/controls",
      "model_module_version": "1.5.0",
      "model_name": "DescriptionStyleModel",
      "state": {
       "description_width": ""
      }
     },
     "37ce60a2f2774a599c453ae28cb70b02": {
      "model_module": "@jupyter-widgets/controls",
      "model_module_version": "1.5.0",
      "model_name": "LabelModel",
      "state": {
       "layout": "IPY_MODEL_1fb04a59ba2847dc9d77e1ba7341ae8a",
       "style": "IPY_MODEL_0f1c6e67a9564480af8db5281e6681ce",
       "value": "z"
      }
     },
     "380f5466a7914371886b1a2648fe88e8": {
      "model_module": "@jupyter-widgets/controls",
      "model_module_version": "1.5.0",
      "model_name": "ButtonModel",
      "state": {
       "description": "Manual_drive mode",
       "layout": "IPY_MODEL_9c9153977a1c4f7ab97039cdb29474d1",
       "style": "IPY_MODEL_5e0b82bb37a9411781baba3b819b4156"
      }
     },
     "3827efda65d14f36b337fe6f92582e35": {
      "model_module": "@jupyter-widgets/controls",
      "model_module_version": "1.5.0",
      "model_name": "HBoxModel",
      "state": {
       "children": [
        "IPY_MODEL_e4f78c4a7b3d413bb1768e6d6c972c66",
        "IPY_MODEL_95cc3cc16acb4316a785ade6ce2d968e"
       ],
       "layout": "IPY_MODEL_72446f5807fa47c9b3c721a60384d54a"
      }
     },
     "3872bd0755f04b8e9249ead8246c6d6f": {
      "model_module": "@jupyter-widgets/controls",
      "model_module_version": "1.5.0",
      "model_name": "CheckboxModel",
      "state": {
       "description": "Latch Message",
       "disabled": false,
       "layout": "IPY_MODEL_90884beb0bfe42a7a86466ed29a20834",
       "style": "IPY_MODEL_2b1db841c577498ab8a003f725a256e5",
       "value": false
      }
     },
     "3887264c75c24b9e882cc6cc0c088c58": {
      "model_module": "@jupyter-widgets/controls",
      "model_module_version": "1.5.0",
      "model_name": "ButtonModel",
      "state": {
       "description": "End Program",
       "layout": "IPY_MODEL_2e6ec261814b45239ed79bb0aeaf06d2",
       "style": "IPY_MODEL_074cbcd609f5437f93e215dc2ad8b04a"
      }
     },
     "39850f0e54f3450a943d106e01e8d7b9": {
      "model_module": "@jupyter-widgets/base",
      "model_module_version": "1.2.0",
      "model_name": "LayoutModel",
      "state": {
       "grid_area": "b5",
       "width": "auto"
      }
     },
     "39bdee1f3d6e4e07b969f33344a7164b": {
      "model_module": "@jupyter-widgets/base",
      "model_module_version": "1.2.0",
      "model_name": "LayoutModel",
      "state": {
       "grid_template_areas": "\n           \"b1 b4\"\n           \"b2 b5\"\n           \"b3 b6\"\n           ",
       "grid_template_columns": "50% 50%",
       "grid_template_rows": "auto auto auto",
       "width": "100%"
      }
     },
     "3a5ad1bb0d224158a49333f5243d9bdc": {
      "model_module": "@jupyter-widgets/controls",
      "model_module_version": "1.5.0",
      "model_name": "ButtonStyleModel",
      "state": {}
     },
     "3a78d0ee293042be8ecab54dcb38af61": {
      "model_module": "@jupyter-widgets/controls",
      "model_module_version": "1.5.0",
      "model_name": "DescriptionStyleModel",
      "state": {
       "description_width": ""
      }
     },
     "3b5886ffbc0c4e69bfe58d5d742cb4a7": {
      "model_module": "@jupyter-widgets/controls",
      "model_module_version": "1.5.0",
      "model_name": "ButtonModel",
      "state": {
       "description": "Move Forward",
       "layout": "IPY_MODEL_539f0430a4b941a8b97a67422cc13f46",
       "style": "IPY_MODEL_1b91bd219ef04afeb4db7c2a52b9ffc9"
      }
     },
     "3ba9510441c54323aea0993c1117ce65": {
      "model_module": "@jupyter-widgets/base",
      "model_module_version": "1.2.0",
      "model_name": "LayoutModel",
      "state": {}
     },
     "3be3cc41454b40a69cb40f472576d9d1": {
      "model_module": "@jupyter-widgets/controls",
      "model_module_version": "1.5.0",
      "model_name": "DescriptionStyleModel",
      "state": {
       "description_width": ""
      }
     },
     "3c39fe82a76d4ad4ad06e7d3eb6e3e40": {
      "model_module": "@jupyter-widgets/controls",
      "model_module_version": "1.5.0",
      "model_name": "ButtonModel",
      "state": {
       "description": "Move Backward",
       "layout": "IPY_MODEL_c99e89e3c11644fd9bc971e7849c6b1a",
       "style": "IPY_MODEL_69867f0797194b439ccc669aea9d18d7"
      }
     },
     "3c768ba8092e4fd3879500f09bb8540e": {
      "model_module": "@jupyter-widgets/controls",
      "model_module_version": "1.5.0",
      "model_name": "DescriptionStyleModel",
      "state": {
       "description_width": ""
      }
     },
     "3d5bfbb78da141d18369e580858c3743": {
      "model_module": "@jupyter-widgets/base",
      "model_module_version": "1.2.0",
      "model_name": "LayoutModel",
      "state": {}
     },
     "3d9a16e11346415db0195eaba3df2020": {
      "model_module": "@jupyter-widgets/base",
      "model_module_version": "1.2.0",
      "model_name": "LayoutModel",
      "state": {}
     },
     "3f219c9766f84710acf47ca43602a28b": {
      "model_module": "@jupyter-widgets/controls",
      "model_module_version": "1.5.0",
      "model_name": "DescriptionStyleModel",
      "state": {
       "description_width": ""
      }
     },
     "3f792a2bd9244b2d890ccc68fbca2640": {
      "model_module": "@jupyter-widgets/controls",
      "model_module_version": "1.5.0",
      "model_name": "ButtonModel",
      "state": {
       "description": "Move Backward",
       "layout": "IPY_MODEL_cbbc922a7abb42f28f8b9104c0393b8c",
       "style": "IPY_MODEL_2aa5ff68132c4328a0e6df7051f3ce8e"
      }
     },
     "401510a0d85a413f9fde47ee5ff72e5f": {
      "model_module": "@jupyter-widgets/controls",
      "model_module_version": "1.5.0",
      "model_name": "LabelModel",
      "state": {
       "layout": "IPY_MODEL_2e7494a9b4ef4b398ef3f72acb4c613e",
       "style": "IPY_MODEL_37ca329a24044af5a8c723309722a20b",
       "value": "y"
      }
     },
     "409085574a7046df9bb7cb75d875b037": {
      "model_module": "@jupyter-widgets/controls",
      "model_module_version": "1.5.0",
      "model_name": "HBoxModel",
      "state": {
       "children": [
        "IPY_MODEL_27b915b5a9da429c84aec312931842cc",
        "IPY_MODEL_a84721bbce164701894a54885624381b"
       ],
       "layout": "IPY_MODEL_d7513ed983aa4d548a53a18631e08c21"
      }
     },
     "4171b0308fa34578887d27b34f8b0720": {
      "model_module": "jupyter-matplotlib",
      "model_module_version": "^0.9.0",
      "model_name": "ToolbarModel",
      "state": {
       "layout": "IPY_MODEL_2699eebdd380481594600ac5e78d8d3d",
       "toolitems": [
        [
         "Home",
         "Reset original view",
         "home",
         "home"
        ],
        [
         "Back",
         "Back to previous view",
         "arrow-left",
         "back"
        ],
        [
         "Forward",
         "Forward to next view",
         "arrow-right",
         "forward"
        ],
        [
         "Pan",
         "Pan axes with left mouse, zoom with right",
         "arrows",
         "pan"
        ],
        [
         "Zoom",
         "Zoom to rectangle",
         "square-o",
         "zoom"
        ],
        [
         "Download",
         "Download plot",
         "floppy-o",
         "save_figure"
        ]
       ]
      }
     },
     "41c0ee3c41c04dae9916ccf1350ec021": {
      "model_module": "@jupyter-widgets/controls",
      "model_module_version": "1.5.0",
      "model_name": "GridBoxModel",
      "state": {
       "children": [
        "IPY_MODEL_d7b360d90cfd486e85aea9bbfb4c0c47",
        "IPY_MODEL_ef69cd82606149289292206836e8113e",
        "IPY_MODEL_76a231933b9045b7a543aa9a292498a3",
        "IPY_MODEL_3f792a2bd9244b2d890ccc68fbca2640",
        "IPY_MODEL_3314cb1d213b492884ccf54c194e9161"
       ],
       "layout": "IPY_MODEL_68c2bd65cf24425c9ce216eb93e2b4b3"
      }
     },
     "428786ec8cff4117a581b04709142bb0": {
      "model_module": "@jupyter-widgets/controls",
      "model_module_version": "1.5.0",
      "model_name": "ButtonModel",
      "state": {
       "description": "Send Goal",
       "layout": "IPY_MODEL_820459ab8df94821b8dc70fe5d2f89c0",
       "style": "IPY_MODEL_13a32043f2b04a7880eb55024683b29c"
      }
     },
     "430e6b673488492c8e6dd3e0410b159b": {
      "model_module": "@jupyter-widgets/controls",
      "model_module_version": "1.5.0",
      "model_name": "DescriptionStyleModel",
      "state": {
       "description_width": ""
      }
     },
     "4417873e83f045d995be8eba4c07d7da": {
      "model_module": "@jupyter-widgets/base",
      "model_module_version": "1.2.0",
      "model_name": "LayoutModel",
      "state": {
       "grid_area": "b10",
       "width": "auto"
      }
     },
     "444b7f3239be42298f4be4d787d54525": {
      "model_module": "@jupyter-widgets/controls",
      "model_module_version": "1.5.0",
      "model_name": "DescriptionStyleModel",
      "state": {
       "description_width": ""
      }
     },
     "44ff6d6aeba047b78a091a4c3acf0b21": {
      "model_module": "@jupyter-widgets/controls",
      "model_module_version": "1.5.0",
      "model_name": "FloatTextModel",
      "state": {
       "layout": "IPY_MODEL_7da1567595a74829853631811dddd0a7",
       "step": null,
       "style": "IPY_MODEL_206bd96af90b43c5a8f637d53ba77c37"
      }
     },
     "453a4f43d7224a55b6ac590601b7d4da": {
      "model_module": "@jupyter-widgets/base",
      "model_module_version": "1.2.0",
      "model_name": "LayoutModel",
      "state": {
       "width": "100px"
      }
     },
     "462589d1e6eb48989be27163c3639793": {
      "model_module": "@jupyter-widgets/base",
      "model_module_version": "1.2.0",
      "model_name": "LayoutModel",
      "state": {}
     },
     "46521d5e2c924ea58cede130b613bca8": {
      "model_module": "@jupyter-widgets/base",
      "model_module_version": "1.2.0",
      "model_name": "LayoutModel",
      "state": {
       "grid_area": "b9",
       "width": "auto"
      }
     },
     "4677a157e10e474491c0cb26507d83c2": {
      "model_module": "@jupyter-widgets/base",
      "model_module_version": "1.2.0",
      "model_name": "LayoutModel",
      "state": {}
     },
     "467d0183c95249c7b6418469491097a9": {
      "model_module": "@jupyter-widgets/controls",
      "model_module_version": "1.5.0",
      "model_name": "FloatTextModel",
      "state": {
       "description": "Y goal:",
       "layout": "IPY_MODEL_f7a803a730dd41b28520ca4589c13a4c",
       "step": null,
       "style": "IPY_MODEL_c08e6f183ef348899c7e9b0f5e8d2a8d"
      }
     },
     "46a7810766d044379cff54b16210f9e4": {
      "model_module": "@jupyter-widgets/base",
      "model_module_version": "1.2.0",
      "model_name": "LayoutModel",
      "state": {
       "width": "100px"
      }
     },
     "47714a96bb8640d6a8dca5db9cbff55c": {
      "model_module": "@jupyter-widgets/controls",
      "model_module_version": "1.5.0",
      "model_name": "CheckboxModel",
      "state": {
       "description": "Latch Message",
       "disabled": false,
       "layout": "IPY_MODEL_8c2c6c6be9374055930ead80cfc0fb7e",
       "style": "IPY_MODEL_4c93bf58320847b0986e99c7812b220d",
       "value": false
      }
     },
     "47a370ad7058436496e2e2888ce4bb16": {
      "model_module": "@jupyter-widgets/base",
      "model_module_version": "1.2.0",
      "model_name": "LayoutModel",
      "state": {}
     },
     "4829836d8d6e49928a7c0e83b864de41": {
      "model_module": "@jupyter-widgets/base",
      "model_module_version": "1.2.0",
      "model_name": "LayoutModel",
      "state": {
       "width": "100px"
      }
     },
     "4850d824d2a643058047033fec8ca61d": {
      "model_module": "@jupyter-widgets/controls",
      "model_module_version": "1.5.0",
      "model_name": "GridBoxModel",
      "state": {
       "children": [
        "IPY_MODEL_7d31354a3ddd41fcbdb30aab7e6aa49f",
        "IPY_MODEL_3b5886ffbc0c4e69bfe58d5d742cb4a7",
        "IPY_MODEL_7cd4e7a7ebbe4ca99c1dc265a3961dce",
        "IPY_MODEL_0140761537a144dd901b2b876c8d92d3",
        "IPY_MODEL_a91bb54439644f0aa46809b267a279ed"
       ],
       "layout": "IPY_MODEL_58201b44a43942c584525703f31b6e91"
      }
     },
     "48d5e66b8685407abf70b420087b3203": {
      "model_module": "@jupyter-widgets/base",
      "model_module_version": "1.2.0",
      "model_name": "LayoutModel",
      "state": {}
     },
     "496ad392a98b49f0808d7a64d031c75b": {
      "model_module": "jupyter-matplotlib",
      "model_module_version": "^0.9.0",
      "model_name": "ToolbarModel",
      "state": {
       "layout": "IPY_MODEL_ae87d1e77c1442a382d300e569706e01",
       "toolitems": [
        [
         "Home",
         "Reset original view",
         "home",
         "home"
        ],
        [
         "Back",
         "Back to previous view",
         "arrow-left",
         "back"
        ],
        [
         "Forward",
         "Forward to next view",
         "arrow-right",
         "forward"
        ],
        [
         "Pan",
         "Pan axes with left mouse, zoom with right",
         "arrows",
         "pan"
        ],
        [
         "Zoom",
         "Zoom to rectangle",
         "square-o",
         "zoom"
        ],
        [
         "Download",
         "Download plot",
         "floppy-o",
         "save_figure"
        ]
       ]
      }
     },
     "4adbafb034464c49b1c0f26303ac2424": {
      "model_module": "@jupyter-widgets/base",
      "model_module_version": "1.2.0",
      "model_name": "LayoutModel",
      "state": {
       "grid_area": "b3",
       "width": "auto"
      }
     },
     "4c93bf58320847b0986e99c7812b220d": {
      "model_module": "@jupyter-widgets/controls",
      "model_module_version": "1.5.0",
      "model_name": "DescriptionStyleModel",
      "state": {
       "description_width": ""
      }
     },
     "4cb31630561843fbbaf8351479b1ac12": {
      "model_module": "jupyter-matplotlib",
      "model_module_version": "^0.9.0",
      "model_name": "MPLCanvasModel",
      "state": {
       "_figure_label": "Figure 1",
       "_height": 480,
       "_image_mode": "diff",
       "_width": 640,
       "layout": "IPY_MODEL_f3bc6d6c947648d7a21f82dadd5437c0",
       "toolbar": "IPY_MODEL_631b4c04b7be4a9895e6e21fd8efdd64",
       "toolbar_position": "left"
      }
     },
     "4d959d4dd1174b579aea59cf56c46f73": {
      "model_module": "@jupyter-widgets/base",
      "model_module_version": "1.2.0",
      "model_name": "LayoutModel",
      "state": {
       "grid_area": "b6",
       "width": "auto"
      }
     },
     "4ddcefb6fc4c43bd910b1caf5ac1f6cf": {
      "model_module": "@jupyter-widgets/controls",
      "model_module_version": "1.5.0",
      "model_name": "ButtonModel",
      "state": {
       "description": "Start",
       "layout": "IPY_MODEL_a45fcee9eafd4d098c68f121b8f9e099",
       "style": "IPY_MODEL_b381021c654640829fddf9fb8f9736df"
      }
     },
     "4dedca68a9b749cea6d087f41c28e145": {
      "model_module": "@jupyter-widgets/controls",
      "model_module_version": "1.5.0",
      "model_name": "LabelModel",
      "state": {
       "layout": "IPY_MODEL_d43b8fec33ad4566a20e1706b952c772",
       "style": "IPY_MODEL_af7db1eca2f149f08bd41dc1edf0618a",
       "value": "y"
      }
     },
     "4e139d63fb2443d8a6c9645ee05d253e": {
      "model_module": "@jupyter-widgets/controls",
      "model_module_version": "1.5.0",
      "model_name": "DescriptionStyleModel",
      "state": {
       "description_width": ""
      }
     },
     "4e39a39a2e5440f2a541c06bf9e45d76": {
      "model_module": "@jupyter-widgets/controls",
      "model_module_version": "1.5.0",
      "model_name": "DescriptionStyleModel",
      "state": {
       "description_width": ""
      }
     },
     "4e66330b76374f4ba9b5b57e1f762208": {
      "model_module": "jupyter-matplotlib",
      "model_module_version": "^0.9.0",
      "model_name": "MPLCanvasModel",
      "state": {
       "_figure_label": "Figure 3",
       "_height": 480,
       "_image_mode": "diff",
       "_message": "x= y=11.7056     ",
       "_width": 640,
       "layout": "IPY_MODEL_322eb8c615224aadb8786f9e2bc1649c",
       "toolbar": "IPY_MODEL_976af11cc50c45f5aefaf093c6600b1e",
       "toolbar_position": "left"
      }
     },
     "4e75e1e34c804284a7e24d3a6f41cb0a": {
      "model_module": "@jupyter-widgets/base",
      "model_module_version": "1.2.0",
      "model_name": "LayoutModel",
      "state": {
       "grid_area": "b11",
       "width": "auto"
      }
     },
     "4e77594992064475baa076d595c40033": {
      "model_module": "@jupyter-widgets/base",
      "model_module_version": "1.2.0",
      "model_name": "LayoutModel",
      "state": {
       "grid_area": "b4",
       "width": "auto"
      }
     },
     "4ebdfc8e5c58454c87371a020b1dbb26": {
      "model_module": "@jupyter-widgets/base",
      "model_module_version": "1.2.0",
      "model_name": "LayoutModel",
      "state": {}
     },
     "4f597e0e284641b695225b5a1bb785f0": {
      "model_module": "@jupyter-widgets/controls",
      "model_module_version": "1.5.0",
      "model_name": "VBoxModel",
      "state": {
       "children": [
        "IPY_MODEL_f49ebf21dc67418286d40662df0f31b0",
        "IPY_MODEL_fee6bcf82bb247b196e220ff889535f8",
        "IPY_MODEL_24bdc101626642aea6a877e450253df2",
        "IPY_MODEL_dc93956b65c640fc9e9a64b3dc575bec",
        "IPY_MODEL_a7703143ea744453a8160612bce4c23c",
        "IPY_MODEL_d118957575fc4c748dc0853a038c1ed6",
        "IPY_MODEL_ebe071d327f448b7a5c5efd6b619e322",
        "IPY_MODEL_8f507b87b46a462e991bfc85e58139ae",
        "IPY_MODEL_c3c3b7ab16f740a6b38138c069180838"
       ],
       "layout": "IPY_MODEL_9e5d8869c53944cdb0bde6b1f03203e8"
      }
     },
     "4f5cae352f364c9bacb5b11765cc4e67": {
      "model_module": "@jupyter-widgets/controls",
      "model_module_version": "1.5.0",
      "model_name": "LabelModel",
      "state": {
       "layout": "IPY_MODEL_5a15e9795e204e9ca312a517714b2ab4",
       "style": "IPY_MODEL_139110903c904b5b9ec256d5446e0711",
       "value": "linear"
      }
     },
     "4fde171c5e8e4584b3f002515ec59694": {
      "model_module": "@jupyter-widgets/controls",
      "model_module_version": "1.5.0",
      "model_name": "LabelModel",
      "state": {
       "layout": "IPY_MODEL_46a7810766d044379cff54b16210f9e4",
       "style": "IPY_MODEL_3be3cc41454b40a69cb40f472576d9d1",
       "value": "x"
      }
     },
     "506f3246eeab4f47bd451bbd93198dd8": {
      "model_module": "@jupyter-widgets/controls",
      "model_module_version": "1.5.0",
      "model_name": "DescriptionStyleModel",
      "state": {
       "description_width": ""
      }
     },
     "50d88a7095354daa83412a15fef4966d": {
      "model_module": "@jupyter-widgets/controls",
      "model_module_version": "1.5.0",
      "model_name": "LabelModel",
      "state": {
       "layout": "IPY_MODEL_561d61e9c67f49e8b938debbf66a75d2",
       "style": "IPY_MODEL_c8f5de37ac784a40b3cf87cea4d033a2",
       "value": "x"
      }
     },
     "510c689a6333421cb69fb83a53842a33": {
      "model_module": "@jupyter-widgets/controls",
      "model_module_version": "1.5.0",
      "model_name": "ButtonModel",
      "state": {
       "description": "Reset Position",
       "layout": "IPY_MODEL_f02c819ec0134152bad3f6e85207d3d2",
       "style": "IPY_MODEL_ea9aa63184fe45588a1fd5bb79d87602"
      }
     },
     "51381769b2fb452db087e53945b03e60": {
      "model_module": "@jupyter-widgets/base",
      "model_module_version": "1.2.0",
      "model_name": "LayoutModel",
      "state": {}
     },
     "53981cdcb218444fa9b4090269912e36": {
      "model_module": "@jupyter-widgets/base",
      "model_module_version": "1.2.0",
      "model_name": "LayoutModel",
      "state": {}
     },
     "539f0430a4b941a8b97a67422cc13f46": {
      "model_module": "@jupyter-widgets/base",
      "model_module_version": "1.2.0",
      "model_name": "LayoutModel",
      "state": {
       "grid_area": "b9",
       "width": "auto"
      }
     },
     "546825530d6d47308e71866e47e37645": {
      "model_module": "@jupyter-widgets/controls",
      "model_module_version": "1.5.0",
      "model_name": "DescriptionStyleModel",
      "state": {
       "description_width": ""
      }
     },
     "54be97e54dea49f5bec9fbd8e4cbc176": {
      "model_module": "@jupyter-widgets/controls",
      "model_module_version": "1.5.0",
      "model_name": "HBoxModel",
      "state": {
       "children": [
        "IPY_MODEL_50d88a7095354daa83412a15fef4966d",
        "IPY_MODEL_ce6084fa1c214ee9a0470b898a3f8539"
       ],
       "layout": "IPY_MODEL_f3ffd7785aaa4b83ab6ca8f7348403cf"
      }
     },
     "556183eb47a3482ba9fa727eb93a69c5": {
      "model_module": "@jupyter-widgets/base",
      "model_module_version": "1.2.0",
      "model_name": "LayoutModel",
      "state": {}
     },
     "556a769c30954fd6827d045dce01f9d9": {
      "model_module": "@jupyter-widgets/controls",
      "model_module_version": "1.5.0",
      "model_name": "ButtonStyleModel",
      "state": {
       "button_color": "GreenYellow"
      }
     },
     "55dc1abe26f34984b6b1f95a6d00da37": {
      "model_module": "@jupyter-widgets/controls",
      "model_module_version": "1.5.0",
      "model_name": "ButtonModel",
      "state": {
       "description": "Send Message",
       "layout": "IPY_MODEL_dcd473f4d7d54a1eb6b98f4173d73170",
       "style": "IPY_MODEL_76295460085d41868000a4e492fc8f43"
      }
     },
     "561d61e9c67f49e8b938debbf66a75d2": {
      "model_module": "@jupyter-widgets/base",
      "model_module_version": "1.2.0",
      "model_name": "LayoutModel",
      "state": {
       "width": "100px"
      }
     },
     "5732cc8c9e7d407a87cb8a325f33f17f": {
      "model_module": "@jupyter-widgets/base",
      "model_module_version": "1.2.0",
      "model_name": "LayoutModel",
      "state": {}
     },
     "5760ac603cc044f28e70b1647ed0f4d4": {
      "model_module": "@jupyter-widgets/controls",
      "model_module_version": "1.5.0",
      "model_name": "ButtonStyleModel",
      "state": {
       "button_color": "GreenYellow"
      }
     },
     "578590f7744340e988d8df2cc63e2385": {
      "model_module": "@jupyter-widgets/controls",
      "model_module_version": "1.5.0",
      "model_name": "DescriptionStyleModel",
      "state": {
       "description_width": ""
      }
     },
     "57a44e7828e4428b9bcc86885fba9b62": {
      "model_module": "@jupyter-widgets/controls",
      "model_module_version": "1.5.0",
      "model_name": "FloatTextModel",
      "state": {
       "layout": "IPY_MODEL_d024beb62fd74e2bac87deb703251b27",
       "step": null,
       "style": "IPY_MODEL_34db4ff107fd44ca9f8f5a823a3b4af0"
      }
     },
     "58201b44a43942c584525703f31b6e91": {
      "model_module": "@jupyter-widgets/base",
      "model_module_version": "1.2.0",
      "model_name": "LayoutModel",
      "state": {
       "grid_template_areas": "\n           \"b9 b9 b9\"\n           \"b8 b12 b10\"\n           \"b11 b11 b11\"\n           ",
       "grid_template_columns": "33% 33% 33%",
       "grid_template_rows": "auto auto auto",
       "width": "100%"
      }
     },
     "585adcc0e3c44409a229cdc4e808963c": {
      "model_module": "@jupyter-widgets/base",
      "model_module_version": "1.2.0",
      "model_name": "LayoutModel",
      "state": {}
     },
     "5901868619be49098b3e5ceeffdf57a8": {
      "model_module": "@jupyter-widgets/controls",
      "model_module_version": "1.5.0",
      "model_name": "LabelModel",
      "state": {
       "layout": "IPY_MODEL_6a562dbb4c8b440bb7a3b0139a2cb90d",
       "style": "IPY_MODEL_c8fa44c00b3f4ab8a11a1d61015d18fd",
       "value": "angular"
      }
     },
     "5934ea5fc78042c793fb8d248c24fd45": {
      "model_module": "@jupyter-widgets/controls",
      "model_module_version": "1.5.0",
      "model_name": "LabelModel",
      "state": {
       "layout": "IPY_MODEL_a5cbcb6effcb4de7bbab89dad06b7ed0",
       "style": "IPY_MODEL_06517b9e72264b74b2c7688663b8878b",
       "value": "x"
      }
     },
     "59ea76720df04beabebb1fffd9ebd51b": {
      "model_module": "@jupyter-widgets/controls",
      "model_module_version": "1.5.0",
      "model_name": "GridBoxModel",
      "state": {
       "children": [
        "IPY_MODEL_b532024b03584bc68412c054134ee723",
        "IPY_MODEL_ea7a0be4afa24944bb418223cbaf95b3",
        "IPY_MODEL_d2d94651aadb41bb8cc0cf9b83f72adc",
        "IPY_MODEL_9cd0a64488da410a85f425bd83b7607c",
        "IPY_MODEL_8da763de4ea04eb98086a09422e9d49b",
        "IPY_MODEL_3887264c75c24b9e882cc6cc0c088c58"
       ],
       "layout": "IPY_MODEL_c30762455c5f42338a6e7bdee9a34a29"
      }
     },
     "5a15e9795e204e9ca312a517714b2ab4": {
      "model_module": "@jupyter-widgets/base",
      "model_module_version": "1.2.0",
      "model_name": "LayoutModel",
      "state": {}
     },
     "5a78229bf135481bb94b2caa7c7207ea": {
      "model_module": "@jupyter-widgets/base",
      "model_module_version": "1.2.0",
      "model_name": "LayoutModel",
      "state": {
       "width": "100px"
      }
     },
     "5a820574d4f54fc9ad994dd176aed1ca": {
      "model_module": "@jupyter-widgets/controls",
      "model_module_version": "1.5.0",
      "model_name": "IntTextModel",
      "state": {
       "description": "Rate",
       "layout": "IPY_MODEL_05805e85632e424ba7b7200bedc90b55",
       "step": 1,
       "style": "IPY_MODEL_e0e7e5586a224ad6abf917f712209ab6",
       "value": 5
      }
     },
     "5bf1c1ffa9e44e948acddcdb868d4608": {
      "model_module": "@jupyter-widgets/base",
      "model_module_version": "1.2.0",
      "model_name": "LayoutModel",
      "state": {
       "width": "100px"
      }
     },
     "5d67b8822ca84070bc8243fc2e9bf374": {
      "model_module": "@jupyter-widgets/controls",
      "model_module_version": "1.5.0",
      "model_name": "ButtonStyleModel",
      "state": {}
     },
     "5e0b82bb37a9411781baba3b819b4156": {
      "model_module": "@jupyter-widgets/controls",
      "model_module_version": "1.5.0",
      "model_name": "ButtonStyleModel",
      "state": {
       "button_color": "GreenYellow"
      }
     },
     "60bfea263cf54e3d87d91096d0f0751a": {
      "model_module": "@jupyter-widgets/controls",
      "model_module_version": "1.5.0",
      "model_name": "DescriptionStyleModel",
      "state": {
       "description_width": ""
      }
     },
     "619560b597d74b8db3a103be6d745cd2": {
      "model_module": "jupyter-matplotlib",
      "model_module_version": "^0.9.0",
      "model_name": "ToolbarModel",
      "state": {
       "layout": "IPY_MODEL_860eb0fdec1a4fc8b6cc38c670ce6cab",
       "toolitems": [
        [
         "Home",
         "Reset original view",
         "home",
         "home"
        ],
        [
         "Back",
         "Back to previous view",
         "arrow-left",
         "back"
        ],
        [
         "Forward",
         "Forward to next view",
         "arrow-right",
         "forward"
        ],
        [
         "Pan",
         "Pan axes with left mouse, zoom with right",
         "arrows",
         "pan"
        ],
        [
         "Zoom",
         "Zoom to rectangle",
         "square-o",
         "zoom"
        ],
        [
         "Download",
         "Download plot",
         "floppy-o",
         "save_figure"
        ]
       ]
      }
     },
     "62699717dac24a88828b96825b6b36e5": {
      "model_module": "@jupyter-widgets/base",
      "model_module_version": "1.2.0",
      "model_name": "LayoutModel",
      "state": {
       "grid_area": "b8",
       "width": "auto"
      }
     },
     "631b4c04b7be4a9895e6e21fd8efdd64": {
      "model_module": "jupyter-matplotlib",
      "model_module_version": "^0.9.0",
      "model_name": "ToolbarModel",
      "state": {
       "layout": "IPY_MODEL_2a5f2ac963a443c9a65176a2d212a511",
       "toolitems": [
        [
         "Home",
         "Reset original view",
         "home",
         "home"
        ],
        [
         "Back",
         "Back to previous view",
         "arrow-left",
         "back"
        ],
        [
         "Forward",
         "Forward to next view",
         "arrow-right",
         "forward"
        ],
        [
         "Pan",
         "Pan axes with left mouse, zoom with right",
         "arrows",
         "pan"
        ],
        [
         "Zoom",
         "Zoom to rectangle",
         "square-o",
         "zoom"
        ],
        [
         "Download",
         "Download plot",
         "floppy-o",
         "save_figure"
        ]
       ]
      }
     },
     "6320d34a15a843bca7242a0914e21f0d": {
      "model_module": "@jupyter-widgets/controls",
      "model_module_version": "1.5.0",
      "model_name": "ButtonModel",
      "state": {
       "description": "Assisted_drive mode",
       "layout": "IPY_MODEL_4adbafb034464c49b1c0f26303ac2424",
       "style": "IPY_MODEL_5760ac603cc044f28e70b1647ed0f4d4"
      }
     },
     "65a5a011514d4365bcc44b80f7e7d95a": {
      "model_module": "@jupyter-widgets/controls",
      "model_module_version": "1.5.0",
      "model_name": "IntTextModel",
      "state": {
       "description": "Rate",
       "layout": "IPY_MODEL_4ebdfc8e5c58454c87371a020b1dbb26",
       "step": 1,
       "style": "IPY_MODEL_e7e533b1dfb9432482ea8dfe6f31959b",
       "value": 5
      }
     },
     "667a8667955f41a1b44e3fa2b1f38242": {
      "model_module": "@jupyter-widgets/base",
      "model_module_version": "1.2.0",
      "model_name": "LayoutModel",
      "state": {}
     },
     "679737b38a9541f78a73992dabd42c29": {
      "model_module": "@jupyter-widgets/base",
      "model_module_version": "1.2.0",
      "model_name": "LayoutModel",
      "state": {
       "grid_area": "b7",
       "width": "auto"
      }
     },
     "685ed90a07fb45519df1bc6ad283d339": {
      "model_module": "jupyter-matplotlib",
      "model_module_version": "^0.9.0",
      "model_name": "ToolbarModel",
      "state": {
       "layout": "IPY_MODEL_7d9d587e66ef42e08691a08840ced91c",
       "toolitems": [
        [
         "Home",
         "Reset original view",
         "home",
         "home"
        ],
        [
         "Back",
         "Back to previous view",
         "arrow-left",
         "back"
        ],
        [
         "Forward",
         "Forward to next view",
         "arrow-right",
         "forward"
        ],
        [
         "Pan",
         "Pan axes with left mouse, zoom with right",
         "arrows",
         "pan"
        ],
        [
         "Zoom",
         "Zoom to rectangle",
         "square-o",
         "zoom"
        ],
        [
         "Download",
         "Download plot",
         "floppy-o",
         "save_figure"
        ]
       ]
      }
     },
     "68c2bd65cf24425c9ce216eb93e2b4b3": {
      "model_module": "@jupyter-widgets/base",
      "model_module_version": "1.2.0",
      "model_name": "LayoutModel",
      "state": {
       "grid_template_areas": "\n           \"b9 b9 b9\"\n           \"b8 b12 b10\"\n           \"b11 b11 b11\"\n           ",
       "grid_template_columns": "33% 33% 33%",
       "grid_template_rows": "auto auto auto",
       "width": "100%"
      }
     },
     "69867f0797194b439ccc669aea9d18d7": {
      "model_module": "@jupyter-widgets/controls",
      "model_module_version": "1.5.0",
      "model_name": "ButtonStyleModel",
      "state": {
       "button_color": "GreenYellow"
      }
     },
     "698be06e48a049ca90d61f2679bb6007": {
      "model_module": "@jupyter-widgets/base",
      "model_module_version": "1.2.0",
      "model_name": "LayoutModel",
      "state": {}
     },
     "69db8135868841e1a7d7ebeb462cfda0": {
      "model_module": "@jupyter-widgets/controls",
      "model_module_version": "1.5.0",
      "model_name": "FloatTextModel",
      "state": {
       "layout": "IPY_MODEL_51381769b2fb452db087e53945b03e60",
       "step": null,
       "style": "IPY_MODEL_28beb2222b514283bd3809cc12911dc5"
      }
     },
     "6a562dbb4c8b440bb7a3b0139a2cb90d": {
      "model_module": "@jupyter-widgets/base",
      "model_module_version": "1.2.0",
      "model_name": "LayoutModel",
      "state": {}
     },
     "6ac19f2cced845b2899e199831c7fa96": {
      "model_module": "@jupyter-widgets/controls",
      "model_module_version": "1.5.0",
      "model_name": "ButtonModel",
      "state": {
       "description": "Move Forward",
       "layout": "IPY_MODEL_46521d5e2c924ea58cede130b613bca8",
       "style": "IPY_MODEL_fc0eb70d41ab469d8b19ec192f416877"
      }
     },
     "6b231dce0daf489ab46a896effd2d88b": {
      "model_module": "jupyter-matplotlib",
      "model_module_version": "^0.9.0",
      "model_name": "MPLCanvasModel",
      "state": {
       "_figure_label": "Figure 1",
       "_height": 480,
       "_image_mode": "diff",
       "_width": 640,
       "layout": "IPY_MODEL_336c0a223eb14a569ea1761de8fce944",
       "toolbar": "IPY_MODEL_f09fe349545a42c9b9e5797e7a0a5153",
       "toolbar_position": "left"
      }
     },
     "6c321015081748bd8892f54aa51c1708": {
      "model_module": "@jupyter-widgets/base",
      "model_module_version": "1.2.0",
      "model_name": "LayoutModel",
      "state": {}
     },
     "6e6ca9d8061442478ffe25fe13df26b3": {
      "model_module": "@jupyter-widgets/controls",
      "model_module_version": "1.5.0",
      "model_name": "GridBoxModel",
      "state": {
       "children": [
        "IPY_MODEL_7c5bb11ded724dee9c5b80a499b712c9",
        "IPY_MODEL_93ac7dcf61854d7b98987c5ece6feeb4",
        "IPY_MODEL_3561387904f64c05ba529775b7eeb011"
       ],
       "layout": "IPY_MODEL_040ff410cb9740e28c7837c6e377745f"
      }
     },
     "6ecb318d90934062a8e9ec003bcaa664": {
      "model_module": "@jupyter-widgets/controls",
      "model_module_version": "1.5.0",
      "model_name": "ButtonStyleModel",
      "state": {}
     },
     "6fa51563717b41b58403b0db8ccd93bf": {
      "model_module": "@jupyter-widgets/controls",
      "model_module_version": "1.5.0",
      "model_name": "LabelModel",
      "state": {
       "layout": "IPY_MODEL_1a96094d6667459eb3aee01a56580a51",
       "style": "IPY_MODEL_a56e296cf53c4efcbbe04aa110728f69",
       "value": "y"
      }
     },
     "6fe7d1de6a6c47c0adc4944ac9859b65": {
      "model_module": "@jupyter-widgets/controls",
      "model_module_version": "1.5.0",
      "model_name": "LabelModel",
      "state": {
       "layout": "IPY_MODEL_5bf1c1ffa9e44e948acddcdb868d4608",
       "style": "IPY_MODEL_546825530d6d47308e71866e47e37645",
       "value": "z"
      }
     },
     "701375e7fd064e3c9dd460cbb405cfdb": {
      "model_module": "@jupyter-widgets/controls",
      "model_module_version": "1.5.0",
      "model_name": "ButtonModel",
      "state": {
       "description": "Move Forward",
       "layout": "IPY_MODEL_00ab7325b9b84049993b641f2ff57875",
       "style": "IPY_MODEL_b45f28aa7a8b4a4baae832f4d201c171"
      }
     },
     "70342149a80247ffa9a819fa229511cc": {
      "model_module": "@jupyter-widgets/controls",
      "model_module_version": "1.5.0",
      "model_name": "FloatTextModel",
      "state": {
       "layout": "IPY_MODEL_9b3ed50be9344f28b69a9f0c4a6ec736",
       "step": null,
       "style": "IPY_MODEL_f78694cee15d4f5eb452dff45a9f0cc3"
      }
     },
     "70df3149d8c442bab37d01364f6dce82": {
      "model_module": "@jupyter-widgets/base",
      "model_module_version": "1.2.0",
      "model_name": "LayoutModel",
      "state": {
       "grid_template_areas": "\n           \"decided_x decided_y\"\n           \"b7 b7\"\n           ",
       "grid_template_columns": "50% 50%",
       "grid_template_rows": "auto auto",
       "width": "100%"
      }
     },
     "7163b9635dc14085bce5012e75383fac": {
      "model_module": "@jupyter-widgets/base",
      "model_module_version": "1.2.0",
      "model_name": "LayoutModel",
      "state": {
       "grid_area": "b3",
       "width": "auto"
      }
     },
     "71d48a16744042c4a8ab42ccac29f139": {
      "model_module": "@jupyter-widgets/base",
      "model_module_version": "1.2.0",
      "model_name": "LayoutModel",
      "state": {}
     },
     "72446f5807fa47c9b3c721a60384d54a": {
      "model_module": "@jupyter-widgets/base",
      "model_module_version": "1.2.0",
      "model_name": "LayoutModel",
      "state": {}
     },
     "7285e2cb60374c4cb67800a9dceabf20": {
      "model_module": "@jupyter-widgets/controls",
      "model_module_version": "1.5.0",
      "model_name": "DescriptionStyleModel",
      "state": {
       "description_width": ""
      }
     },
     "72d76aa31ded4c149dea6941d8f364b3": {
      "model_module": "@jupyter-widgets/controls",
      "model_module_version": "1.5.0",
      "model_name": "ButtonStyleModel",
      "state": {
       "button_color": "Yellow"
      }
     },
     "730827daba3942068464d37b859d03e5": {
      "model_module": "@jupyter-widgets/base",
      "model_module_version": "1.2.0",
      "model_name": "LayoutModel",
      "state": {}
     },
     "73806ad5a5094d88b6fe2cdd81893b95": {
      "model_module": "@jupyter-widgets/base",
      "model_module_version": "1.2.0",
      "model_name": "LayoutModel",
      "state": {}
     },
     "73d732493b0e4a4ab517968484e9b290": {
      "model_module": "@jupyter-widgets/base",
      "model_module_version": "1.2.0",
      "model_name": "LayoutModel",
      "state": {
       "grid_area": "b7",
       "width": "auto"
      }
     },
     "74106611740a4a32840ca63e30c501b0": {
      "model_module": "@jupyter-widgets/controls",
      "model_module_version": "1.5.0",
      "model_name": "ButtonModel",
      "state": {
       "description": "Start",
       "layout": "IPY_MODEL_adb08bd607d24ca996901f107a053864",
       "style": "IPY_MODEL_5d67b8822ca84070bc8243fc2e9bf374"
      }
     },
     "74bac8f25a2e41c3a4ac05a606e30b48": {
      "model_module": "@jupyter-widgets/controls",
      "model_module_version": "1.5.0",
      "model_name": "DescriptionStyleModel",
      "state": {
       "description_width": ""
      }
     },
     "74d72e29aa074bd3b2cb92b5a2376383": {
      "model_module": "@jupyter-widgets/base",
      "model_module_version": "1.2.0",
      "model_name": "LayoutModel",
      "state": {}
     },
     "75140e7592cc40ca8971b2b2ea5ec0a9": {
      "model_module": "jupyter-matplotlib",
      "model_module_version": "^0.9.0",
      "model_name": "MPLCanvasModel",
      "state": {
       "_figure_label": "Figure 1",
       "_height": 480,
       "_image_mode": "diff",
       "_message": "x=13.6613      y=-8.39827    ",
       "_width": 640,
       "layout": "IPY_MODEL_8acccd7661ff41639c6b56b4fc405dc5",
       "toolbar": "IPY_MODEL_d90bfeb4e4d44350a617df46aca07f6c",
       "toolbar_position": "left"
      }
     },
     "755065852ac8430a957c11a48d1a05eb": {
      "model_module": "@jupyter-widgets/controls",
      "model_module_version": "1.5.0",
      "model_name": "FloatTextModel",
      "state": {
       "layout": "IPY_MODEL_a947afc93b7543cc88fb9c02d10b9066",
       "step": null,
       "style": "IPY_MODEL_e470c62d07ad43a39e462033816d27d5"
      }
     },
     "76295460085d41868000a4e492fc8f43": {
      "model_module": "@jupyter-widgets/controls",
      "model_module_version": "1.5.0",
      "model_name": "ButtonStyleModel",
      "state": {}
     },
     "76a231933b9045b7a543aa9a292498a3": {
      "model_module": "@jupyter-widgets/controls",
      "model_module_version": "1.5.0",
      "model_name": "ButtonModel",
      "state": {
       "description": "Turn Right",
       "layout": "IPY_MODEL_181f10d2d3424588b67ed755dcac6758",
       "style": "IPY_MODEL_24813a433bf941c186c7a6efa633e9ef"
      }
     },
     "76dfa279573e46208fef36b08f891b1a": {
      "model_module": "@jupyter-widgets/base",
      "model_module_version": "1.2.0",
      "model_name": "LayoutModel",
      "state": {}
     },
     "78c613a6383c46ac9d91b3524f29d17f": {
      "model_module": "@jupyter-widgets/base",
      "model_module_version": "1.2.0",
      "model_name": "LayoutModel",
      "state": {
       "grid_template_areas": "\n           \"b9 b9 b9\"\n           \"b8 b12 b10\"\n           \"b11 b11 b11\"\n           ",
       "grid_template_columns": "33% 33% 33%",
       "grid_template_rows": "auto auto auto",
       "width": "100%"
      }
     },
     "78f77e69b6104a599daa7e46d284a20f": {
      "model_module": "@jupyter-widgets/base",
      "model_module_version": "1.2.0",
      "model_name": "LayoutModel",
      "state": {
       "grid_area": "b3",
       "width": "auto"
      }
     },
     "793ed96b58394f18bf9b94578419c01b": {
      "model_module": "@jupyter-widgets/controls",
      "model_module_version": "1.5.0",
      "model_name": "FloatTextModel",
      "state": {
       "description": "Y goal:",
       "layout": "IPY_MODEL_363c7a0121cf41cfa2e5ac126c408ea7",
       "step": null,
       "style": "IPY_MODEL_f0c9d14a2c004e34a8bc67b8bf87e7cd"
      }
     },
     "7a00d80a61874e14a48a11de166e0f79": {
      "model_module": "@jupyter-widgets/base",
      "model_module_version": "1.2.0",
      "model_name": "LayoutModel",
      "state": {}
     },
     "7a5de1fe84c84947af963c98cc8c8920": {
      "model_module": "@jupyter-widgets/controls",
      "model_module_version": "1.5.0",
      "model_name": "GridBoxModel",
      "state": {
       "children": [
        "IPY_MODEL_8b9d1796c9d24e0fbac4a5e7e065c954",
        "IPY_MODEL_102348817b1c41b88490757923c82904",
        "IPY_MODEL_df5590b981a5462d990df015e1f5cfa7",
        "IPY_MODEL_331aef244b20472f99d26b06c989fd65",
        "IPY_MODEL_510c689a6333421cb69fb83a53842a33",
        "IPY_MODEL_93f019820cfd4769b9ec5f0bae1fc1ab"
       ],
       "layout": "IPY_MODEL_39bdee1f3d6e4e07b969f33344a7164b"
      }
     },
     "7b070d48504645d882e6402c5da7bdea": {
      "model_module": "jupyter-matplotlib",
      "model_module_version": "^0.9.0",
      "model_name": "ToolbarModel",
      "state": {
       "layout": "IPY_MODEL_8f0c888f97be48b79f4fc006f9d4f5a5",
       "toolitems": [
        [
         "Home",
         "Reset original view",
         "home",
         "home"
        ],
        [
         "Back",
         "Back to previous view",
         "arrow-left",
         "back"
        ],
        [
         "Forward",
         "Forward to next view",
         "arrow-right",
         "forward"
        ],
        [
         "Pan",
         "Pan axes with left mouse, zoom with right",
         "arrows",
         "pan"
        ],
        [
         "Zoom",
         "Zoom to rectangle",
         "square-o",
         "zoom"
        ],
        [
         "Download",
         "Download plot",
         "floppy-o",
         "save_figure"
        ]
       ]
      }
     },
     "7b46e0aac73442d38d5dc09653b0b654": {
      "model_module": "@jupyter-widgets/controls",
      "model_module_version": "1.5.0",
      "model_name": "ButtonStyleModel",
      "state": {
       "button_color": "GreenYellow"
      }
     },
     "7b5f970bba6d4f4f998f906a29865ec7": {
      "model_module": "@jupyter-widgets/controls",
      "model_module_version": "1.5.0",
      "model_name": "ButtonStyleModel",
      "state": {
       "button_color": "GreenYellow"
      }
     },
     "7b6594bde83a4b7d963292870c913fb0": {
      "model_module": "@jupyter-widgets/controls",
      "model_module_version": "1.5.0",
      "model_name": "DescriptionStyleModel",
      "state": {
       "description_width": ""
      }
     },
     "7bf8a905699f433786970af85acffc83": {
      "model_module": "@jupyter-widgets/controls",
      "model_module_version": "1.5.0",
      "model_name": "DescriptionStyleModel",
      "state": {
       "description_width": ""
      }
     },
     "7c32e271373846cc9d554cf813612a49": {
      "model_module": "@jupyter-widgets/controls",
      "model_module_version": "1.5.0",
      "model_name": "HBoxModel",
      "state": {
       "children": [
        "IPY_MODEL_1a08b287a7ed456e85b14922098fa629",
        "IPY_MODEL_82fa0d4c0966439fa011c4f4863b12fd"
       ],
       "layout": "IPY_MODEL_066ec13b7dea48a69b5b6a0a8d49a9a2"
      }
     },
     "7c5bb11ded724dee9c5b80a499b712c9": {
      "model_module": "@jupyter-widgets/controls",
      "model_module_version": "1.5.0",
      "model_name": "FloatTextModel",
      "state": {
       "description": "X goal:",
       "layout": "IPY_MODEL_698be06e48a049ca90d61f2679bb6007",
       "step": null,
       "style": "IPY_MODEL_c7b6aefb16564cb987962a342dd0e2df",
       "value": -3
      }
     },
     "7c8e44bdc9984698b0aba0f944257ca8": {
      "model_module": "@jupyter-widgets/controls",
      "model_module_version": "1.5.0",
      "model_name": "DescriptionStyleModel",
      "state": {
       "description_width": ""
      }
     },
     "7cd4e7a7ebbe4ca99c1dc265a3961dce": {
      "model_module": "@jupyter-widgets/controls",
      "model_module_version": "1.5.0",
      "model_name": "ButtonModel",
      "state": {
       "description": "Turn Right",
       "layout": "IPY_MODEL_aa83c23b72e84e04b70c9c36849d7eac",
       "style": "IPY_MODEL_7b46e0aac73442d38d5dc09653b0b654"
      }
     },
     "7d31354a3ddd41fcbdb30aab7e6aa49f": {
      "model_module": "@jupyter-widgets/controls",
      "model_module_version": "1.5.0",
      "model_name": "ButtonModel",
      "state": {
       "description": "Turn Left",
       "layout": "IPY_MODEL_a6f8e2833f924dfda322f81da3a50265",
       "style": "IPY_MODEL_bae6d713d2d044cf8b1b756d25547df2"
      }
     },
     "7d6d5db4572a48c0816b0a3513557041": {
      "model_module": "@jupyter-widgets/controls",
      "model_module_version": "1.5.0",
      "model_name": "GridBoxModel",
      "state": {
       "children": [
        "IPY_MODEL_1b1cf4ee02d4476893320086500b2f14",
        "IPY_MODEL_268d077af9704e09a13b055d225b6c5b",
        "IPY_MODEL_a6c6dc66200641148892af39f9e0a957"
       ],
       "layout": "IPY_MODEL_1a766d0f088948eea6719af6ac2fe96f"
      }
     },
     "7d9d587e66ef42e08691a08840ced91c": {
      "model_module": "@jupyter-widgets/base",
      "model_module_version": "1.2.0",
      "model_name": "LayoutModel",
      "state": {}
     },
     "7da1567595a74829853631811dddd0a7": {
      "model_module": "@jupyter-widgets/base",
      "model_module_version": "1.2.0",
      "model_name": "LayoutModel",
      "state": {}
     },
     "7de6f8b285904ad28298660e0cf9e06b": {
      "model_module": "@jupyter-widgets/controls",
      "model_module_version": "1.5.0",
      "model_name": "DescriptionStyleModel",
      "state": {
       "description_width": ""
      }
     },
     "7df1ffb896d24bb2ac9799597bdbbf07": {
      "model_module": "@jupyter-widgets/controls",
      "model_module_version": "1.5.0",
      "model_name": "HBoxModel",
      "state": {
       "children": [
        "IPY_MODEL_33640721feac4d98aee3b83e089c3c48",
        "IPY_MODEL_e4fb351eb30a46c48328ff9aca14b411"
       ],
       "layout": "IPY_MODEL_9c71b737f01f4de0a63a63cdca0489d6"
      }
     },
     "7e51a55211a74ddc9f363cb083e3f9a1": {
      "model_module": "@jupyter-widgets/base",
      "model_module_version": "1.2.0",
      "model_name": "LayoutModel",
      "state": {
       "grid_area": "b1",
       "width": "auto"
      }
     },
     "7fe24a184b554898b4f0434fb92d83e4": {
      "model_module": "@jupyter-widgets/controls",
      "model_module_version": "1.5.0",
      "model_name": "HBoxModel",
      "state": {
       "children": [
        "IPY_MODEL_d2a84132d69b4eebb6578bf06acebdab",
        "IPY_MODEL_44ff6d6aeba047b78a091a4c3acf0b21"
       ],
       "layout": "IPY_MODEL_0b37e1e473e545e8b85b1f260f418186"
      }
     },
     "801c4aaf682348efb8bdacf685cfa031": {
      "model_module": "@jupyter-widgets/base",
      "model_module_version": "1.2.0",
      "model_name": "LayoutModel",
      "state": {
       "grid_template_areas": "\n           \"b1 b4\"\n           \"b2 b5\"\n           \"b3 b6\"\n           ",
       "grid_template_columns": "50% 50%",
       "grid_template_rows": "auto auto auto",
       "width": "100%"
      }
     },
     "809e0e169a12407eb8cfc2515a646ae4": {
      "model_module": "@jupyter-widgets/controls",
      "model_module_version": "1.5.0",
      "model_name": "DescriptionStyleModel",
      "state": {
       "description_width": ""
      }
     },
     "820459ab8df94821b8dc70fe5d2f89c0": {
      "model_module": "@jupyter-widgets/base",
      "model_module_version": "1.2.0",
      "model_name": "LayoutModel",
      "state": {
       "grid_area": "b7",
       "width": "auto"
      }
     },
     "82bb7994304c40c8beb682d97e79b169": {
      "model_module": "@jupyter-widgets/base",
      "model_module_version": "1.2.0",
      "model_name": "LayoutModel",
      "state": {}
     },
     "82c9150db23e4b7ba693c11344505d1b": {
      "model_module": "@jupyter-widgets/base",
      "model_module_version": "1.2.0",
      "model_name": "LayoutModel",
      "state": {}
     },
     "82fa0d4c0966439fa011c4f4863b12fd": {
      "model_module": "@jupyter-widgets/controls",
      "model_module_version": "1.5.0",
      "model_name": "FloatTextModel",
      "state": {
       "layout": "IPY_MODEL_01747940936544429a6a581975da4e85",
       "step": null,
       "style": "IPY_MODEL_98e3b9114c354da190b5aefbc7f8aa1a"
      }
     },
     "8303d45021b14ed1a9963e4849af7d5a": {
      "model_module": "@jupyter-widgets/base",
      "model_module_version": "1.2.0",
      "model_name": "LayoutModel",
      "state": {}
     },
     "84dd3e5ed3ac4b5c839765ea74b1f037": {
      "model_module": "@jupyter-widgets/controls",
      "model_module_version": "1.5.0",
      "model_name": "DescriptionStyleModel",
      "state": {
       "description_width": ""
      }
     },
     "84f9c0cffc5d48bd8328b0003e62526c": {
      "model_module": "@jupyter-widgets/base",
      "model_module_version": "1.2.0",
      "model_name": "LayoutModel",
      "state": {
       "width": "100px"
      }
     },
     "850e378716834dbb8924a26c26bfd49b": {
      "model_module": "@jupyter-widgets/base",
      "model_module_version": "1.2.0",
      "model_name": "LayoutModel",
      "state": {
       "width": "100px"
      }
     },
     "8532dc63bf0947bd9d35696e5092763b": {
      "model_module": "@jupyter-widgets/base",
      "model_module_version": "1.2.0",
      "model_name": "LayoutModel",
      "state": {
       "grid_area": "b7",
       "width": "auto"
      }
     },
     "860eb0fdec1a4fc8b6cc38c670ce6cab": {
      "model_module": "@jupyter-widgets/base",
      "model_module_version": "1.2.0",
      "model_name": "LayoutModel",
      "state": {}
     },
     "863b0a43f6ab43aba824b385c5fd42c8": {
      "model_module": "@jupyter-widgets/controls",
      "model_module_version": "1.5.0",
      "model_name": "DescriptionStyleModel",
      "state": {
       "description_width": ""
      }
     },
     "8756465603674c2394a3198d436773fc": {
      "model_module": "@jupyter-widgets/controls",
      "model_module_version": "1.5.0",
      "model_name": "FloatTextModel",
      "state": {
       "layout": "IPY_MODEL_90a303bf7ce945819d7ac0fb6d841834",
       "step": null,
       "style": "IPY_MODEL_4e39a39a2e5440f2a541c06bf9e45d76"
      }
     },
     "88357e4ec7aa4ceaac4a745764626f4c": {
      "model_module": "@jupyter-widgets/controls",
      "model_module_version": "1.5.0",
      "model_name": "DescriptionStyleModel",
      "state": {
       "description_width": ""
      }
     },
     "89d6734388324727bb093a745336b2c8": {
      "model_module": "@jupyter-widgets/controls",
      "model_module_version": "1.5.0",
      "model_name": "ButtonStyleModel",
      "state": {
       "button_color": "GreenYellow"
      }
     },
     "8a14cc1a499345428bc0a53200e7dc66": {
      "model_module": "@jupyter-widgets/base",
      "model_module_version": "1.2.0",
      "model_name": "LayoutModel",
      "state": {}
     },
     "8aa33df29e164b9c9f151ffc6358feff": {
      "model_module": "@jupyter-widgets/controls",
      "model_module_version": "1.5.0",
      "model_name": "ButtonStyleModel",
      "state": {
       "button_color": "GreenYellow"
      }
     },
     "8aa8ed9be88640b6a25d0bb0ce923a83": {
      "model_module": "@jupyter-widgets/controls",
      "model_module_version": "1.5.0",
      "model_name": "HBoxModel",
      "state": {
       "children": [
        "IPY_MODEL_401510a0d85a413f9fde47ee5ff72e5f",
        "IPY_MODEL_1ca20d7da6be4b29b8a4741cfb86e299"
       ],
       "layout": "IPY_MODEL_f98f734af0e44c97bcdf6ef19db84c8c"
      }
     },
     "8acccd7661ff41639c6b56b4fc405dc5": {
      "model_module": "@jupyter-widgets/base",
      "model_module_version": "1.2.0",
      "model_name": "LayoutModel",
      "state": {}
     },
     "8b8d10debc87461d9935d52e61511c9d": {
      "model_module": "@jupyter-widgets/controls",
      "model_module_version": "1.5.0",
      "model_name": "ButtonModel",
      "state": {
       "description": "Cancel Goal",
       "layout": "IPY_MODEL_4e77594992064475baa076d595c40033",
       "style": "IPY_MODEL_72d76aa31ded4c149dea6941d8f364b3"
      }
     },
     "8b9d1796c9d24e0fbac4a5e7e065c954": {
      "model_module": "@jupyter-widgets/controls",
      "model_module_version": "1.5.0",
      "model_name": "ButtonModel",
      "state": {
       "description": "Auto_drive mode",
       "layout": "IPY_MODEL_e030363b874a400684a40675df0828aa",
       "style": "IPY_MODEL_fca4413afd1c4bf6b29beeb8a1bd86a6"
      }
     },
     "8c2c6c6be9374055930ead80cfc0fb7e": {
      "model_module": "@jupyter-widgets/base",
      "model_module_version": "1.2.0",
      "model_name": "LayoutModel",
      "state": {}
     },
     "8d69d54941e0460f8ca33da4f5789c13": {
      "model_module": "@jupyter-widgets/base",
      "model_module_version": "1.2.0",
      "model_name": "LayoutModel",
      "state": {
       "grid_area": "b2",
       "width": "auto"
      }
     },
     "8d8de86a5cdd4a0aabd324dd91f64c56": {
      "model_module": "jupyter-matplotlib",
      "model_module_version": "^0.9.0",
      "model_name": "ToolbarModel",
      "state": {
       "layout": "IPY_MODEL_53981cdcb218444fa9b4090269912e36",
       "toolitems": [
        [
         "Home",
         "Reset original view",
         "home",
         "home"
        ],
        [
         "Back",
         "Back to previous view",
         "arrow-left",
         "back"
        ],
        [
         "Forward",
         "Forward to next view",
         "arrow-right",
         "forward"
        ],
        [
         "Pan",
         "Pan axes with left mouse, zoom with right",
         "arrows",
         "pan"
        ],
        [
         "Zoom",
         "Zoom to rectangle",
         "square-o",
         "zoom"
        ],
        [
         "Download",
         "Download plot",
         "floppy-o",
         "save_figure"
        ]
       ]
      }
     },
     "8da763de4ea04eb98086a09422e9d49b": {
      "model_module": "@jupyter-widgets/controls",
      "model_module_version": "1.5.0",
      "model_name": "ButtonModel",
      "state": {
       "description": "Reset Position",
       "layout": "IPY_MODEL_ca8ea42ffa8a47a995e3ff07b173415f",
       "style": "IPY_MODEL_90b5d149611e469ca8ebd77767e2c6f8"
      }
     },
     "8dd17ae481224e77ac6496c85eb13c6c": {
      "model_module": "jupyter-matplotlib",
      "model_module_version": "^0.9.0",
      "model_name": "ToolbarModel",
      "state": {
       "layout": "IPY_MODEL_82c9150db23e4b7ba693c11344505d1b",
       "toolitems": [
        [
         "Home",
         "Reset original view",
         "home",
         "home"
        ],
        [
         "Back",
         "Back to previous view",
         "arrow-left",
         "back"
        ],
        [
         "Forward",
         "Forward to next view",
         "arrow-right",
         "forward"
        ],
        [
         "Pan",
         "Pan axes with left mouse, zoom with right",
         "arrows",
         "pan"
        ],
        [
         "Zoom",
         "Zoom to rectangle",
         "square-o",
         "zoom"
        ],
        [
         "Download",
         "Download plot",
         "floppy-o",
         "save_figure"
        ]
       ]
      }
     },
     "8f01ed819e0d4e0fba0c0fd5045be72c": {
      "model_module": "@jupyter-widgets/base",
      "model_module_version": "1.2.0",
      "model_name": "LayoutModel",
      "state": {}
     },
     "8f0c888f97be48b79f4fc006f9d4f5a5": {
      "model_module": "@jupyter-widgets/base",
      "model_module_version": "1.2.0",
      "model_name": "LayoutModel",
      "state": {}
     },
     "8f507b87b46a462e991bfc85e58139ae": {
      "model_module": "@jupyter-widgets/controls",
      "model_module_version": "1.5.0",
      "model_name": "HBoxModel",
      "state": {
       "children": [
        "IPY_MODEL_208192c458654d3db186ff307618301a",
        "IPY_MODEL_0175a2178ed34164802428c6b7fa1dff"
       ],
       "layout": "IPY_MODEL_aa3da0d9a15344298a48d2463a58eff5"
      }
     },
     "9038c97a8b554ab3ac7270799359ec82": {
      "model_module": "@jupyter-widgets/controls",
      "model_module_version": "1.5.0",
      "model_name": "HBoxModel",
      "state": {
       "children": [
        "IPY_MODEL_55dc1abe26f34984b6b1f95a6d00da37",
        "IPY_MODEL_1158a8c03ea440f7bba323a36cbcd140",
        "IPY_MODEL_2755c90a7b9b4c10be3db33b38bf9b6d",
        "IPY_MODEL_74106611740a4a32840ca63e30c501b0"
       ],
       "layout": "IPY_MODEL_3d5bfbb78da141d18369e580858c3743"
      }
     },
     "9043b2cb0fad4025a503fe280d29ecf7": {
      "model_module": "@jupyter-widgets/controls",
      "model_module_version": "1.5.0",
      "model_name": "ButtonModel",
      "state": {
       "description": "Stop",
       "layout": "IPY_MODEL_e3652b228ec249e3b6bbfe8bae8bf58d",
       "style": "IPY_MODEL_e9f2f9cf76a64eb0aae8fdc05b1999f6"
      }
     },
     "90884beb0bfe42a7a86466ed29a20834": {
      "model_module": "@jupyter-widgets/base",
      "model_module_version": "1.2.0",
      "model_name": "LayoutModel",
      "state": {}
     },
     "90a303bf7ce945819d7ac0fb6d841834": {
      "model_module": "@jupyter-widgets/base",
      "model_module_version": "1.2.0",
      "model_name": "LayoutModel",
      "state": {}
     },
     "90b5d149611e469ca8ebd77767e2c6f8": {
      "model_module": "@jupyter-widgets/controls",
      "model_module_version": "1.5.0",
      "model_name": "ButtonStyleModel",
      "state": {
       "button_color": "lightblue"
      }
     },
     "90d038479bde42739500fd96527c8107": {
      "model_module": "@jupyter-widgets/base",
      "model_module_version": "1.2.0",
      "model_name": "LayoutModel",
      "state": {
       "grid_area": "b6",
       "width": "auto"
      }
     },
     "91fbbc371ebf4b409275309239cbfb00": {
      "model_module": "@jupyter-widgets/controls",
      "model_module_version": "1.5.0",
      "model_name": "DescriptionStyleModel",
      "state": {
       "description_width": ""
      }
     },
     "928a090d08e243fab68f5effde88cb5b": {
      "model_module": "@jupyter-widgets/controls",
      "model_module_version": "1.5.0",
      "model_name": "ButtonModel",
      "state": {
       "description": "Turn Left",
       "layout": "IPY_MODEL_fbe86e8b14d7420da8857b0f2543466e",
       "style": "IPY_MODEL_c9e8998ff413404f8e8a1e738f0ec6cf"
      }
     },
     "9292033c2c39419ca5ac82680ab40846": {
      "model_module": "@jupyter-widgets/base",
      "model_module_version": "1.2.0",
      "model_name": "LayoutModel",
      "state": {}
     },
     "92f9a55e2a814dd7a995952e07e10c86": {
      "model_module": "@jupyter-widgets/base",
      "model_module_version": "1.2.0",
      "model_name": "LayoutModel",
      "state": {}
     },
     "93ac7dcf61854d7b98987c5ece6feeb4": {
      "model_module": "@jupyter-widgets/controls",
      "model_module_version": "1.5.0",
      "model_name": "FloatTextModel",
      "state": {
       "description": "Y goal:",
       "layout": "IPY_MODEL_b138cb0df2e2499e85d9811567d66d71",
       "step": null,
       "style": "IPY_MODEL_578590f7744340e988d8df2cc63e2385"
      }
     },
     "93f019820cfd4769b9ec5f0bae1fc1ab": {
      "model_module": "@jupyter-widgets/controls",
      "model_module_version": "1.5.0",
      "model_name": "ButtonModel",
      "state": {
       "description": "End Program",
       "layout": "IPY_MODEL_90d038479bde42739500fd96527c8107",
       "style": "IPY_MODEL_e433da9e3e514750a05dde90c29fa384"
      }
     },
     "949b0a921a0b490c9a7a0a4f58eacff2": {
      "model_module": "@jupyter-widgets/controls",
      "model_module_version": "1.5.0",
      "model_name": "DescriptionStyleModel",
      "state": {
       "description_width": ""
      }
     },
     "94fbf0449e9d467abbf8207dcd82341a": {
      "model_module": "@jupyter-widgets/controls",
      "model_module_version": "1.5.0",
      "model_name": "FloatTextModel",
      "state": {
       "layout": "IPY_MODEL_9dbd65c922ca479ba8e2eba4f3ef9cc9",
       "step": null,
       "style": "IPY_MODEL_04b4f65d8dd24468a070d68e9db50841"
      }
     },
     "95bbe87f922a45868c37a36f548a12ac": {
      "model_module": "@jupyter-widgets/controls",
      "model_module_version": "1.5.0",
      "model_name": "LabelModel",
      "state": {
       "layout": "IPY_MODEL_4829836d8d6e49928a7c0e83b864de41",
       "style": "IPY_MODEL_7b6594bde83a4b7d963292870c913fb0",
       "value": "z"
      }
     },
     "95cc3cc16acb4316a785ade6ce2d968e": {
      "model_module": "@jupyter-widgets/controls",
      "model_module_version": "1.5.0",
      "model_name": "FloatTextModel",
      "state": {
       "layout": "IPY_MODEL_b4826b5a69e74f0584df4fcf48d931d5",
       "step": null,
       "style": "IPY_MODEL_37b77bcce4e948998b2e0e123169cd6b"
      }
     },
     "9688839335e043cbbcfa653626ee59bd": {
      "model_module": "@jupyter-widgets/base",
      "model_module_version": "1.2.0",
      "model_name": "LayoutModel",
      "state": {
       "grid_area": "b4",
       "width": "auto"
      }
     },
     "976af11cc50c45f5aefaf093c6600b1e": {
      "model_module": "jupyter-matplotlib",
      "model_module_version": "^0.9.0",
      "model_name": "ToolbarModel",
      "state": {
       "layout": "IPY_MODEL_b0fe93db93ee4e2e976757f9b155c159",
       "toolitems": [
        [
         "Home",
         "Reset original view",
         "home",
         "home"
        ],
        [
         "Back",
         "Back to previous view",
         "arrow-left",
         "back"
        ],
        [
         "Forward",
         "Forward to next view",
         "arrow-right",
         "forward"
        ],
        [
         "Pan",
         "Pan axes with left mouse, zoom with right",
         "arrows",
         "pan"
        ],
        [
         "Zoom",
         "Zoom to rectangle",
         "square-o",
         "zoom"
        ],
        [
         "Download",
         "Download plot",
         "floppy-o",
         "save_figure"
        ]
       ]
      }
     },
     "97d0f489d51a400d87eac4c5fd328f39": {
      "model_module": "@jupyter-widgets/base",
      "model_module_version": "1.2.0",
      "model_name": "LayoutModel",
      "state": {
       "grid_area": "b3",
       "width": "auto"
      }
     },
     "9892edf62946419cba10d34905b095cd": {
      "model_module": "@jupyter-widgets/controls",
      "model_module_version": "1.5.0",
      "model_name": "ButtonStyleModel",
      "state": {
       "button_color": "GreenYellow"
      }
     },
     "98993d9768d548f0b5d851ff49a231b0": {
      "model_module": "@jupyter-widgets/controls",
      "model_module_version": "1.5.0",
      "model_name": "ButtonModel",
      "state": {
       "description": "Move Backward",
       "layout": "IPY_MODEL_070f23f9123c4281ad49e5915eeee20c",
       "style": "IPY_MODEL_3460a9d7f3bc45168881b00e74fbc587"
      }
     },
     "98c0775a137e473b8ac4c01cb5745ccb": {
      "model_module": "@jupyter-widgets/controls",
      "model_module_version": "1.5.0",
      "model_name": "HBoxModel",
      "state": {
       "children": [
        "IPY_MODEL_c7a06dbef6a04a7e844c84c6a39f2582",
        "IPY_MODEL_3704e3bd07b64deea31c58a626fbaed7"
       ],
       "layout": "IPY_MODEL_99e08313b8054888bc743d68d5f8e911"
      }
     },
     "98cf52e78be1438488a990c9c46227b6": {
      "model_module": "@jupyter-widgets/controls",
      "model_module_version": "1.5.0",
      "model_name": "ButtonStyleModel",
      "state": {
       "button_color": "Yellow"
      }
     },
     "98e3b9114c354da190b5aefbc7f8aa1a": {
      "model_module": "@jupyter-widgets/controls",
      "model_module_version": "1.5.0",
      "model_name": "DescriptionStyleModel",
      "state": {
       "description_width": ""
      }
     },
     "990877fdc0754abf809fa30a6450dce9": {
      "model_module": "@jupyter-widgets/controls",
      "model_module_version": "1.5.0",
      "model_name": "DescriptionStyleModel",
      "state": {
       "description_width": ""
      }
     },
     "99e08313b8054888bc743d68d5f8e911": {
      "model_module": "@jupyter-widgets/base",
      "model_module_version": "1.2.0",
      "model_name": "LayoutModel",
      "state": {}
     },
     "99ee9228c2e148c1a6cee2d30f485402": {
      "model_module": "@jupyter-widgets/base",
      "model_module_version": "1.2.0",
      "model_name": "LayoutModel",
      "state": {
       "grid_template_areas": "\n           \"b1 b4\"\n           \"b2 b5\"\n           \"b3 b6\"\n           ",
       "grid_template_columns": "50% 50%",
       "grid_template_rows": "auto auto auto",
       "width": "100%"
      }
     },
     "9a27daab84af4066a4569f733ffd6916": {
      "model_module": "jupyter-matplotlib",
      "model_module_version": "^0.9.0",
      "model_name": "ToolbarModel",
      "state": {
       "layout": "IPY_MODEL_8a14cc1a499345428bc0a53200e7dc66",
       "toolitems": [
        [
         "Home",
         "Reset original view",
         "home",
         "home"
        ],
        [
         "Back",
         "Back to previous view",
         "arrow-left",
         "back"
        ],
        [
         "Forward",
         "Forward to next view",
         "arrow-right",
         "forward"
        ],
        [
         "Pan",
         "Pan axes with left mouse, zoom with right",
         "arrows",
         "pan"
        ],
        [
         "Zoom",
         "Zoom to rectangle",
         "square-o",
         "zoom"
        ],
        [
         "Download",
         "Download plot",
         "floppy-o",
         "save_figure"
        ]
       ]
      }
     },
     "9aebb027304c4e27acfadb14235fe883": {
      "model_module": "@jupyter-widgets/controls",
      "model_module_version": "1.5.0",
      "model_name": "ButtonStyleModel",
      "state": {
       "button_color": "GreenYellow"
      }
     },
     "9b3ed50be9344f28b69a9f0c4a6ec736": {
      "model_module": "@jupyter-widgets/base",
      "model_module_version": "1.2.0",
      "model_name": "LayoutModel",
      "state": {}
     },
     "9b66668dea1344dba4e562a4af937226": {
      "model_module": "@jupyter-widgets/base",
      "model_module_version": "1.2.0",
      "model_name": "LayoutModel",
      "state": {}
     },
     "9b946bdb82f648079c70f8692f192b13": {
      "model_module": "@jupyter-widgets/controls",
      "model_module_version": "1.5.0",
      "model_name": "VBoxModel",
      "state": {
       "children": [
        "IPY_MODEL_24bcb0c5de114b9c8ebf12002d177029",
        "IPY_MODEL_bba529f728e24d31bf03e38d7c40484b",
        "IPY_MODEL_1e6402754c9f4eb8a697ff58c2c0f762",
        "IPY_MODEL_3385d5245e054787904d5bf6510bb212",
        "IPY_MODEL_0b9efb8bf8fc443ebb3b69b74174e31e",
        "IPY_MODEL_d7bf16d2d92f4e5291d7af8eb3258e89",
        "IPY_MODEL_7c32e271373846cc9d554cf813612a49",
        "IPY_MODEL_7df1ffb896d24bb2ac9799597bdbbf07",
        "IPY_MODEL_9038c97a8b554ab3ac7270799359ec82"
       ],
       "layout": "IPY_MODEL_00bc59c6d07944929da6994ecca503f0"
      }
     },
     "9c0aa847485b448a91d18de466496648": {
      "model_module": "@jupyter-widgets/controls",
      "model_module_version": "1.5.0",
      "model_name": "FloatTextModel",
      "state": {
       "layout": "IPY_MODEL_2a081ec56adf457a8e9b49d47249c888",
       "step": null,
       "style": "IPY_MODEL_84dd3e5ed3ac4b5c839765ea74b1f037"
      }
     },
     "9c71b737f01f4de0a63a63cdca0489d6": {
      "model_module": "@jupyter-widgets/base",
      "model_module_version": "1.2.0",
      "model_name": "LayoutModel",
      "state": {}
     },
     "9c9153977a1c4f7ab97039cdb29474d1": {
      "model_module": "@jupyter-widgets/base",
      "model_module_version": "1.2.0",
      "model_name": "LayoutModel",
      "state": {
       "grid_area": "b2",
       "width": "auto"
      }
     },
     "9cd0a64488da410a85f425bd83b7607c": {
      "model_module": "@jupyter-widgets/controls",
      "model_module_version": "1.5.0",
      "model_name": "ButtonModel",
      "state": {
       "description": "Cancel Goal",
       "layout": "IPY_MODEL_9688839335e043cbbcfa653626ee59bd",
       "style": "IPY_MODEL_3628dbc964ae48cbb1baf865bf26100d"
      }
     },
     "9cd78c7bebab4714808bd20895903038": {
      "model_module": "@jupyter-widgets/base",
      "model_module_version": "1.2.0",
      "model_name": "LayoutModel",
      "state": {
       "grid_template_areas": "\n           \"b1 b4\"\n           \"b2 b5\"\n           \"b3 b6\"\n           ",
       "grid_template_columns": "50% 50%",
       "grid_template_rows": "auto auto auto",
       "width": "100%"
      }
     },
     "9d34663da03e4fdd9e26126ad50688c0": {
      "model_module": "@jupyter-widgets/base",
      "model_module_version": "1.2.0",
      "model_name": "LayoutModel",
      "state": {}
     },
     "9dbd65c922ca479ba8e2eba4f3ef9cc9": {
      "model_module": "@jupyter-widgets/base",
      "model_module_version": "1.2.0",
      "model_name": "LayoutModel",
      "state": {}
     },
     "9de57dbed911441b915e58c946a4bd2b": {
      "model_module": "@jupyter-widgets/controls",
      "model_module_version": "1.5.0",
      "model_name": "LabelModel",
      "state": {
       "layout": "IPY_MODEL_ee8730e452ba40d088888c7473fc0de8",
       "style": "IPY_MODEL_24209a41635e4f80b2d2ffa0e32f4050",
       "value": "angular"
      }
     },
     "9e5d8869c53944cdb0bde6b1f03203e8": {
      "model_module": "@jupyter-widgets/base",
      "model_module_version": "1.2.0",
      "model_name": "LayoutModel",
      "state": {}
     },
     "9ebde6d134ad48c9b3b38add88803f0e": {
      "model_module": "@jupyter-widgets/controls",
      "model_module_version": "1.5.0",
      "model_name": "HBoxModel",
      "state": {
       "children": [
        "IPY_MODEL_fb2c47d1beb148589b3d2fba39da2f6c",
        "IPY_MODEL_251e66145dc44eafa08393079a9f411f"
       ],
       "layout": "IPY_MODEL_c88cdfd013864c8187b9a3b743553d93"
      }
     },
     "a05839517a824d94a0b49b08412ee1b6": {
      "model_module": "@jupyter-widgets/controls",
      "model_module_version": "1.5.0",
      "model_name": "DescriptionStyleModel",
      "state": {
       "description_width": ""
      }
     },
     "a09bb50a4a6f4608860d55371c359ab8": {
      "model_module": "@jupyter-widgets/base",
      "model_module_version": "1.2.0",
      "model_name": "LayoutModel",
      "state": {}
     },
     "a0cb153335d54896a3a137d496020ce7": {
      "model_module": "@jupyter-widgets/controls",
      "model_module_version": "1.5.0",
      "model_name": "GridBoxModel",
      "state": {
       "children": [
        "IPY_MODEL_125308a2760c4aae96260a24c78ce623",
        "IPY_MODEL_380f5466a7914371886b1a2648fe88e8",
        "IPY_MODEL_e4673c3c720c464bb5d52f07ed555560",
        "IPY_MODEL_e0e223b86160439c8386668569f85b2a",
        "IPY_MODEL_ae52da78393d4eada7073a8bb06a6a93",
        "IPY_MODEL_ad1f48fef1ab415dab4979fc31f805ac"
       ],
       "layout": "IPY_MODEL_99ee9228c2e148c1a6cee2d30f485402"
      }
     },
     "a0e9b5cafc9d4c3ca520c8f5ec3ba9dd": {
      "model_module": "jupyter-matplotlib",
      "model_module_version": "^0.9.0",
      "model_name": "ToolbarModel",
      "state": {
       "layout": "IPY_MODEL_b34419a34d6e4019b4c85e1eecf84975",
       "toolitems": [
        [
         "Home",
         "Reset original view",
         "home",
         "home"
        ],
        [
         "Back",
         "Back to previous view",
         "arrow-left",
         "back"
        ],
        [
         "Forward",
         "Forward to next view",
         "arrow-right",
         "forward"
        ],
        [
         "Pan",
         "Pan axes with left mouse, zoom with right",
         "arrows",
         "pan"
        ],
        [
         "Zoom",
         "Zoom to rectangle",
         "square-o",
         "zoom"
        ],
        [
         "Download",
         "Download plot",
         "floppy-o",
         "save_figure"
        ]
       ]
      }
     },
     "a135a1de887b4af0a2bd20d18203ba7a": {
      "model_module": "@jupyter-widgets/base",
      "model_module_version": "1.2.0",
      "model_name": "LayoutModel",
      "state": {
       "grid_area": "b6",
       "width": "auto"
      }
     },
     "a152ef1ae1754364b740264bb1dfaf75": {
      "model_module": "@jupyter-widgets/base",
      "model_module_version": "1.2.0",
      "model_name": "LayoutModel",
      "state": {
       "grid_area": "b12",
       "width": "auto"
      }
     },
     "a25027364f0c401f8ce17c8e43eaf4d4": {
      "model_module": "@jupyter-widgets/base",
      "model_module_version": "1.2.0",
      "model_name": "LayoutModel",
      "state": {}
     },
     "a2bdbd08f1dc45d1b757e377d28a17b2": {
      "model_module": "@jupyter-widgets/controls",
      "model_module_version": "1.5.0",
      "model_name": "GridBoxModel",
      "state": {
       "children": [
        "IPY_MODEL_a80d5757eda043e28e703c00a860f4d7",
        "IPY_MODEL_701375e7fd064e3c9dd460cbb405cfdb",
        "IPY_MODEL_11298f7841354827bfb69b8dfcadf322",
        "IPY_MODEL_98993d9768d548f0b5d851ff49a231b0",
        "IPY_MODEL_9043b2cb0fad4025a503fe280d29ecf7"
       ],
       "layout": "IPY_MODEL_a4592c946c55448e8a1fe3809f61acdc"
      }
     },
     "a4054004b6174184a87085bae318813c": {
      "model_module": "@jupyter-widgets/base",
      "model_module_version": "1.2.0",
      "model_name": "LayoutModel",
      "state": {
       "width": "100px"
      }
     },
     "a4592c946c55448e8a1fe3809f61acdc": {
      "model_module": "@jupyter-widgets/base",
      "model_module_version": "1.2.0",
      "model_name": "LayoutModel",
      "state": {
       "grid_template_areas": "\n           \"b9 b9 b9\"\n           \"b8 b12 b10\"\n           \"b11 b11 b11\"\n           ",
       "grid_template_columns": "33% 33% 33%",
       "grid_template_rows": "auto auto auto",
       "width": "100%"
      }
     },
     "a45fcee9eafd4d098c68f121b8f9e099": {
      "model_module": "@jupyter-widgets/base",
      "model_module_version": "1.2.0",
      "model_name": "LayoutModel",
      "state": {}
     },
     "a4caef843f9a4e0d85b5084f86582e42": {
      "model_module": "@jupyter-widgets/controls",
      "model_module_version": "1.5.0",
      "model_name": "FloatTextModel",
      "state": {
       "layout": "IPY_MODEL_d5d8350667f3460183a0f1e724139eaa",
       "step": null,
       "style": "IPY_MODEL_ac2440702b9f4b9ab60506101e79ace7"
      }
     },
     "a56e296cf53c4efcbbe04aa110728f69": {
      "model_module": "@jupyter-widgets/controls",
      "model_module_version": "1.5.0",
      "model_name": "DescriptionStyleModel",
      "state": {
       "description_width": ""
      }
     },
     "a578579ccde6455ebeec9fefd6ed87fe": {
      "model_module": "@jupyter-widgets/controls",
      "model_module_version": "1.5.0",
      "model_name": "ButtonStyleModel",
      "state": {
       "button_color": "GreenYellow"
      }
     },
     "a5cbcb6effcb4de7bbab89dad06b7ed0": {
      "model_module": "@jupyter-widgets/base",
      "model_module_version": "1.2.0",
      "model_name": "LayoutModel",
      "state": {
       "width": "100px"
      }
     },
     "a5f16a3a6bb3434db2d808efceeae381": {
      "model_module": "@jupyter-widgets/controls",
      "model_module_version": "1.5.0",
      "model_name": "IntTextModel",
      "state": {
       "description": "Rate",
       "layout": "IPY_MODEL_00a0bd74b945428e91ebe85049d80f73",
       "step": 1,
       "style": "IPY_MODEL_809e0e169a12407eb8cfc2515a646ae4",
       "value": 5
      }
     },
     "a6917164021440a69c06666e2f2f2a5f": {
      "model_module": "@jupyter-widgets/controls",
      "model_module_version": "1.5.0",
      "model_name": "FloatTextModel",
      "state": {
       "description": "X goal:",
       "layout": "IPY_MODEL_c976a1a9a2a04e4aa35ad84ae6858769",
       "step": null,
       "style": "IPY_MODEL_fb988daa04434b75bf77a1c2a9804e8f",
       "value": -3
      }
     },
     "a6c6dc66200641148892af39f9e0a957": {
      "model_module": "@jupyter-widgets/controls",
      "model_module_version": "1.5.0",
      "model_name": "ButtonModel",
      "state": {
       "description": "Send Goal",
       "layout": "IPY_MODEL_8532dc63bf0947bd9d35696e5092763b",
       "style": "IPY_MODEL_89d6734388324727bb093a745336b2c8"
      }
     },
     "a6eac831502d47a5b5c0e716e505db53": {
      "model_module": "@jupyter-widgets/base",
      "model_module_version": "1.2.0",
      "model_name": "LayoutModel",
      "state": {}
     },
     "a6f8e2833f924dfda322f81da3a50265": {
      "model_module": "@jupyter-widgets/base",
      "model_module_version": "1.2.0",
      "model_name": "LayoutModel",
      "state": {
       "grid_area": "b8",
       "width": "auto"
      }
     },
     "a70589020d294a84a6c66fde91a5c8b7": {
      "model_module": "@jupyter-widgets/controls",
      "model_module_version": "1.5.0",
      "model_name": "ButtonStyleModel",
      "state": {
       "button_color": "Yellow"
      }
     },
     "a7428dafa836453ea943b3a8558c9824": {
      "model_module": "jupyter-matplotlib",
      "model_module_version": "^0.9.0",
      "model_name": "ToolbarModel",
      "state": {
       "layout": "IPY_MODEL_bef50a069bf34e9893747647ee564d4c",
       "toolitems": [
        [
         "Home",
         "Reset original view",
         "home",
         "home"
        ],
        [
         "Back",
         "Back to previous view",
         "arrow-left",
         "back"
        ],
        [
         "Forward",
         "Forward to next view",
         "arrow-right",
         "forward"
        ],
        [
         "Pan",
         "Pan axes with left mouse, zoom with right",
         "arrows",
         "pan"
        ],
        [
         "Zoom",
         "Zoom to rectangle",
         "square-o",
         "zoom"
        ],
        [
         "Download",
         "Download plot",
         "floppy-o",
         "save_figure"
        ]
       ]
      }
     },
     "a7703143ea744453a8160612bce4c23c": {
      "model_module": "@jupyter-widgets/controls",
      "model_module_version": "1.5.0",
      "model_name": "LabelModel",
      "state": {
       "layout": "IPY_MODEL_b3cd8d19a4104ffb9bce7158e758a09b",
       "style": "IPY_MODEL_3c768ba8092e4fd3879500f09bb8540e",
       "value": "angular"
      }
     },
     "a7a29979997a4cf4b731d3561a615963": {
      "model_module": "@jupyter-widgets/base",
      "model_module_version": "1.2.0",
      "model_name": "LayoutModel",
      "state": {}
     },
     "a80d5757eda043e28e703c00a860f4d7": {
      "model_module": "@jupyter-widgets/controls",
      "model_module_version": "1.5.0",
      "model_name": "ButtonModel",
      "state": {
       "description": "Turn Left",
       "layout": "IPY_MODEL_62699717dac24a88828b96825b6b36e5",
       "style": "IPY_MODEL_ed859384ab80493b97d062aebdc56f54"
      }
     },
     "a84721bbce164701894a54885624381b": {
      "model_module": "@jupyter-widgets/controls",
      "model_module_version": "1.5.0",
      "model_name": "FloatTextModel",
      "state": {
       "layout": "IPY_MODEL_a7a29979997a4cf4b731d3561a615963",
       "step": null,
       "style": "IPY_MODEL_74bac8f25a2e41c3a4ac05a606e30b48"
      }
     },
     "a91bb54439644f0aa46809b267a279ed": {
      "model_module": "@jupyter-widgets/controls",
      "model_module_version": "1.5.0",
      "model_name": "ButtonModel",
      "state": {
       "description": "Stop",
       "layout": "IPY_MODEL_374fe15a1bdb4639b6bc6fc3e39575f1",
       "style": "IPY_MODEL_98cf52e78be1438488a990c9c46227b6"
      }
     },
     "a947afc93b7543cc88fb9c02d10b9066": {
      "model_module": "@jupyter-widgets/base",
      "model_module_version": "1.2.0",
      "model_name": "LayoutModel",
      "state": {}
     },
     "aa3da0d9a15344298a48d2463a58eff5": {
      "model_module": "@jupyter-widgets/base",
      "model_module_version": "1.2.0",
      "model_name": "LayoutModel",
      "state": {}
     },
     "aa83c23b72e84e04b70c9c36849d7eac": {
      "model_module": "@jupyter-widgets/base",
      "model_module_version": "1.2.0",
      "model_name": "LayoutModel",
      "state": {
       "grid_area": "b10",
       "width": "auto"
      }
     },
     "ac2440702b9f4b9ab60506101e79ace7": {
      "model_module": "@jupyter-widgets/controls",
      "model_module_version": "1.5.0",
      "model_name": "DescriptionStyleModel",
      "state": {
       "description_width": ""
      }
     },
     "ad1f48fef1ab415dab4979fc31f805ac": {
      "model_module": "@jupyter-widgets/controls",
      "model_module_version": "1.5.0",
      "model_name": "ButtonModel",
      "state": {
       "description": "End Program",
       "layout": "IPY_MODEL_a135a1de887b4af0a2bd20d18203ba7a",
       "style": "IPY_MODEL_1d54b5b0fffa4742ba0ad756ed2bd7dc"
      }
     },
     "adb08bd607d24ca996901f107a053864": {
      "model_module": "@jupyter-widgets/base",
      "model_module_version": "1.2.0",
      "model_name": "LayoutModel",
      "state": {}
     },
     "adbd4f648590468ba28ae34da4419961": {
      "model_module": "@jupyter-widgets/controls",
      "model_module_version": "1.5.0",
      "model_name": "HBoxModel",
      "state": {
       "children": [
        "IPY_MODEL_4dedca68a9b749cea6d087f41c28e145",
        "IPY_MODEL_94fbf0449e9d467abbf8207dcd82341a"
       ],
       "layout": "IPY_MODEL_d267eb7818f64a7b95d90b157581f236"
      }
     },
     "ae52da78393d4eada7073a8bb06a6a93": {
      "model_module": "@jupyter-widgets/controls",
      "model_module_version": "1.5.0",
      "model_name": "ButtonModel",
      "state": {
       "description": "Reset Position",
       "layout": "IPY_MODEL_f8eb956c54b64690822ce6f00010998d",
       "style": "IPY_MODEL_be61aaaca62b4bba83d9316bbcf38e5a"
      }
     },
     "ae87d1e77c1442a382d300e569706e01": {
      "model_module": "@jupyter-widgets/base",
      "model_module_version": "1.2.0",
      "model_name": "LayoutModel",
      "state": {}
     },
     "aef024f4f11c41c9b58e3ecbbcb52935": {
      "model_module": "@jupyter-widgets/controls",
      "model_module_version": "1.5.0",
      "model_name": "HBoxModel",
      "state": {
       "children": [
        "IPY_MODEL_0256cf26496041849db7a63c7c6e8206",
        "IPY_MODEL_3872bd0755f04b8e9249ead8246c6d6f",
        "IPY_MODEL_5a820574d4f54fc9ad994dd176aed1ca",
        "IPY_MODEL_c4a7fca0a2294ef08eb837ecdd028474"
       ],
       "layout": "IPY_MODEL_270cfe8a7c8148549b39474fb2b37811"
      }
     },
     "af7db1eca2f149f08bd41dc1edf0618a": {
      "model_module": "@jupyter-widgets/controls",
      "model_module_version": "1.5.0",
      "model_name": "DescriptionStyleModel",
      "state": {
       "description_width": ""
      }
     },
     "afa5efa404be436ba5506ee112f4e6fb": {
      "model_module": "@jupyter-widgets/base",
      "model_module_version": "1.2.0",
      "model_name": "LayoutModel",
      "state": {}
     },
     "b054a2d965c846378fe7ba2ab1eb6598": {
      "model_module": "@jupyter-widgets/controls",
      "model_module_version": "1.5.0",
      "model_name": "ButtonStyleModel",
      "state": {
       "button_color": "Yellow"
      }
     },
     "b0fe93db93ee4e2e976757f9b155c159": {
      "model_module": "@jupyter-widgets/base",
      "model_module_version": "1.2.0",
      "model_name": "LayoutModel",
      "state": {}
     },
     "b138cb0df2e2499e85d9811567d66d71": {
      "model_module": "@jupyter-widgets/base",
      "model_module_version": "1.2.0",
      "model_name": "LayoutModel",
      "state": {}
     },
     "b1c189f8fde64c2787429422176a6e45": {
      "model_module": "@jupyter-widgets/controls",
      "model_module_version": "1.5.0",
      "model_name": "ButtonStyleModel",
      "state": {
       "button_color": "GreenYellow"
      }
     },
     "b21f75660cd74d24bbf9b021f1b39da4": {
      "model_module": "@jupyter-widgets/controls",
      "model_module_version": "1.5.0",
      "model_name": "GridBoxModel",
      "state": {
       "children": [
        "IPY_MODEL_bfda341f821f4ab8a4e253623d458fc9",
        "IPY_MODEL_793ed96b58394f18bf9b94578419c01b",
        "IPY_MODEL_fd31b1c4e9314e8c9615ba8a892f7bf1"
       ],
       "layout": "IPY_MODEL_70df3149d8c442bab37d01364f6dce82"
      }
     },
     "b229e014e65946a6b7384e897c7b33ec": {
      "model_module": "@jupyter-widgets/controls",
      "model_module_version": "1.5.0",
      "model_name": "DescriptionStyleModel",
      "state": {
       "description_width": ""
      }
     },
     "b22ef4b762584d5d9f115b2ad730f212": {
      "model_module": "@jupyter-widgets/controls",
      "model_module_version": "1.5.0",
      "model_name": "HBoxModel",
      "state": {
       "children": [
        "IPY_MODEL_fbfc5cb3760d4ef49e3855169defade1",
        "IPY_MODEL_051e8b2c13be4c86aaa26ca2a3ffb4a0",
        "IPY_MODEL_a5f16a3a6bb3434db2d808efceeae381",
        "IPY_MODEL_de3ceaf14c6447e58fe543536bb51011"
       ],
       "layout": "IPY_MODEL_ca098de0f21e4688a3151fb975b78ea5"
      }
     },
     "b275c101dd134441b145c0be6a19299e": {
      "model_module": "@jupyter-widgets/base",
      "model_module_version": "1.2.0",
      "model_name": "LayoutModel",
      "state": {
       "grid_area": "b2",
       "width": "auto"
      }
     },
     "b2ec1e2db4264e84a796a989f5a25577": {
      "model_module": "@jupyter-widgets/base",
      "model_module_version": "1.2.0",
      "model_name": "LayoutModel",
      "state": {}
     },
     "b34419a34d6e4019b4c85e1eecf84975": {
      "model_module": "@jupyter-widgets/base",
      "model_module_version": "1.2.0",
      "model_name": "LayoutModel",
      "state": {}
     },
     "b381021c654640829fddf9fb8f9736df": {
      "model_module": "@jupyter-widgets/controls",
      "model_module_version": "1.5.0",
      "model_name": "ButtonStyleModel",
      "state": {}
     },
     "b39df258eec84fd0ac1770e075aef3e0": {
      "model_module": "@jupyter-widgets/base",
      "model_module_version": "1.2.0",
      "model_name": "LayoutModel",
      "state": {
       "grid_area": "b12",
       "width": "auto"
      }
     },
     "b3c422a13765479aa6a9172216188e90": {
      "model_module": "@jupyter-widgets/base",
      "model_module_version": "1.2.0",
      "model_name": "LayoutModel",
      "state": {
       "width": "100px"
      }
     },
     "b3cd8d19a4104ffb9bce7158e758a09b": {
      "model_module": "@jupyter-widgets/base",
      "model_module_version": "1.2.0",
      "model_name": "LayoutModel",
      "state": {}
     },
     "b40c981b57f14e6ab94cb0b2c1fc9651": {
      "model_module": "@jupyter-widgets/base",
      "model_module_version": "1.2.0",
      "model_name": "LayoutModel",
      "state": {
       "grid_template_areas": "\n           \"b1 b4\"\n           \"b2 b5\"\n           \"b3 b6\"\n           ",
       "grid_template_columns": "50% 50%",
       "grid_template_rows": "auto auto auto",
       "width": "100%"
      }
     },
     "b454bb63bd14468094d0a8b90407d825": {
      "model_module": "@jupyter-widgets/controls",
      "model_module_version": "1.5.0",
      "model_name": "DescriptionStyleModel",
      "state": {
       "description_width": ""
      }
     },
     "b45f28aa7a8b4a4baae832f4d201c171": {
      "model_module": "@jupyter-widgets/controls",
      "model_module_version": "1.5.0",
      "model_name": "ButtonStyleModel",
      "state": {
       "button_color": "GreenYellow"
      }
     },
     "b4826b5a69e74f0584df4fcf48d931d5": {
      "model_module": "@jupyter-widgets/base",
      "model_module_version": "1.2.0",
      "model_name": "LayoutModel",
      "state": {}
     },
     "b532024b03584bc68412c054134ee723": {
      "model_module": "@jupyter-widgets/controls",
      "model_module_version": "1.5.0",
      "model_name": "ButtonModel",
      "state": {
       "description": "Auto_drive mode",
       "layout": "IPY_MODEL_dd957e45b89d4786b2ce06f8a52d429f",
       "style": "IPY_MODEL_dc98771a98fd49309217bb3d513385ea"
      }
     },
     "b6cb88f2a4dd4a48943b779eab5125dd": {
      "model_module": "@jupyter-widgets/controls",
      "model_module_version": "1.5.0",
      "model_name": "GridBoxModel",
      "state": {
       "children": [
        "IPY_MODEL_928a090d08e243fab68f5effde88cb5b",
        "IPY_MODEL_6ac19f2cced845b2899e199831c7fa96",
        "IPY_MODEL_bb3f1f3d7a354a84a4f1798a3e305a49",
        "IPY_MODEL_3c39fe82a76d4ad4ad06e7d3eb6e3e40",
        "IPY_MODEL_d3e750ebc29944d9be2d0a7c54731151"
       ],
       "layout": "IPY_MODEL_78c613a6383c46ac9d91b3524f29d17f"
      }
     },
     "b6ced7bc6fbf476baa6abf312601bcbe": {
      "model_module": "@jupyter-widgets/controls",
      "model_module_version": "1.5.0",
      "model_name": "FloatTextModel",
      "state": {
       "layout": "IPY_MODEL_3ba9510441c54323aea0993c1117ce65",
       "step": null,
       "style": "IPY_MODEL_11090ac9628b476f9a3cfd4eed2f69c7"
      }
     },
     "b92d3302b4e34924bb4dd59b2fd04c96": {
      "model_module": "@jupyter-widgets/base",
      "model_module_version": "1.2.0",
      "model_name": "LayoutModel",
      "state": {
       "width": "100px"
      }
     },
     "b95f7ab074d74c9facbaedce1eb69089": {
      "model_module": "@jupyter-widgets/controls",
      "model_module_version": "1.5.0",
      "model_name": "ButtonStyleModel",
      "state": {
       "button_color": "GreenYellow"
      }
     },
     "ba30b8a9d4b24669998eb70990bf16c3": {
      "model_module": "jupyter-matplotlib",
      "model_module_version": "^0.9.0",
      "model_name": "MPLCanvasModel",
      "state": {
       "_figure_label": "Figure 2",
       "_height": 700,
       "_image_mode": "diff",
       "_width": 700,
       "layout": "IPY_MODEL_09967f126d2b4b1ca489dcfbb8eddd97",
       "toolbar": "IPY_MODEL_a7428dafa836453ea943b3a8558c9824",
       "toolbar_position": "left"
      }
     },
     "bae6d713d2d044cf8b1b756d25547df2": {
      "model_module": "@jupyter-widgets/controls",
      "model_module_version": "1.5.0",
      "model_name": "ButtonStyleModel",
      "state": {
       "button_color": "GreenYellow"
      }
     },
     "bb2a5b9f77384059ba38a882f2aabf70": {
      "model_module": "@jupyter-widgets/controls",
      "model_module_version": "1.5.0",
      "model_name": "LabelModel",
      "state": {
       "layout": "IPY_MODEL_19b5c97866e6444c97ac4dfa22de8906",
       "style": "IPY_MODEL_91fbbc371ebf4b409275309239cbfb00",
       "value": "x"
      }
     },
     "bb3f1f3d7a354a84a4f1798a3e305a49": {
      "model_module": "@jupyter-widgets/controls",
      "model_module_version": "1.5.0",
      "model_name": "ButtonModel",
      "state": {
       "description": "Turn Right",
       "layout": "IPY_MODEL_2e74966221f24a29a388fce11734ca73",
       "style": "IPY_MODEL_556a769c30954fd6827d045dce01f9d9"
      }
     },
     "bba529f728e24d31bf03e38d7c40484b": {
      "model_module": "@jupyter-widgets/controls",
      "model_module_version": "1.5.0",
      "model_name": "HBoxModel",
      "state": {
       "children": [
        "IPY_MODEL_e5e58c8c2b4b434080ce1939bc707df6",
        "IPY_MODEL_36db16b55b244af182df7a880e5a2ad4"
       ],
       "layout": "IPY_MODEL_730827daba3942068464d37b859d03e5"
      }
     },
     "bc8396f7696a4ec291edd25c829cdda6": {
      "model_module": "@jupyter-widgets/controls",
      "model_module_version": "1.5.0",
      "model_name": "DescriptionStyleModel",
      "state": {
       "description_width": ""
      }
     },
     "bc8782c590684791b7b2fa84474438cf": {
      "model_module": "@jupyter-widgets/controls",
      "model_module_version": "1.5.0",
      "model_name": "LabelModel",
      "state": {
       "layout": "IPY_MODEL_257ef72d1fd840c58d8cee85854d0cdc",
       "style": "IPY_MODEL_949b0a921a0b490c9a7a0a4f58eacff2",
       "value": "y"
      }
     },
     "bce5caec979c4307aa7e74e378b66821": {
      "model_module": "@jupyter-widgets/base",
      "model_module_version": "1.2.0",
      "model_name": "LayoutModel",
      "state": {}
     },
     "bdc3f8649e5841b8ad65849356d7992a": {
      "model_module": "@jupyter-widgets/controls",
      "model_module_version": "1.5.0",
      "model_name": "HBoxModel",
      "state": {
       "children": [
        "IPY_MODEL_6fe7d1de6a6c47c0adc4944ac9859b65",
        "IPY_MODEL_e0ccc6e50b374ac783d8c2365031ab48"
       ],
       "layout": "IPY_MODEL_3039fc6a68204c1f8da068b4c152a05d"
      }
     },
     "be47e1c17c4140f2b482667765acb07d": {
      "model_module": "@jupyter-widgets/controls",
      "model_module_version": "1.5.0",
      "model_name": "DescriptionStyleModel",
      "state": {
       "description_width": ""
      }
     },
     "be61aaaca62b4bba83d9316bbcf38e5a": {
      "model_module": "@jupyter-widgets/controls",
      "model_module_version": "1.5.0",
      "model_name": "ButtonStyleModel",
      "state": {
       "button_color": "lightblue"
      }
     },
     "bef50a069bf34e9893747647ee564d4c": {
      "model_module": "@jupyter-widgets/base",
      "model_module_version": "1.2.0",
      "model_name": "LayoutModel",
      "state": {}
     },
     "bf3e1a96d9a042b0a5605f43bd7f9548": {
      "model_module": "@jupyter-widgets/controls",
      "model_module_version": "1.5.0",
      "model_name": "ButtonStyleModel",
      "state": {
       "button_color": "GreenYellow"
      }
     },
     "bfda341f821f4ab8a4e253623d458fc9": {
      "model_module": "@jupyter-widgets/controls",
      "model_module_version": "1.5.0",
      "model_name": "FloatTextModel",
      "state": {
       "description": "X goal:",
       "layout": "IPY_MODEL_144514e25aac48a9b6b76e110623b5e8",
       "step": null,
       "style": "IPY_MODEL_7bf8a905699f433786970af85acffc83"
      }
     },
     "c08e6f183ef348899c7e9b0f5e8d2a8d": {
      "model_module": "@jupyter-widgets/controls",
      "model_module_version": "1.5.0",
      "model_name": "DescriptionStyleModel",
      "state": {
       "description_width": ""
      }
     },
     "c27c1b83dd424e928ffad2b728048c05": {
      "model_module": "@jupyter-widgets/base",
      "model_module_version": "1.2.0",
      "model_name": "LayoutModel",
      "state": {}
     },
     "c30762455c5f42338a6e7bdee9a34a29": {
      "model_module": "@jupyter-widgets/base",
      "model_module_version": "1.2.0",
      "model_name": "LayoutModel",
      "state": {
       "grid_template_areas": "\n           \"b1 b4\"\n           \"b2 b5\"\n           \"b3 b6\"\n           ",
       "grid_template_columns": "50% 50%",
       "grid_template_rows": "auto auto auto",
       "width": "100%"
      }
     },
     "c37f82e77cb9497a81875626fb4040b0": {
      "model_module": "jupyter-matplotlib",
      "model_module_version": "^0.9.0",
      "model_name": "MPLCanvasModel",
      "state": {
       "_figure_label": "Figure 3",
       "_height": 480,
       "_image_mode": "diff",
       "_width": 640,
       "layout": "IPY_MODEL_9292033c2c39419ca5ac82680ab40846",
       "toolbar": "IPY_MODEL_a0e9b5cafc9d4c3ca520c8f5ec3ba9dd",
       "toolbar_position": "left"
      }
     },
     "c3af46078a644d5e865d017d1abad967": {
      "model_module": "@jupyter-widgets/controls",
      "model_module_version": "1.5.0",
      "model_name": "ButtonStyleModel",
      "state": {
       "button_color": "GreenYellow"
      }
     },
     "c3c3b7ab16f740a6b38138c069180838": {
      "model_module": "@jupyter-widgets/controls",
      "model_module_version": "1.5.0",
      "model_name": "HBoxModel",
      "state": {
       "children": [
        "IPY_MODEL_d610cd32fe784fa4a93df20755a0a173",
        "IPY_MODEL_47714a96bb8640d6a8dca5db9cbff55c",
        "IPY_MODEL_65a5a011514d4365bcc44b80f7e7d95a",
        "IPY_MODEL_4ddcefb6fc4c43bd910b1caf5ac1f6cf"
       ],
       "layout": "IPY_MODEL_0b15f983bd144e3180c3aa0d55aa7867"
      }
     },
     "c3dbf5233a8f473f9f208b1d4c3ddd8c": {
      "model_module": "@jupyter-widgets/controls",
      "model_module_version": "1.5.0",
      "model_name": "ButtonStyleModel",
      "state": {}
     },
     "c4723879e59d48469b390c59da98a7f1": {
      "model_module": "@jupyter-widgets/controls",
      "model_module_version": "1.5.0",
      "model_name": "ButtonModel",
      "state": {
       "description": "End Program",
       "layout": "IPY_MODEL_4d959d4dd1174b579aea59cf56c46f73",
       "style": "IPY_MODEL_2e0baf41613c432e9924f461bd7b493d"
      }
     },
     "c49d65d7687247689028b01e478b4654": {
      "model_module": "@jupyter-widgets/base",
      "model_module_version": "1.2.0",
      "model_name": "LayoutModel",
      "state": {}
     },
     "c4a7fca0a2294ef08eb837ecdd028474": {
      "model_module": "@jupyter-widgets/controls",
      "model_module_version": "1.5.0",
      "model_name": "ButtonModel",
      "state": {
       "description": "Start",
       "layout": "IPY_MODEL_5732cc8c9e7d407a87cb8a325f33f17f",
       "style": "IPY_MODEL_c3dbf5233a8f473f9f208b1d4c3ddd8c"
      }
     },
     "c79c1f3b71bd4790aa8d877560cecb7c": {
      "model_module": "jupyter-matplotlib",
      "model_module_version": "^0.9.0",
      "model_name": "MPLCanvasModel",
      "state": {
       "_figure_label": "Figure 3",
       "_height": 480,
       "_image_mode": "diff",
       "_message": "x= y=3.66234     ",
       "_width": 640,
       "layout": "IPY_MODEL_92f9a55e2a814dd7a995952e07e10c86",
       "toolbar": "IPY_MODEL_7b070d48504645d882e6402c5da7bdea",
       "toolbar_position": "left"
      }
     },
     "c7a06dbef6a04a7e844c84c6a39f2582": {
      "model_module": "@jupyter-widgets/controls",
      "model_module_version": "1.5.0",
      "model_name": "LabelModel",
      "state": {
       "layout": "IPY_MODEL_b92d3302b4e34924bb4dd59b2fd04c96",
       "style": "IPY_MODEL_88357e4ec7aa4ceaac4a745764626f4c",
       "value": "x"
      }
     },
     "c7b6aefb16564cb987962a342dd0e2df": {
      "model_module": "@jupyter-widgets/controls",
      "model_module_version": "1.5.0",
      "model_name": "DescriptionStyleModel",
      "state": {
       "description_width": ""
      }
     },
     "c88cdfd013864c8187b9a3b743553d93": {
      "model_module": "@jupyter-widgets/base",
      "model_module_version": "1.2.0",
      "model_name": "LayoutModel",
      "state": {}
     },
     "c8f5de37ac784a40b3cf87cea4d033a2": {
      "model_module": "@jupyter-widgets/controls",
      "model_module_version": "1.5.0",
      "model_name": "DescriptionStyleModel",
      "state": {
       "description_width": ""
      }
     },
     "c8fa44c00b3f4ab8a11a1d61015d18fd": {
      "model_module": "@jupyter-widgets/controls",
      "model_module_version": "1.5.0",
      "model_name": "DescriptionStyleModel",
      "state": {
       "description_width": ""
      }
     },
     "c976a1a9a2a04e4aa35ad84ae6858769": {
      "model_module": "@jupyter-widgets/base",
      "model_module_version": "1.2.0",
      "model_name": "LayoutModel",
      "state": {}
     },
     "c99e89e3c11644fd9bc971e7849c6b1a": {
      "model_module": "@jupyter-widgets/base",
      "model_module_version": "1.2.0",
      "model_name": "LayoutModel",
      "state": {
       "grid_area": "b11",
       "width": "auto"
      }
     },
     "c9e8998ff413404f8e8a1e738f0ec6cf": {
      "model_module": "@jupyter-widgets/controls",
      "model_module_version": "1.5.0",
      "model_name": "ButtonStyleModel",
      "state": {
       "button_color": "GreenYellow"
      }
     },
     "ca098de0f21e4688a3151fb975b78ea5": {
      "model_module": "@jupyter-widgets/base",
      "model_module_version": "1.2.0",
      "model_name": "LayoutModel",
      "state": {}
     },
     "ca8ea42ffa8a47a995e3ff07b173415f": {
      "model_module": "@jupyter-widgets/base",
      "model_module_version": "1.2.0",
      "model_name": "LayoutModel",
      "state": {
       "grid_area": "b5",
       "width": "auto"
      }
     },
     "cbbc922a7abb42f28f8b9104c0393b8c": {
      "model_module": "@jupyter-widgets/base",
      "model_module_version": "1.2.0",
      "model_name": "LayoutModel",
      "state": {
       "grid_area": "b11",
       "width": "auto"
      }
     },
     "ce6084fa1c214ee9a0470b898a3f8539": {
      "model_module": "@jupyter-widgets/controls",
      "model_module_version": "1.5.0",
      "model_name": "FloatTextModel",
      "state": {
       "layout": "IPY_MODEL_8303d45021b14ed1a9963e4849af7d5a",
       "step": null,
       "style": "IPY_MODEL_0ec8accfcbd24a21b1c753a614dc582a"
      }
     },
     "d024beb62fd74e2bac87deb703251b27": {
      "model_module": "@jupyter-widgets/base",
      "model_module_version": "1.2.0",
      "model_name": "LayoutModel",
      "state": {}
     },
     "d118957575fc4c748dc0853a038c1ed6": {
      "model_module": "@jupyter-widgets/controls",
      "model_module_version": "1.5.0",
      "model_name": "HBoxModel",
      "state": {
       "children": [
        "IPY_MODEL_bb2a5b9f77384059ba38a882f2aabf70",
        "IPY_MODEL_8756465603674c2394a3198d436773fc"
       ],
       "layout": "IPY_MODEL_fb91f8999eb540cfa75974f772db6c5c"
      }
     },
     "d26777beb0ff44cb80c4fad82db980ba": {
      "model_module": "@jupyter-widgets/base",
      "model_module_version": "1.2.0",
      "model_name": "LayoutModel",
      "state": {
       "width": "100px"
      }
     },
     "d267eb7818f64a7b95d90b157581f236": {
      "model_module": "@jupyter-widgets/base",
      "model_module_version": "1.2.0",
      "model_name": "LayoutModel",
      "state": {}
     },
     "d26e4cd8ae364cea85f1f25eefa97757": {
      "model_module": "@jupyter-widgets/controls",
      "model_module_version": "1.5.0",
      "model_name": "LabelModel",
      "state": {
       "layout": "IPY_MODEL_2593f4c280ec458c9142c1982fd5fca9",
       "style": "IPY_MODEL_db9b056b2424481aadd06d9c4f05cd36",
       "value": "y"
      }
     },
     "d2a84132d69b4eebb6578bf06acebdab": {
      "model_module": "@jupyter-widgets/controls",
      "model_module_version": "1.5.0",
      "model_name": "LabelModel",
      "state": {
       "layout": "IPY_MODEL_850e378716834dbb8924a26c26bfd49b",
       "style": "IPY_MODEL_0374dc2668984f71bc56c170b1dae91e",
       "value": "z"
      }
     },
     "d2d94651aadb41bb8cc0cf9b83f72adc": {
      "model_module": "@jupyter-widgets/controls",
      "model_module_version": "1.5.0",
      "model_name": "ButtonModel",
      "state": {
       "description": "Assisted_drive mode",
       "layout": "IPY_MODEL_97d0f489d51a400d87eac4c5fd328f39",
       "style": "IPY_MODEL_8aa33df29e164b9c9f151ffc6358feff"
      }
     },
     "d3a9a6fdccd34bc6bd69e1dade80c5b8": {
      "model_module": "@jupyter-widgets/controls",
      "model_module_version": "1.5.0",
      "model_name": "DescriptionStyleModel",
      "state": {
       "description_width": ""
      }
     },
     "d3e750ebc29944d9be2d0a7c54731151": {
      "model_module": "@jupyter-widgets/controls",
      "model_module_version": "1.5.0",
      "model_name": "ButtonModel",
      "state": {
       "description": "Stop",
       "layout": "IPY_MODEL_a152ef1ae1754364b740264bb1dfaf75",
       "style": "IPY_MODEL_e2541611c13d416e8f5d0250dfa72556"
      }
     },
     "d3f193e92d3f4550999742bcb0785ded": {
      "model_module": "@jupyter-widgets/base",
      "model_module_version": "1.2.0",
      "model_name": "LayoutModel",
      "state": {}
     },
     "d43b8fec33ad4566a20e1706b952c772": {
      "model_module": "@jupyter-widgets/base",
      "model_module_version": "1.2.0",
      "model_name": "LayoutModel",
      "state": {
       "width": "100px"
      }
     },
     "d5d8350667f3460183a0f1e724139eaa": {
      "model_module": "@jupyter-widgets/base",
      "model_module_version": "1.2.0",
      "model_name": "LayoutModel",
      "state": {}
     },
     "d610cd32fe784fa4a93df20755a0a173": {
      "model_module": "@jupyter-widgets/controls",
      "model_module_version": "1.5.0",
      "model_name": "ButtonModel",
      "state": {
       "description": "Send Message",
       "layout": "IPY_MODEL_556183eb47a3482ba9fa727eb93a69c5",
       "style": "IPY_MODEL_0dca8ca434d546dc884d9fe73077fb48"
      }
     },
     "d72f3ba70a8d411d8b437c4265eb428a": {
      "model_module": "@jupyter-widgets/controls",
      "model_module_version": "1.5.0",
      "model_name": "VBoxModel",
      "state": {
       "children": [
        "IPY_MODEL_2da9035d65cf499193cdf2bb016e3372",
        "IPY_MODEL_98c0775a137e473b8ac4c01cb5745ccb",
        "IPY_MODEL_8aa8ed9be88640b6a25d0bb0ce923a83",
        "IPY_MODEL_409085574a7046df9bb7cb75d875b037",
        "IPY_MODEL_5901868619be49098b3e5ceeffdf57a8",
        "IPY_MODEL_3827efda65d14f36b337fe6f92582e35",
        "IPY_MODEL_20570842bdbf4187874c02fc3a179d71",
        "IPY_MODEL_1c998a7f4aef4bbbbe54ed9064ea0ada",
        "IPY_MODEL_b22ef4b762584d5d9f115b2ad730f212"
       ],
       "layout": "IPY_MODEL_d3f193e92d3f4550999742bcb0785ded"
      }
     },
     "d7513ed983aa4d548a53a18631e08c21": {
      "model_module": "@jupyter-widgets/base",
      "model_module_version": "1.2.0",
      "model_name": "LayoutModel",
      "state": {}
     },
     "d7b360d90cfd486e85aea9bbfb4c0c47": {
      "model_module": "@jupyter-widgets/controls",
      "model_module_version": "1.5.0",
      "model_name": "ButtonModel",
      "state": {
       "description": "Turn Left",
       "layout": "IPY_MODEL_ed2f449ac17f4afc805ad914a7680bfd",
       "style": "IPY_MODEL_c3af46078a644d5e865d017d1abad967"
      }
     },
     "d7bf16d2d92f4e5291d7af8eb3258e89": {
      "model_module": "@jupyter-widgets/controls",
      "model_module_version": "1.5.0",
      "model_name": "HBoxModel",
      "state": {
       "children": [
        "IPY_MODEL_182c4f2e50f241859e36b10353c500f0",
        "IPY_MODEL_b6ced7bc6fbf476baa6abf312601bcbe"
       ],
       "layout": "IPY_MODEL_bce5caec979c4307aa7e74e378b66821"
      }
     },
     "d90bfeb4e4d44350a617df46aca07f6c": {
      "model_module": "jupyter-matplotlib",
      "model_module_version": "^0.9.0",
      "model_name": "ToolbarModel",
      "state": {
       "layout": "IPY_MODEL_05f95f3dfac14fcd81b4fe3d065abb11",
       "toolitems": [
        [
         "Home",
         "Reset original view",
         "home",
         "home"
        ],
        [
         "Back",
         "Back to previous view",
         "arrow-left",
         "back"
        ],
        [
         "Forward",
         "Forward to next view",
         "arrow-right",
         "forward"
        ],
        [
         "Pan",
         "Pan axes with left mouse, zoom with right",
         "arrows",
         "pan"
        ],
        [
         "Zoom",
         "Zoom to rectangle",
         "square-o",
         "zoom"
        ],
        [
         "Download",
         "Download plot",
         "floppy-o",
         "save_figure"
        ]
       ]
      }
     },
     "d93d0caf84db4abfa2cc5bad6791d8e9": {
      "model_module": "@jupyter-widgets/base",
      "model_module_version": "1.2.0",
      "model_name": "LayoutModel",
      "state": {
       "grid_area": "b4",
       "width": "auto"
      }
     },
     "dafcdfdb56db461fbd15d34f0728666f": {
      "model_module": "jupyter-matplotlib",
      "model_module_version": "^0.9.0",
      "model_name": "MPLCanvasModel",
      "state": {
       "_figure_label": "Figure 2",
       "_height": 700,
       "_image_mode": "diff",
       "_width": 700,
       "layout": "IPY_MODEL_afa5efa404be436ba5506ee112f4e6fb",
       "toolbar": "IPY_MODEL_8d8de86a5cdd4a0aabd324dd91f64c56",
       "toolbar_position": "left"
      }
     },
     "db9b056b2424481aadd06d9c4f05cd36": {
      "model_module": "@jupyter-widgets/controls",
      "model_module_version": "1.5.0",
      "model_name": "DescriptionStyleModel",
      "state": {
       "description_width": ""
      }
     },
     "dc93956b65c640fc9e9a64b3dc575bec": {
      "model_module": "@jupyter-widgets/controls",
      "model_module_version": "1.5.0",
      "model_name": "HBoxModel",
      "state": {
       "children": [
        "IPY_MODEL_0007bb653e2744cc902e9472179b0c63",
        "IPY_MODEL_e85612ff3b65479eb4b0c452c0c16fcd"
       ],
       "layout": "IPY_MODEL_dfdf50c593484d06bc6f86db1e44e969"
      }
     },
     "dc98771a98fd49309217bb3d513385ea": {
      "model_module": "@jupyter-widgets/controls",
      "model_module_version": "1.5.0",
      "model_name": "ButtonStyleModel",
      "state": {
       "button_color": "GreenYellow"
      }
     },
     "dc9bbaceb6064c9fa120f49da0d8c154": {
      "model_module": "@jupyter-widgets/controls",
      "model_module_version": "1.5.0",
      "model_name": "FloatTextModel",
      "state": {
       "layout": "IPY_MODEL_e7035f64e2234ea98a4c6061b5e6d321",
       "step": null,
       "style": "IPY_MODEL_7c8e44bdc9984698b0aba0f944257ca8"
      }
     },
     "dcd473f4d7d54a1eb6b98f4173d73170": {
      "model_module": "@jupyter-widgets/base",
      "model_module_version": "1.2.0",
      "model_name": "LayoutModel",
      "state": {}
     },
     "dd4e991a30374134b967a444a8eb1d0b": {
      "model_module": "@jupyter-widgets/base",
      "model_module_version": "1.2.0",
      "model_name": "LayoutModel",
      "state": {
       "grid_template_areas": "\n           \"decided_x decided_y\"\n           \"b7 b7\"\n           ",
       "grid_template_columns": "50% 50%",
       "grid_template_rows": "auto auto",
       "width": "100%"
      }
     },
     "dd822d86f8ed413488f95cb880f15ed2": {
      "model_module": "@jupyter-widgets/base",
      "model_module_version": "1.2.0",
      "model_name": "LayoutModel",
      "state": {}
     },
     "dd957e45b89d4786b2ce06f8a52d429f": {
      "model_module": "@jupyter-widgets/base",
      "model_module_version": "1.2.0",
      "model_name": "LayoutModel",
      "state": {
       "grid_area": "b1",
       "width": "auto"
      }
     },
     "de3ceaf14c6447e58fe543536bb51011": {
      "model_module": "@jupyter-widgets/controls",
      "model_module_version": "1.5.0",
      "model_name": "ButtonModel",
      "state": {
       "description": "Start",
       "layout": "IPY_MODEL_82bb7994304c40c8beb682d97e79b169",
       "style": "IPY_MODEL_3a5ad1bb0d224158a49333f5243d9bdc"
      }
     },
     "de9ef42856124c76ac7018f03f9ed6b8": {
      "model_module": "@jupyter-widgets/controls",
      "model_module_version": "1.5.0",
      "model_name": "DescriptionStyleModel",
      "state": {
       "description_width": ""
      }
     },
     "df5590b981a5462d990df015e1f5cfa7": {
      "model_module": "@jupyter-widgets/controls",
      "model_module_version": "1.5.0",
      "model_name": "ButtonModel",
      "state": {
       "description": "Assisted_drive mode",
       "layout": "IPY_MODEL_78f77e69b6104a599daa7e46d284a20f",
       "style": "IPY_MODEL_b1c189f8fde64c2787429422176a6e45"
      }
     },
     "dfdf50c593484d06bc6f86db1e44e969": {
      "model_module": "@jupyter-widgets/base",
      "model_module_version": "1.2.0",
      "model_name": "LayoutModel",
      "state": {}
     },
     "e02c1d1edd994975aa2d39eb4bf20d0b": {
      "model_module": "@jupyter-widgets/controls",
      "model_module_version": "1.5.0",
      "model_name": "DescriptionStyleModel",
      "state": {
       "description_width": ""
      }
     },
     "e030363b874a400684a40675df0828aa": {
      "model_module": "@jupyter-widgets/base",
      "model_module_version": "1.2.0",
      "model_name": "LayoutModel",
      "state": {
       "grid_area": "b1",
       "width": "auto"
      }
     },
     "e0ccc6e50b374ac783d8c2365031ab48": {
      "model_module": "@jupyter-widgets/controls",
      "model_module_version": "1.5.0",
      "model_name": "FloatTextModel",
      "state": {
       "layout": "IPY_MODEL_9d34663da03e4fdd9e26126ad50688c0",
       "step": null,
       "style": "IPY_MODEL_863b0a43f6ab43aba824b385c5fd42c8"
      }
     },
     "e0d4fcc2cbc5489881d992cb98049441": {
      "model_module": "@jupyter-widgets/base",
      "model_module_version": "1.2.0",
      "model_name": "LayoutModel",
      "state": {}
     },
     "e0e223b86160439c8386668569f85b2a": {
      "model_module": "@jupyter-widgets/controls",
      "model_module_version": "1.5.0",
      "model_name": "ButtonModel",
      "state": {
       "description": "Cancel Goal",
       "layout": "IPY_MODEL_d93d0caf84db4abfa2cc5bad6791d8e9",
       "style": "IPY_MODEL_b054a2d965c846378fe7ba2ab1eb6598"
      }
     },
     "e0e7e5586a224ad6abf917f712209ab6": {
      "model_module": "@jupyter-widgets/controls",
      "model_module_version": "1.5.0",
      "model_name": "DescriptionStyleModel",
      "state": {
       "description_width": ""
      }
     },
     "e2541611c13d416e8f5d0250dfa72556": {
      "model_module": "@jupyter-widgets/controls",
      "model_module_version": "1.5.0",
      "model_name": "ButtonStyleModel",
      "state": {
       "button_color": "Yellow"
      }
     },
     "e3652b228ec249e3b6bbfe8bae8bf58d": {
      "model_module": "@jupyter-widgets/base",
      "model_module_version": "1.2.0",
      "model_name": "LayoutModel",
      "state": {
       "grid_area": "b12",
       "width": "auto"
      }
     },
     "e3ebd127b4504b68861ac26ba26634c3": {
      "model_module": "@jupyter-widgets/controls",
      "model_module_version": "1.5.0",
      "model_name": "DescriptionStyleModel",
      "state": {
       "description_width": ""
      }
     },
     "e41bd85730dc44748a0f686791c9dfc5": {
      "model_module": "@jupyter-widgets/controls",
      "model_module_version": "1.5.0",
      "model_name": "DescriptionStyleModel",
      "state": {
       "description_width": ""
      }
     },
     "e433da9e3e514750a05dde90c29fa384": {
      "model_module": "@jupyter-widgets/controls",
      "model_module_version": "1.5.0",
      "model_name": "ButtonStyleModel",
      "state": {
       "button_color": "red"
      }
     },
     "e4673c3c720c464bb5d52f07ed555560": {
      "model_module": "@jupyter-widgets/controls",
      "model_module_version": "1.5.0",
      "model_name": "ButtonModel",
      "state": {
       "description": "Assisted_drive mode",
       "layout": "IPY_MODEL_7163b9635dc14085bce5012e75383fac",
       "style": "IPY_MODEL_bf3e1a96d9a042b0a5605f43bd7f9548"
      }
     },
     "e470c62d07ad43a39e462033816d27d5": {
      "model_module": "@jupyter-widgets/controls",
      "model_module_version": "1.5.0",
      "model_name": "DescriptionStyleModel",
      "state": {
       "description_width": ""
      }
     },
     "e4a8cfbee7164992bbd16a304ae4d983": {
      "model_module": "@jupyter-widgets/base",
      "model_module_version": "1.2.0",
      "model_name": "LayoutModel",
      "state": {}
     },
     "e4f78c4a7b3d413bb1768e6d6c972c66": {
      "model_module": "@jupyter-widgets/controls",
      "model_module_version": "1.5.0",
      "model_name": "LabelModel",
      "state": {
       "layout": "IPY_MODEL_0fd993d1fc9841a8be9741480f8251e0",
       "style": "IPY_MODEL_3657b2c4f29445c8bed3a80b3a0734de",
       "value": "x"
      }
     },
     "e4fb351eb30a46c48328ff9aca14b411": {
      "model_module": "@jupyter-widgets/controls",
      "model_module_version": "1.5.0",
      "model_name": "FloatTextModel",
      "state": {
       "layout": "IPY_MODEL_e4a8cfbee7164992bbd16a304ae4d983",
       "step": null,
       "style": "IPY_MODEL_4e139d63fb2443d8a6c9645ee05d253e"
      }
     },
     "e5e58c8c2b4b434080ce1939bc707df6": {
      "model_module": "@jupyter-widgets/controls",
      "model_module_version": "1.5.0",
      "model_name": "LabelModel",
      "state": {
       "layout": "IPY_MODEL_84f9c0cffc5d48bd8328b0003e62526c",
       "style": "IPY_MODEL_7de6f8b285904ad28298660e0cf9e06b",
       "value": "x"
      }
     },
     "e5ff4e7e3e2f452ca5df6c8926753ac2": {
      "model_module": "@jupyter-widgets/controls",
      "model_module_version": "1.5.0",
      "model_name": "DescriptionStyleModel",
      "state": {
       "description_width": ""
      }
     },
     "e7035f64e2234ea98a4c6061b5e6d321": {
      "model_module": "@jupyter-widgets/base",
      "model_module_version": "1.2.0",
      "model_name": "LayoutModel",
      "state": {}
     },
     "e7e533b1dfb9432482ea8dfe6f31959b": {
      "model_module": "@jupyter-widgets/controls",
      "model_module_version": "1.5.0",
      "model_name": "DescriptionStyleModel",
      "state": {
       "description_width": ""
      }
     },
     "e85612ff3b65479eb4b0c452c0c16fcd": {
      "model_module": "@jupyter-widgets/controls",
      "model_module_version": "1.5.0",
      "model_name": "FloatTextModel",
      "state": {
       "layout": "IPY_MODEL_315830dc204247579095fe54259eadfa",
       "step": null,
       "style": "IPY_MODEL_f9fbe202941c46f88aa4021ba179bbe3"
      }
     },
     "e9f2f9cf76a64eb0aae8fdc05b1999f6": {
      "model_module": "@jupyter-widgets/controls",
      "model_module_version": "1.5.0",
      "model_name": "ButtonStyleModel",
      "state": {
       "button_color": "Yellow"
      }
     },
     "ea7a0be4afa24944bb418223cbaf95b3": {
      "model_module": "@jupyter-widgets/controls",
      "model_module_version": "1.5.0",
      "model_name": "ButtonModel",
      "state": {
       "description": "Manual_drive mode",
       "layout": "IPY_MODEL_b275c101dd134441b145c0be6a19299e",
       "style": "IPY_MODEL_9892edf62946419cba10d34905b095cd"
      }
     },
     "ea9aa63184fe45588a1fd5bb79d87602": {
      "model_module": "@jupyter-widgets/controls",
      "model_module_version": "1.5.0",
      "model_name": "ButtonStyleModel",
      "state": {
       "button_color": "lightblue"
      }
     },
     "eae26d2b7a694fb0be51b4139f3f13d2": {
      "model_module": "jupyter-matplotlib",
      "model_module_version": "^0.9.0",
      "model_name": "ToolbarModel",
      "state": {
       "layout": "IPY_MODEL_a09bb50a4a6f4608860d55371c359ab8",
       "toolitems": [
        [
         "Home",
         "Reset original view",
         "home",
         "home"
        ],
        [
         "Back",
         "Back to previous view",
         "arrow-left",
         "back"
        ],
        [
         "Forward",
         "Forward to next view",
         "arrow-right",
         "forward"
        ],
        [
         "Pan",
         "Pan axes with left mouse, zoom with right",
         "arrows",
         "pan"
        ],
        [
         "Zoom",
         "Zoom to rectangle",
         "square-o",
         "zoom"
        ],
        [
         "Download",
         "Download plot",
         "floppy-o",
         "save_figure"
        ]
       ]
      }
     },
     "ebe071d327f448b7a5c5efd6b619e322": {
      "model_module": "@jupyter-widgets/controls",
      "model_module_version": "1.5.0",
      "model_name": "HBoxModel",
      "state": {
       "children": [
        "IPY_MODEL_05017244b78f47d8bce75f14cb21e5d6",
        "IPY_MODEL_a4caef843f9a4e0d85b5084f86582e42"
       ],
       "layout": "IPY_MODEL_47a370ad7058436496e2e2888ce4bb16"
      }
     },
     "ed2f449ac17f4afc805ad914a7680bfd": {
      "model_module": "@jupyter-widgets/base",
      "model_module_version": "1.2.0",
      "model_name": "LayoutModel",
      "state": {
       "grid_area": "b8",
       "width": "auto"
      }
     },
     "ed859384ab80493b97d062aebdc56f54": {
      "model_module": "@jupyter-widgets/controls",
      "model_module_version": "1.5.0",
      "model_name": "ButtonStyleModel",
      "state": {
       "button_color": "GreenYellow"
      }
     },
     "ee8730e452ba40d088888c7473fc0de8": {
      "model_module": "@jupyter-widgets/base",
      "model_module_version": "1.2.0",
      "model_name": "LayoutModel",
      "state": {}
     },
     "eeed9e3824654f45a767407fdba03929": {
      "model_module": "@jupyter-widgets/controls",
      "model_module_version": "1.5.0",
      "model_name": "ButtonModel",
      "state": {
       "description": "Auto_drive mode",
       "layout": "IPY_MODEL_7e51a55211a74ddc9f363cb083e3f9a1",
       "style": "IPY_MODEL_19deecc730b44b0382c47d4484850c81"
      }
     },
     "ef69cd82606149289292206836e8113e": {
      "model_module": "@jupyter-widgets/controls",
      "model_module_version": "1.5.0",
      "model_name": "ButtonModel",
      "state": {
       "description": "Move Forward",
       "layout": "IPY_MODEL_1d26ec29016b4f5b8bcd1c0c37a3bd7c",
       "style": "IPY_MODEL_b95f7ab074d74c9facbaedce1eb69089"
      }
     },
     "efea192bd2da43738fe740343cbdc362": {
      "model_module": "@jupyter-widgets/base",
      "model_module_version": "1.2.0",
      "model_name": "LayoutModel",
      "state": {}
     },
     "f02c819ec0134152bad3f6e85207d3d2": {
      "model_module": "@jupyter-widgets/base",
      "model_module_version": "1.2.0",
      "model_name": "LayoutModel",
      "state": {
       "grid_area": "b5",
       "width": "auto"
      }
     },
     "f09fe349545a42c9b9e5797e7a0a5153": {
      "model_module": "jupyter-matplotlib",
      "model_module_version": "^0.9.0",
      "model_name": "ToolbarModel",
      "state": {
       "layout": "IPY_MODEL_087c80a0acf54b9d9e2845ac500f7257",
       "toolitems": [
        [
         "Home",
         "Reset original view",
         "home",
         "home"
        ],
        [
         "Back",
         "Back to previous view",
         "arrow-left",
         "back"
        ],
        [
         "Forward",
         "Forward to next view",
         "arrow-right",
         "forward"
        ],
        [
         "Pan",
         "Pan axes with left mouse, zoom with right",
         "arrows",
         "pan"
        ],
        [
         "Zoom",
         "Zoom to rectangle",
         "square-o",
         "zoom"
        ],
        [
         "Download",
         "Download plot",
         "floppy-o",
         "save_figure"
        ]
       ]
      }
     },
     "f0c9d14a2c004e34a8bc67b8bf87e7cd": {
      "model_module": "@jupyter-widgets/controls",
      "model_module_version": "1.5.0",
      "model_name": "DescriptionStyleModel",
      "state": {
       "description_width": ""
      }
     },
     "f0f11f15b53945fa875f44b646f1496d": {
      "model_module": "@jupyter-widgets/controls",
      "model_module_version": "1.5.0",
      "model_name": "ButtonStyleModel",
      "state": {
       "button_color": "GreenYellow"
      }
     },
     "f16063ff2f4a4d85bd78e20159205aa9": {
      "model_module": "@jupyter-widgets/controls",
      "model_module_version": "1.5.0",
      "model_name": "ButtonModel",
      "state": {
       "description": "Manual_drive mode",
       "layout": "IPY_MODEL_30ce6cc3ed1d45479b45f9ecd309da8e",
       "style": "IPY_MODEL_7b5f970bba6d4f4f998f906a29865ec7"
      }
     },
     "f3bc6d6c947648d7a21f82dadd5437c0": {
      "model_module": "@jupyter-widgets/base",
      "model_module_version": "1.2.0",
      "model_name": "LayoutModel",
      "state": {}
     },
     "f3ffd7785aaa4b83ab6ca8f7348403cf": {
      "model_module": "@jupyter-widgets/base",
      "model_module_version": "1.2.0",
      "model_name": "LayoutModel",
      "state": {}
     },
     "f49ebf21dc67418286d40662df0f31b0": {
      "model_module": "@jupyter-widgets/controls",
      "model_module_version": "1.5.0",
      "model_name": "LabelModel",
      "state": {
       "layout": "IPY_MODEL_0a3f2c99bf7b4ded89e50ebe4f5e76ff",
       "style": "IPY_MODEL_be47e1c17c4140f2b482667765acb07d",
       "value": "linear"
      }
     },
     "f632cc4d2a8e4e76a323fb24a151ee56": {
      "model_module": "@jupyter-widgets/controls",
      "model_module_version": "1.5.0",
      "model_name": "ButtonStyleModel",
      "state": {
       "button_color": "GreenYellow"
      }
     },
     "f78694cee15d4f5eb452dff45a9f0cc3": {
      "model_module": "@jupyter-widgets/controls",
      "model_module_version": "1.5.0",
      "model_name": "DescriptionStyleModel",
      "state": {
       "description_width": ""
      }
     },
     "f7a803a730dd41b28520ca4589c13a4c": {
      "model_module": "@jupyter-widgets/base",
      "model_module_version": "1.2.0",
      "model_name": "LayoutModel",
      "state": {}
     },
     "f8eb956c54b64690822ce6f00010998d": {
      "model_module": "@jupyter-widgets/base",
      "model_module_version": "1.2.0",
      "model_name": "LayoutModel",
      "state": {
       "grid_area": "b5",
       "width": "auto"
      }
     },
     "f96e30bbfe9d4e7fb533516592be5290": {
      "model_module": "@jupyter-widgets/controls",
      "model_module_version": "1.5.0",
      "model_name": "DescriptionStyleModel",
      "state": {
       "description_width": ""
      }
     },
     "f98f734af0e44c97bcdf6ef19db84c8c": {
      "model_module": "@jupyter-widgets/base",
      "model_module_version": "1.2.0",
      "model_name": "LayoutModel",
      "state": {}
     },
     "f9fbe202941c46f88aa4021ba179bbe3": {
      "model_module": "@jupyter-widgets/controls",
      "model_module_version": "1.5.0",
      "model_name": "DescriptionStyleModel",
      "state": {
       "description_width": ""
      }
     },
     "fb2c47d1beb148589b3d2fba39da2f6c": {
      "model_module": "@jupyter-widgets/controls",
      "model_module_version": "1.5.0",
      "model_name": "LabelModel",
      "state": {
       "layout": "IPY_MODEL_331a116a46014fd5b0cadfe63d11087f",
       "style": "IPY_MODEL_3a78d0ee293042be8ecab54dcb38af61",
       "value": "y"
      }
     },
     "fb91f8999eb540cfa75974f772db6c5c": {
      "model_module": "@jupyter-widgets/base",
      "model_module_version": "1.2.0",
      "model_name": "LayoutModel",
      "state": {}
     },
     "fb988daa04434b75bf77a1c2a9804e8f": {
      "model_module": "@jupyter-widgets/controls",
      "model_module_version": "1.5.0",
      "model_name": "DescriptionStyleModel",
      "state": {
       "description_width": ""
      }
     },
     "fbe86e8b14d7420da8857b0f2543466e": {
      "model_module": "@jupyter-widgets/base",
      "model_module_version": "1.2.0",
      "model_name": "LayoutModel",
      "state": {
       "grid_area": "b8",
       "width": "auto"
      }
     },
     "fbfc5cb3760d4ef49e3855169defade1": {
      "model_module": "@jupyter-widgets/controls",
      "model_module_version": "1.5.0",
      "model_name": "ButtonModel",
      "state": {
       "description": "Send Message",
       "layout": "IPY_MODEL_24ef3ccb6a364377849f68758a782aec",
       "style": "IPY_MODEL_6ecb318d90934062a8e9ec003bcaa664"
      }
     },
     "fc0eb70d41ab469d8b19ec192f416877": {
      "model_module": "@jupyter-widgets/controls",
      "model_module_version": "1.5.0",
      "model_name": "ButtonStyleModel",
      "state": {
       "button_color": "GreenYellow"
      }
     },
     "fc32c589645e47fe984b27c6499fd232": {
      "model_module": "@jupyter-widgets/controls",
      "model_module_version": "1.5.0",
      "model_name": "ButtonStyleModel",
      "state": {
       "button_color": "lightblue"
      }
     },
     "fca4413afd1c4bf6b29beeb8a1bd86a6": {
      "model_module": "@jupyter-widgets/controls",
      "model_module_version": "1.5.0",
      "model_name": "ButtonStyleModel",
      "state": {
       "button_color": "GreenYellow"
      }
     },
     "fd31b1c4e9314e8c9615ba8a892f7bf1": {
      "model_module": "@jupyter-widgets/controls",
      "model_module_version": "1.5.0",
      "model_name": "ButtonModel",
      "state": {
       "description": "Send Goal",
       "layout": "IPY_MODEL_73d732493b0e4a4ab517968484e9b290",
       "style": "IPY_MODEL_3232398f67ca4968b0816e79cf2e8b2a"
      }
     },
     "fee6bcf82bb247b196e220ff889535f8": {
      "model_module": "@jupyter-widgets/controls",
      "model_module_version": "1.5.0",
      "model_name": "HBoxModel",
      "state": {
       "children": [
        "IPY_MODEL_4fde171c5e8e4584b3f002515ec59694",
        "IPY_MODEL_70342149a80247ffa9a819fa229511cc"
       ],
       "layout": "IPY_MODEL_e0d4fcc2cbc5489881d992cb98049441"
      }
     }
    },
    "version_major": 2,
    "version_minor": 0
   }
  }
 },
 "nbformat": 4,
 "nbformat_minor": 5
}
